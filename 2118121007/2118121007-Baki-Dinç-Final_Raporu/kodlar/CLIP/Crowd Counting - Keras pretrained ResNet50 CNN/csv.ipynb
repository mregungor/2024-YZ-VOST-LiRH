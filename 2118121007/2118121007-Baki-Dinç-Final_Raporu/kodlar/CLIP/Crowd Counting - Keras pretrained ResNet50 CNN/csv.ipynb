{
 "cells": [
  {
   "cell_type": "code",
   "execution_count": 24,
   "id": "ba88b176-92d8-4c6d-bfbd-3c39f83d98a7",
   "metadata": {},
   "outputs": [],
   "source": [
    "import os\n",
    "import pandas as pd\n",
    "\n",
    "# Klasördeki resim dosyalarını listele\n",
    "resim_klasoru = r\"C:\\Users\\bakiD\\OneDrive\\Masaüstü\\DATASET\\Train\\Mall_dataset\"  # Resim klasörünün yolu\n",
    "resimler = os.listdir(resim_klasoru)\n",
    "\n",
    "# DataFrame'i oluştur\n",
    "df = pd.DataFrame(columns=[\"id\", \"dosya_adi\"])\n",
    "\n",
    "# Resim dosyalarının bulunduğu klasörü belirtin\n",
    "klasor = r\"C:\\Users\\bakiD\\OneDrive\\Masaüstü\\DATASET\\Train\\Mall_dataset\"\n",
    "\n",
    "# Klasördeki dosyaları alın\n",
    "resimler = os.listdir(klasor)\n",
    "\n",
    "# Resim dosyaları için ID'leri ve dosya adlarını DataFrame'e ekle\n",
    "for i, dosya in enumerate(resimler, start=1):\n",
    "    if dosya.endswith(\".jpg\"):  # Sadece jpg dosyalarını dikkate al\n",
    "        df = pd.concat([df, pd.DataFrame({\"id\": [i], \"dosya_adi\": [dosya]})], ignore_index=True)\n",
    "\n",
    "# Dosya adlarına 'seq_' öneki ekleyin\n",
    "df['dosya_adi'] = 'seq_' + df['id'].astype(str).str.zfill(6) + '.jpg'\n",
    "\n",
    "# DataFrame'i CSV dosyası olarak kaydet\n",
    "df.to_csv(\"resimler5.csv\", index=False)\n"
   ]
  },
  {
   "cell_type": "code",
   "execution_count": null,
   "id": "4a11a20e-45a8-4795-ba1c-df7db8a89f04",
   "metadata": {},
   "outputs": [],
   "source": [
    "\n"
   ]
  },
  {
   "cell_type": "code",
   "execution_count": null,
   "id": "39617fe5-02d3-4a78-9be5-a72fd3acab43",
   "metadata": {},
   "outputs": [],
   "source": []
  }
 ],
 "metadata": {
  "kernelspec": {
   "display_name": "Python 3 (ipykernel)",
   "language": "python",
   "name": "python3"
  },
  "language_info": {
   "codemirror_mode": {
    "name": "ipython",
    "version": 3
   },
   "file_extension": ".py",
   "mimetype": "text/x-python",
   "name": "python",
   "nbconvert_exporter": "python",
   "pygments_lexer": "ipython3",
   "version": "3.11.7"
  }
 },
 "nbformat": 4,
 "nbformat_minor": 5
}
