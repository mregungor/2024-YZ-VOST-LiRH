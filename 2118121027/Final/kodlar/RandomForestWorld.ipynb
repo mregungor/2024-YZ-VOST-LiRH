{
 "cells": [
  {
   "cell_type": "code",
   "execution_count": 3,
   "id": "e359f459-cf95-4be6-b873-c83861fca41b",
   "metadata": {},
   "outputs": [],
   "source": [
    "import numpy as np\n",
    "import matplotlib.pyplot as plt\n",
    "import pandas as pd\n",
    "from sklearn.metrics import mean_squared_error, r2_score,r2_score,mean_absolute_error\n",
    "from sklearn.model_selection import train_test_split\n",
    "from sklearn.ensemble import RandomForestRegressor"
   ]
  },
  {
   "cell_type": "code",
   "execution_count": 4,
   "id": "7f1bc3e1-7ecf-4f5f-ab8d-3ea413a1067e",
   "metadata": {},
   "outputs": [
    {
     "data": {
      "text/html": [
       "<div>\n",
       "<style scoped>\n",
       "    .dataframe tbody tr th:only-of-type {\n",
       "        vertical-align: middle;\n",
       "    }\n",
       "\n",
       "    .dataframe tbody tr th {\n",
       "        vertical-align: top;\n",
       "    }\n",
       "\n",
       "    .dataframe thead th {\n",
       "        text-align: right;\n",
       "    }\n",
       "</style>\n",
       "<table border=\"1\" class=\"dataframe\">\n",
       "  <thead>\n",
       "    <tr style=\"text-align: right;\">\n",
       "      <th></th>\n",
       "      <th>iso_code</th>\n",
       "      <th>continent</th>\n",
       "      <th>location</th>\n",
       "      <th>date</th>\n",
       "      <th>total_cases</th>\n",
       "      <th>new_cases</th>\n",
       "      <th>new_cases_smoothed</th>\n",
       "      <th>total_deaths</th>\n",
       "      <th>new_deaths</th>\n",
       "      <th>new_deaths_smoothed</th>\n",
       "      <th>...</th>\n",
       "      <th>male_smokers</th>\n",
       "      <th>handwashing_facilities</th>\n",
       "      <th>hospital_beds_per_thousand</th>\n",
       "      <th>life_expectancy</th>\n",
       "      <th>human_development_index</th>\n",
       "      <th>population</th>\n",
       "      <th>excess_mortality_cumulative_absolute</th>\n",
       "      <th>excess_mortality_cumulative</th>\n",
       "      <th>excess_mortality</th>\n",
       "      <th>excess_mortality_cumulative_per_million</th>\n",
       "    </tr>\n",
       "  </thead>\n",
       "  <tbody>\n",
       "    <tr>\n",
       "      <th>0</th>\n",
       "      <td>AFG</td>\n",
       "      <td>Asia</td>\n",
       "      <td>Afghanistan</td>\n",
       "      <td>2020-01-05</td>\n",
       "      <td>NaN</td>\n",
       "      <td>0.0</td>\n",
       "      <td>0.0</td>\n",
       "      <td>NaN</td>\n",
       "      <td>0.0</td>\n",
       "      <td>NaN</td>\n",
       "      <td>...</td>\n",
       "      <td>NaN</td>\n",
       "      <td>37.746</td>\n",
       "      <td>0.5</td>\n",
       "      <td>64.83</td>\n",
       "      <td>0.511</td>\n",
       "      <td>41128772.0</td>\n",
       "      <td>NaN</td>\n",
       "      <td>NaN</td>\n",
       "      <td>NaN</td>\n",
       "      <td>NaN</td>\n",
       "    </tr>\n",
       "    <tr>\n",
       "      <th>1</th>\n",
       "      <td>AFG</td>\n",
       "      <td>Asia</td>\n",
       "      <td>Afghanistan</td>\n",
       "      <td>2020-01-06</td>\n",
       "      <td>NaN</td>\n",
       "      <td>0.0</td>\n",
       "      <td>0.0</td>\n",
       "      <td>NaN</td>\n",
       "      <td>0.0</td>\n",
       "      <td>NaN</td>\n",
       "      <td>...</td>\n",
       "      <td>NaN</td>\n",
       "      <td>37.746</td>\n",
       "      <td>0.5</td>\n",
       "      <td>64.83</td>\n",
       "      <td>0.511</td>\n",
       "      <td>41128772.0</td>\n",
       "      <td>NaN</td>\n",
       "      <td>NaN</td>\n",
       "      <td>NaN</td>\n",
       "      <td>NaN</td>\n",
       "    </tr>\n",
       "    <tr>\n",
       "      <th>2</th>\n",
       "      <td>AFG</td>\n",
       "      <td>Asia</td>\n",
       "      <td>Afghanistan</td>\n",
       "      <td>2020-01-07</td>\n",
       "      <td>NaN</td>\n",
       "      <td>0.0</td>\n",
       "      <td>0.0</td>\n",
       "      <td>NaN</td>\n",
       "      <td>0.0</td>\n",
       "      <td>NaN</td>\n",
       "      <td>...</td>\n",
       "      <td>NaN</td>\n",
       "      <td>37.746</td>\n",
       "      <td>0.5</td>\n",
       "      <td>64.83</td>\n",
       "      <td>0.511</td>\n",
       "      <td>41128772.0</td>\n",
       "      <td>NaN</td>\n",
       "      <td>NaN</td>\n",
       "      <td>NaN</td>\n",
       "      <td>NaN</td>\n",
       "    </tr>\n",
       "    <tr>\n",
       "      <th>3</th>\n",
       "      <td>AFG</td>\n",
       "      <td>Asia</td>\n",
       "      <td>Afghanistan</td>\n",
       "      <td>2020-01-08</td>\n",
       "      <td>NaN</td>\n",
       "      <td>0.0</td>\n",
       "      <td>0.0</td>\n",
       "      <td>NaN</td>\n",
       "      <td>0.0</td>\n",
       "      <td>NaN</td>\n",
       "      <td>...</td>\n",
       "      <td>NaN</td>\n",
       "      <td>37.746</td>\n",
       "      <td>0.5</td>\n",
       "      <td>64.83</td>\n",
       "      <td>0.511</td>\n",
       "      <td>41128772.0</td>\n",
       "      <td>NaN</td>\n",
       "      <td>NaN</td>\n",
       "      <td>NaN</td>\n",
       "      <td>NaN</td>\n",
       "    </tr>\n",
       "    <tr>\n",
       "      <th>4</th>\n",
       "      <td>AFG</td>\n",
       "      <td>Asia</td>\n",
       "      <td>Afghanistan</td>\n",
       "      <td>2020-01-09</td>\n",
       "      <td>NaN</td>\n",
       "      <td>0.0</td>\n",
       "      <td>0.0</td>\n",
       "      <td>NaN</td>\n",
       "      <td>0.0</td>\n",
       "      <td>NaN</td>\n",
       "      <td>...</td>\n",
       "      <td>NaN</td>\n",
       "      <td>37.746</td>\n",
       "      <td>0.5</td>\n",
       "      <td>64.83</td>\n",
       "      <td>0.511</td>\n",
       "      <td>41128772.0</td>\n",
       "      <td>NaN</td>\n",
       "      <td>NaN</td>\n",
       "      <td>NaN</td>\n",
       "      <td>NaN</td>\n",
       "    </tr>\n",
       "    <tr>\n",
       "      <th>5</th>\n",
       "      <td>AFG</td>\n",
       "      <td>Asia</td>\n",
       "      <td>Afghanistan</td>\n",
       "      <td>2020-01-10</td>\n",
       "      <td>NaN</td>\n",
       "      <td>0.0</td>\n",
       "      <td>0.0</td>\n",
       "      <td>NaN</td>\n",
       "      <td>0.0</td>\n",
       "      <td>0.0</td>\n",
       "      <td>...</td>\n",
       "      <td>NaN</td>\n",
       "      <td>37.746</td>\n",
       "      <td>0.5</td>\n",
       "      <td>64.83</td>\n",
       "      <td>0.511</td>\n",
       "      <td>41128772.0</td>\n",
       "      <td>NaN</td>\n",
       "      <td>NaN</td>\n",
       "      <td>NaN</td>\n",
       "      <td>NaN</td>\n",
       "    </tr>\n",
       "    <tr>\n",
       "      <th>6</th>\n",
       "      <td>AFG</td>\n",
       "      <td>Asia</td>\n",
       "      <td>Afghanistan</td>\n",
       "      <td>2020-01-11</td>\n",
       "      <td>NaN</td>\n",
       "      <td>0.0</td>\n",
       "      <td>0.0</td>\n",
       "      <td>NaN</td>\n",
       "      <td>0.0</td>\n",
       "      <td>0.0</td>\n",
       "      <td>...</td>\n",
       "      <td>NaN</td>\n",
       "      <td>37.746</td>\n",
       "      <td>0.5</td>\n",
       "      <td>64.83</td>\n",
       "      <td>0.511</td>\n",
       "      <td>41128772.0</td>\n",
       "      <td>NaN</td>\n",
       "      <td>NaN</td>\n",
       "      <td>NaN</td>\n",
       "      <td>NaN</td>\n",
       "    </tr>\n",
       "    <tr>\n",
       "      <th>7</th>\n",
       "      <td>AFG</td>\n",
       "      <td>Asia</td>\n",
       "      <td>Afghanistan</td>\n",
       "      <td>2020-01-12</td>\n",
       "      <td>NaN</td>\n",
       "      <td>0.0</td>\n",
       "      <td>0.0</td>\n",
       "      <td>NaN</td>\n",
       "      <td>0.0</td>\n",
       "      <td>0.0</td>\n",
       "      <td>...</td>\n",
       "      <td>NaN</td>\n",
       "      <td>37.746</td>\n",
       "      <td>0.5</td>\n",
       "      <td>64.83</td>\n",
       "      <td>0.511</td>\n",
       "      <td>41128772.0</td>\n",
       "      <td>NaN</td>\n",
       "      <td>NaN</td>\n",
       "      <td>NaN</td>\n",
       "      <td>NaN</td>\n",
       "    </tr>\n",
       "    <tr>\n",
       "      <th>8</th>\n",
       "      <td>AFG</td>\n",
       "      <td>Asia</td>\n",
       "      <td>Afghanistan</td>\n",
       "      <td>2020-01-13</td>\n",
       "      <td>NaN</td>\n",
       "      <td>0.0</td>\n",
       "      <td>0.0</td>\n",
       "      <td>NaN</td>\n",
       "      <td>0.0</td>\n",
       "      <td>0.0</td>\n",
       "      <td>...</td>\n",
       "      <td>NaN</td>\n",
       "      <td>37.746</td>\n",
       "      <td>0.5</td>\n",
       "      <td>64.83</td>\n",
       "      <td>0.511</td>\n",
       "      <td>41128772.0</td>\n",
       "      <td>NaN</td>\n",
       "      <td>NaN</td>\n",
       "      <td>NaN</td>\n",
       "      <td>NaN</td>\n",
       "    </tr>\n",
       "    <tr>\n",
       "      <th>9</th>\n",
       "      <td>AFG</td>\n",
       "      <td>Asia</td>\n",
       "      <td>Afghanistan</td>\n",
       "      <td>2020-01-14</td>\n",
       "      <td>NaN</td>\n",
       "      <td>0.0</td>\n",
       "      <td>0.0</td>\n",
       "      <td>NaN</td>\n",
       "      <td>0.0</td>\n",
       "      <td>0.0</td>\n",
       "      <td>...</td>\n",
       "      <td>NaN</td>\n",
       "      <td>37.746</td>\n",
       "      <td>0.5</td>\n",
       "      <td>64.83</td>\n",
       "      <td>0.511</td>\n",
       "      <td>41128772.0</td>\n",
       "      <td>NaN</td>\n",
       "      <td>NaN</td>\n",
       "      <td>NaN</td>\n",
       "      <td>NaN</td>\n",
       "    </tr>\n",
       "  </tbody>\n",
       "</table>\n",
       "<p>10 rows × 67 columns</p>\n",
       "</div>"
      ],
      "text/plain": [
       "  iso_code continent     location        date  total_cases  new_cases  \\\n",
       "0      AFG      Asia  Afghanistan  2020-01-05          NaN        0.0   \n",
       "1      AFG      Asia  Afghanistan  2020-01-06          NaN        0.0   \n",
       "2      AFG      Asia  Afghanistan  2020-01-07          NaN        0.0   \n",
       "3      AFG      Asia  Afghanistan  2020-01-08          NaN        0.0   \n",
       "4      AFG      Asia  Afghanistan  2020-01-09          NaN        0.0   \n",
       "5      AFG      Asia  Afghanistan  2020-01-10          NaN        0.0   \n",
       "6      AFG      Asia  Afghanistan  2020-01-11          NaN        0.0   \n",
       "7      AFG      Asia  Afghanistan  2020-01-12          NaN        0.0   \n",
       "8      AFG      Asia  Afghanistan  2020-01-13          NaN        0.0   \n",
       "9      AFG      Asia  Afghanistan  2020-01-14          NaN        0.0   \n",
       "\n",
       "   new_cases_smoothed  total_deaths  new_deaths  new_deaths_smoothed  ...  \\\n",
       "0                 0.0           NaN         0.0                  NaN  ...   \n",
       "1                 0.0           NaN         0.0                  NaN  ...   \n",
       "2                 0.0           NaN         0.0                  NaN  ...   \n",
       "3                 0.0           NaN         0.0                  NaN  ...   \n",
       "4                 0.0           NaN         0.0                  NaN  ...   \n",
       "5                 0.0           NaN         0.0                  0.0  ...   \n",
       "6                 0.0           NaN         0.0                  0.0  ...   \n",
       "7                 0.0           NaN         0.0                  0.0  ...   \n",
       "8                 0.0           NaN         0.0                  0.0  ...   \n",
       "9                 0.0           NaN         0.0                  0.0  ...   \n",
       "\n",
       "   male_smokers  handwashing_facilities  hospital_beds_per_thousand  \\\n",
       "0           NaN                  37.746                         0.5   \n",
       "1           NaN                  37.746                         0.5   \n",
       "2           NaN                  37.746                         0.5   \n",
       "3           NaN                  37.746                         0.5   \n",
       "4           NaN                  37.746                         0.5   \n",
       "5           NaN                  37.746                         0.5   \n",
       "6           NaN                  37.746                         0.5   \n",
       "7           NaN                  37.746                         0.5   \n",
       "8           NaN                  37.746                         0.5   \n",
       "9           NaN                  37.746                         0.5   \n",
       "\n",
       "   life_expectancy  human_development_index  population  \\\n",
       "0            64.83                    0.511  41128772.0   \n",
       "1            64.83                    0.511  41128772.0   \n",
       "2            64.83                    0.511  41128772.0   \n",
       "3            64.83                    0.511  41128772.0   \n",
       "4            64.83                    0.511  41128772.0   \n",
       "5            64.83                    0.511  41128772.0   \n",
       "6            64.83                    0.511  41128772.0   \n",
       "7            64.83                    0.511  41128772.0   \n",
       "8            64.83                    0.511  41128772.0   \n",
       "9            64.83                    0.511  41128772.0   \n",
       "\n",
       "   excess_mortality_cumulative_absolute  excess_mortality_cumulative  \\\n",
       "0                                   NaN                          NaN   \n",
       "1                                   NaN                          NaN   \n",
       "2                                   NaN                          NaN   \n",
       "3                                   NaN                          NaN   \n",
       "4                                   NaN                          NaN   \n",
       "5                                   NaN                          NaN   \n",
       "6                                   NaN                          NaN   \n",
       "7                                   NaN                          NaN   \n",
       "8                                   NaN                          NaN   \n",
       "9                                   NaN                          NaN   \n",
       "\n",
       "   excess_mortality  excess_mortality_cumulative_per_million  \n",
       "0               NaN                                      NaN  \n",
       "1               NaN                                      NaN  \n",
       "2               NaN                                      NaN  \n",
       "3               NaN                                      NaN  \n",
       "4               NaN                                      NaN  \n",
       "5               NaN                                      NaN  \n",
       "6               NaN                                      NaN  \n",
       "7               NaN                                      NaN  \n",
       "8               NaN                                      NaN  \n",
       "9               NaN                                      NaN  \n",
       "\n",
       "[10 rows x 67 columns]"
      ]
     },
     "execution_count": 4,
     "metadata": {},
     "output_type": "execute_result"
    }
   ],
   "source": [
    "veri = pd.read_csv(\"owid-covid-data.csv\")\n",
    "veri.loc[0:4,\"new_cases_smoothed\"]=0\n",
    "veri.head(10)"
   ]
  },
  {
   "cell_type": "code",
   "execution_count": 5,
   "id": "2d18731c-09b3-45c2-a6d9-5e7c50202a15",
   "metadata": {},
   "outputs": [
    {
     "name": "stdout",
     "output_type": "stream",
     "text": [
      "55322\n"
     ]
    }
   ],
   "source": [
    "df1=pd.DataFrame(veri)\n",
    "newCasesWorld = df1[['new_cases']]\n",
    "\n",
    "newCasesWorld = newCasesWorld[newCasesWorld.index % 7 == 0]\n",
    "newCasesWorld\n",
    "print(len(newCasesWorld))"
   ]
  },
  {
   "cell_type": "code",
   "execution_count": 6,
   "id": "aa03efcd-5dfc-475a-8b74-24bd9d55bb33",
   "metadata": {},
   "outputs": [
    {
     "name": "stdout",
     "output_type": "stream",
     "text": [
      "55322\n"
     ]
    },
    {
     "name": "stderr",
     "output_type": "stream",
     "text": [
      "C:\\Users\\Celal\\AppData\\Local\\Temp\\ipykernel_11752\\100169753.py:2: FutureWarning: A value is trying to be set on a copy of a DataFrame or Series through chained assignment using an inplace method.\n",
      "The behavior will change in pandas 3.0. This inplace method will never work because the intermediate object on which we are setting values always behaves as a copy.\n",
      "\n",
      "For example, when doing 'df[col].method(value, inplace=True)', try using 'df.method({col: value}, inplace=True)' or df[col] = df[col].method(value) instead, to perform the operation inplace on the original object.\n",
      "\n",
      "\n",
      "  df1['new_deaths'].fillna(y_mean, inplace=True)\n"
     ]
    }
   ],
   "source": [
    "y_mean = df1['new_deaths'].mean()\n",
    "df1['new_deaths'].fillna(y_mean, inplace=True)\n",
    "newDeathsWorld = df1[['new_deaths']]\n",
    "\n",
    "newDeathsWorld = newDeathsWorld[newDeathsWorld.index % 7 == 0]\n",
    "newDeathsWorld\n",
    "print(len(newDeathsWorld))"
   ]
  },
  {
   "cell_type": "code",
   "execution_count": 7,
   "id": "16c4f97b-3998-4751-a932-12b73cfde9c7",
   "metadata": {},
   "outputs": [
    {
     "name": "stdout",
     "output_type": "stream",
     "text": [
      "55322\n"
     ]
    }
   ],
   "source": [
    "newCasesSmoothedWorld = df1[['new_cases_smoothed']]\n",
    "\n",
    "newCasesSmoothedWorld = newCasesSmoothedWorld[newCasesSmoothedWorld.index % 7 == 0]\n",
    "newCasesSmoothedWorld\n",
    "print(len(newCasesSmoothedWorld))\n"
   ]
  },
  {
   "cell_type": "code",
   "execution_count": 8,
   "id": "fca4eae9-1dcc-452a-a408-953c989db530",
   "metadata": {},
   "outputs": [
    {
     "name": "stdout",
     "output_type": "stream",
     "text": [
      "55322\n"
     ]
    }
   ],
   "source": [
    "diabetesPrevalenceWorld = df1[['diabetes_prevalence']]\n",
    "\n",
    "diabetesPrevalenceWorld = diabetesPrevalenceWorld[diabetesPrevalenceWorld.index % 7 == 0]\n",
    "diabetesPrevalenceWorld\n",
    "print(len(diabetesPrevalenceWorld))\n"
   ]
  },
  {
   "cell_type": "code",
   "execution_count": 9,
   "id": "86b77f4f-a268-4afc-830c-7bd1843ccbd0",
   "metadata": {},
   "outputs": [
    {
     "name": "stdout",
     "output_type": "stream",
     "text": [
      "55322\n"
     ]
    }
   ],
   "source": [
    "cardiovascDeathRateWorld = df1[['cardiovasc_death_rate']]\n",
    "\n",
    "cardiovascDeathRateWorld = cardiovascDeathRateWorld[cardiovascDeathRateWorld.index % 7 == 0]\n",
    "cardiovascDeathRateWorld\n",
    "print(len(cardiovascDeathRateWorld))\n"
   ]
  },
  {
   "cell_type": "code",
   "execution_count": 10,
   "id": "ecb0bcaf-ee63-47fe-b85e-f86887072d7d",
   "metadata": {},
   "outputs": [
    {
     "name": "stdout",
     "output_type": "stream",
     "text": [
      "55322\n"
     ]
    }
   ],
   "source": [
    "populationWorld = df1[['population']]\n",
    "\n",
    "populationWorld = populationWorld[populationWorld.index % 7 == 0]\n",
    "populationWorld\n",
    "print(len(populationWorld))"
   ]
  },
  {
   "cell_type": "code",
   "execution_count": 11,
   "id": "41c6f834-41e0-4ec6-a196-822d8cc0d838",
   "metadata": {},
   "outputs": [],
   "source": [
    "X = np.column_stack((newCasesWorld, newCasesSmoothedWorld, diabetesPrevalenceWorld, cardiovascDeathRateWorld, populationWorld))\n"
   ]
  },
  {
   "cell_type": "code",
   "execution_count": 12,
   "id": "627b753e-aba8-4ff5-b3a1-b07b44658e0d",
   "metadata": {},
   "outputs": [
    {
     "name": "stdout",
     "output_type": "stream",
     "text": [
      "(55322, 1)\n"
     ]
    }
   ],
   "source": [
    "\n",
    "y =  (newDeathsWorld)\n",
    "print(y.shape)\n"
   ]
  },
  {
   "cell_type": "code",
   "execution_count": 13,
   "id": "6307213a-ca3d-416c-abed-4c9f535eb3d5",
   "metadata": {},
   "outputs": [],
   "source": [
    "from sklearn.model_selection import train_test_split\n",
    "X_train, X_test, y_train, y_test = train_test_split(X, y, test_size = 0.27, random_state = 4555)"
   ]
  },
  {
   "cell_type": "code",
   "execution_count": 14,
   "id": "b5bce49a-ce36-44f9-9e26-f1978dd865c2",
   "metadata": {},
   "outputs": [],
   "source": [
    "param_grid = {\n",
    "    'n_estimators': list(range(20, 200, 50)),\n",
    "    'max_depth': [10, 20]\n",
    "}"
   ]
  },
  {
   "cell_type": "code",
   "execution_count": 15,
   "id": "08ffb44c-70e9-440b-b667-f3b517a95b07",
   "metadata": {},
   "outputs": [
    {
     "name": "stderr",
     "output_type": "stream",
     "text": [
      "C:\\Users\\Celal\\AppData\\Local\\Programs\\Python\\Python311\\Lib\\site-packages\\sklearn\\base.py:1474: DataConversionWarning: A column-vector y was passed when a 1d array was expected. Please change the shape of y to (n_samples,), for example using ravel().\n",
      "  return fit_method(estimator, *args, **kwargs)\n",
      "C:\\Users\\Celal\\AppData\\Local\\Programs\\Python\\Python311\\Lib\\site-packages\\sklearn\\base.py:1474: DataConversionWarning: A column-vector y was passed when a 1d array was expected. Please change the shape of y to (n_samples,), for example using ravel().\n",
      "  return fit_method(estimator, *args, **kwargs)\n",
      "C:\\Users\\Celal\\AppData\\Local\\Programs\\Python\\Python311\\Lib\\site-packages\\sklearn\\base.py:1474: DataConversionWarning: A column-vector y was passed when a 1d array was expected. Please change the shape of y to (n_samples,), for example using ravel().\n",
      "  return fit_method(estimator, *args, **kwargs)\n",
      "C:\\Users\\Celal\\AppData\\Local\\Programs\\Python\\Python311\\Lib\\site-packages\\sklearn\\base.py:1474: DataConversionWarning: A column-vector y was passed when a 1d array was expected. Please change the shape of y to (n_samples,), for example using ravel().\n",
      "  return fit_method(estimator, *args, **kwargs)\n",
      "C:\\Users\\Celal\\AppData\\Local\\Programs\\Python\\Python311\\Lib\\site-packages\\sklearn\\base.py:1474: DataConversionWarning: A column-vector y was passed when a 1d array was expected. Please change the shape of y to (n_samples,), for example using ravel().\n",
      "  return fit_method(estimator, *args, **kwargs)\n",
      "C:\\Users\\Celal\\AppData\\Local\\Programs\\Python\\Python311\\Lib\\site-packages\\sklearn\\base.py:1474: DataConversionWarning: A column-vector y was passed when a 1d array was expected. Please change the shape of y to (n_samples,), for example using ravel().\n",
      "  return fit_method(estimator, *args, **kwargs)\n",
      "C:\\Users\\Celal\\AppData\\Local\\Programs\\Python\\Python311\\Lib\\site-packages\\sklearn\\base.py:1474: DataConversionWarning: A column-vector y was passed when a 1d array was expected. Please change the shape of y to (n_samples,), for example using ravel().\n",
      "  return fit_method(estimator, *args, **kwargs)\n",
      "C:\\Users\\Celal\\AppData\\Local\\Programs\\Python\\Python311\\Lib\\site-packages\\sklearn\\base.py:1474: DataConversionWarning: A column-vector y was passed when a 1d array was expected. Please change the shape of y to (n_samples,), for example using ravel().\n",
      "  return fit_method(estimator, *args, **kwargs)\n"
     ]
    },
    {
     "name": "stdout",
     "output_type": "stream",
     "text": [
      "En iyi parametreler: {'n_estimators': 20, 'max_depth': 10}\n",
      "En iyi skor: 179314.44718520797\n"
     ]
    }
   ],
   "source": [
    "best_score = float('inf')\n",
    "best_params = None\n",
    "for n_estimators in param_grid['n_estimators']:\n",
    "    for max_depth in param_grid['max_depth']:\n",
    "        \n",
    "        \n",
    "        model = RandomForestRegressor( n_estimators=n_estimators,max_depth=max_depth)  \n",
    "        \n",
    "        model.fit(X_train, y_train)\n",
    "        \n",
    "        \n",
    "        y_pred = model.predict(X_test)\n",
    "        mse = mean_squared_error(y_test, y_pred)\n",
    "        \n",
    "        \n",
    "        if mse < best_score:\n",
    "            best_score = mse\n",
    "            best_params = {'n_estimators': n_estimators, 'max_depth': max_depth}  \n",
    "print(\"En iyi parametreler:\", best_params)\n",
    "print(\"En iyi skor:\", best_score)"
   ]
  },
  {
   "cell_type": "code",
   "execution_count": 16,
   "id": "2844d134-ce1a-427f-bf7e-7a3068903cc4",
   "metadata": {},
   "outputs": [
    {
     "name": "stderr",
     "output_type": "stream",
     "text": [
      "C:\\Users\\Celal\\AppData\\Local\\Programs\\Python\\Python311\\Lib\\site-packages\\sklearn\\base.py:1474: DataConversionWarning: A column-vector y was passed when a 1d array was expected. Please change the shape of y to (n_samples,), for example using ravel().\n",
      "  return fit_method(estimator, *args, **kwargs)\n"
     ]
    },
    {
     "name": "stdout",
     "output_type": "stream",
     "text": [
      " eğitim için geçen süre: 12.69 saniye\n",
      "Train Başarısı = % 96.39250913175464\n",
      "Test Başarısı = % 67.87191980674281\n"
     ]
    }
   ],
   "source": [
    "import time\n",
    "rf=RandomForestRegressor( n_estimators=n_estimators,random_state=16,max_depth=max_depth)\n",
    "start_time = time.time()\n",
    "rf.fit(X_train,y_train )\n",
    "end_time = time.time()\n",
    "trainTime = end_time - start_time\n",
    "print(f\" eğitim için geçen süre: {trainTime:.2f} saniye\")\n",
    "print(\"Train Başarısı = %\",rf.score(X_train,y_train)*100)\n",
    "print(\"Test Başarısı = %\",rf.score(X_test,y_test)*100)"
   ]
  },
  {
   "cell_type": "code",
   "execution_count": 17,
   "id": "13201477-4b6f-4cf3-8480-d078cc069e4e",
   "metadata": {},
   "outputs": [],
   "source": [
    "y_pred = rf.predict(X_test)"
   ]
  },
  {
   "cell_type": "code",
   "execution_count": 18,
   "id": "c443c1d7-f981-4639-8033-2681fcab0567",
   "metadata": {},
   "outputs": [],
   "source": [
    "mse=mean_squared_error(y_test,y_pred)\n",
    "r2=r2_score(y_test,y_pred)\n",
    "mae=mean_absolute_error(y_test, y_pred)"
   ]
  },
  {
   "cell_type": "code",
   "execution_count": 19,
   "id": "21ed6a0b-939b-4b76-bb54-a108d6b0a8e3",
   "metadata": {},
   "outputs": [
    {
     "name": "stdout",
     "output_type": "stream",
     "text": [
      "mean squared error 190374.21837900576\n",
      "hata kareler 0.6787191980674281\n",
      "meanabsolute 27.852516156748003\n"
     ]
    }
   ],
   "source": [
    "print(\"mean squared error\",mse)\n",
    "print(\"hata kareler\",r2)\n",
    "print(\"meanabsolute\",mae)"
   ]
  },
  {
   "cell_type": "code",
   "execution_count": null,
   "id": "1a8426a5-e974-43ec-9503-3ec2c449274e",
   "metadata": {},
   "outputs": [],
   "source": []
  }
 ],
 "metadata": {
  "kernelspec": {
   "display_name": "Python 3 (ipykernel)",
   "language": "python",
   "name": "python3"
  },
  "language_info": {
   "codemirror_mode": {
    "name": "ipython",
    "version": 3
   },
   "file_extension": ".py",
   "mimetype": "text/x-python",
   "name": "python",
   "nbconvert_exporter": "python",
   "pygments_lexer": "ipython3",
   "version": "3.11.4"
  }
 },
 "nbformat": 4,
 "nbformat_minor": 5
}
