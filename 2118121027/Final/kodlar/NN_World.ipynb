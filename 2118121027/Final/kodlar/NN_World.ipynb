{
  "nbformat": 4,
  "nbformat_minor": 0,
  "metadata": {
    "colab": {
      "provenance": []
    },
    "kernelspec": {
      "name": "python3",
      "display_name": "Python 3"
    },
    "language_info": {
      "name": "python"
    }
  },
  "cells": [
    {
      "cell_type": "code",
      "execution_count": null,
      "metadata": {
        "id": "pxcP0Yzd3wdd",
        "colab": {
          "base_uri": "https://localhost:8080/"
        },
        "outputId": "0ad4570d-a0a4-4ee6-a91e-2cc47113246a"
      },
      "outputs": [
        {
          "output_type": "stream",
          "name": "stdout",
          "text": [
            "Mounted at /content/drive\n"
          ]
        }
      ],
      "source": [
        "from google.colab import drive\n",
        "drive.mount('/content/drive')"
      ]
    },
    {
      "cell_type": "code",
      "source": [
        "file_path = '/content/drive/My Drive/myData/owid-covid-data.csv'"
      ],
      "metadata": {
        "id": "wzsBaqeR-Igb"
      },
      "execution_count": null,
      "outputs": []
    },
    {
      "cell_type": "code",
      "source": [
        "import numpy as np\n",
        "import pandas as pd\n",
        "from sklearn.model_selection import train_test_split\n",
        "from scipy import stats\n",
        "from sklearn.metrics import mean_absolute_error, r2_score, mean_squared_error, accuracy_score, precision_score\n",
        "veri = pd.read_csv(file_path)"
      ],
      "metadata": {
        "id": "ZY3Su-Aj-O0T"
      },
      "execution_count": null,
      "outputs": []
    },
    {
      "cell_type": "code",
      "source": [
        "df1=pd.DataFrame(veri)\n",
        "y_mean = df1['new_cases'].mean()\n",
        "df1['new_cases'].fillna(y_mean, inplace=True)\n",
        "df1=pd.DataFrame(veri)\n",
        "newCasesWorld = df1[['new_cases']]\n",
        "\n",
        "newCasesWorld = newCasesWorld[newCasesWorld.index % 7 == 0]\n",
        "newCasesWorld\n",
        "print(len(newCasesWorld))"
      ],
      "metadata": {
        "colab": {
          "base_uri": "https://localhost:8080/"
        },
        "id": "zD72zbxQ-QxR",
        "outputId": "a22b56e7-11e5-44f8-cdbe-2866c3d0b3d2"
      },
      "execution_count": null,
      "outputs": [
        {
          "output_type": "stream",
          "name": "stdout",
          "text": [
            "55322\n"
          ]
        }
      ]
    },
    {
      "cell_type": "code",
      "source": [
        "y_mean = df1['new_deaths'].mean()\n",
        "df1['new_deaths'].fillna(y_mean, inplace=True)\n",
        "newDeathsWorld = df1[['new_deaths']]\n",
        "\n",
        "newDeathsWorld = newDeathsWorld[newDeathsWorld.index % 7 == 0]\n",
        "newDeathsWorld\n",
        "print(len(newDeathsWorld))"
      ],
      "metadata": {
        "colab": {
          "base_uri": "https://localhost:8080/"
        },
        "id": "1iLyD0qq-V5i",
        "outputId": "5c18f3f6-0887-4e88-911d-1bd8f3e90443"
      },
      "execution_count": null,
      "outputs": [
        {
          "output_type": "stream",
          "name": "stdout",
          "text": [
            "55322\n"
          ]
        }
      ]
    },
    {
      "cell_type": "code",
      "source": [
        "y_mean = df1['new_cases_smoothed'].mean()\n",
        "df1['new_cases_smoothed'].fillna(y_mean, inplace=True)\n",
        "newCasesSmoothedWorld = df1[['new_cases_smoothed']]\n",
        "\n",
        "\n",
        "newCasesSmoothedWorld = newCasesSmoothedWorld[newCasesSmoothedWorld.index % 7 == 0]\n",
        "newCasesSmoothedWorld\n",
        "print(len(newCasesSmoothedWorld))"
      ],
      "metadata": {
        "colab": {
          "base_uri": "https://localhost:8080/"
        },
        "id": "cFWh93rh-X2_",
        "outputId": "930f8b32-3993-4654-b21a-6db5427c7691"
      },
      "execution_count": null,
      "outputs": [
        {
          "output_type": "stream",
          "name": "stdout",
          "text": [
            "55322\n"
          ]
        }
      ]
    },
    {
      "cell_type": "code",
      "source": [
        "y_mean = df1['diabetes_prevalence'].mean()\n",
        "df1['diabetes_prevalence'].fillna(y_mean, inplace=True)\n",
        "\n",
        "diabetesPrevalenceWorld = df1[['diabetes_prevalence']]\n",
        "\n",
        "diabetesPrevalenceWorld = diabetesPrevalenceWorld[diabetesPrevalenceWorld.index % 7 == 0]\n",
        "diabetesPrevalenceWorld\n",
        "print(len(diabetesPrevalenceWorld))\n"
      ],
      "metadata": {
        "colab": {
          "base_uri": "https://localhost:8080/"
        },
        "id": "s-hdZXPF-Zvo",
        "outputId": "5f46cf8d-2564-4441-ef5e-382db1a1350b"
      },
      "execution_count": null,
      "outputs": [
        {
          "output_type": "stream",
          "name": "stdout",
          "text": [
            "55322\n"
          ]
        }
      ]
    },
    {
      "cell_type": "code",
      "source": [
        "\n",
        "y_mean = df1['cardiovasc_death_rate'].mean()\n",
        "df1['cardiovasc_death_rate'].fillna(y_mean, inplace=True)\n",
        "\n",
        "cardiovascDeathRateWorld = df1[['cardiovasc_death_rate']]\n",
        "\n",
        "cardiovascDeathRateWorld = cardiovascDeathRateWorld[cardiovascDeathRateWorld.index % 7 == 0]\n",
        "cardiovascDeathRateWorld\n",
        "print(len(cardiovascDeathRateWorld))"
      ],
      "metadata": {
        "colab": {
          "base_uri": "https://localhost:8080/"
        },
        "id": "HaXHMIQr-bJv",
        "outputId": "3fd9275a-7d5f-459b-9465-e3bdfa189cfa"
      },
      "execution_count": null,
      "outputs": [
        {
          "output_type": "stream",
          "name": "stdout",
          "text": [
            "55322\n"
          ]
        }
      ]
    },
    {
      "cell_type": "code",
      "source": [
        "y_mean = df1['population'].mean()\n",
        "df1['population'].fillna(y_mean, inplace=True)\n",
        "populationWorld = df1[['population']]\n",
        "\n",
        "populationWorld = populationWorld[populationWorld.index % 7 == 0]\n",
        "populationWorld\n",
        "print(len(populationWorld))"
      ],
      "metadata": {
        "colab": {
          "base_uri": "https://localhost:8080/"
        },
        "id": "MR2VcyLq-gAX",
        "outputId": "7b191551-8a1b-43b6-97c5-59b0ca7a1fa6"
      },
      "execution_count": null,
      "outputs": [
        {
          "output_type": "stream",
          "name": "stdout",
          "text": [
            "55322\n"
          ]
        }
      ]
    },
    {
      "cell_type": "code",
      "source": [
        "print(f\"X shape: {X.shape}\")\n",
        "print(f\"y shape: {y.shape}\")"
      ],
      "metadata": {
        "colab": {
          "base_uri": "https://localhost:8080/",
          "height": 161
        },
        "id": "f3CPTWx0GbIV",
        "outputId": "de6a2eb8-d744-4b4c-85ed-af0f04db8100"
      },
      "execution_count": null,
      "outputs": [
        {
          "output_type": "error",
          "ename": "NameError",
          "evalue": "name 'X' is not defined",
          "traceback": [
            "\u001b[0;31m---------------------------------------------------------------------------\u001b[0m",
            "\u001b[0;31mNameError\u001b[0m                                 Traceback (most recent call last)",
            "\u001b[0;32m<ipython-input-10-98566fb4862f>\u001b[0m in \u001b[0;36m<cell line: 1>\u001b[0;34m()\u001b[0m\n\u001b[0;32m----> 1\u001b[0;31m \u001b[0mprint\u001b[0m\u001b[0;34m(\u001b[0m\u001b[0;34mf\"X shape: {X.shape}\"\u001b[0m\u001b[0;34m)\u001b[0m\u001b[0;34m\u001b[0m\u001b[0;34m\u001b[0m\u001b[0m\n\u001b[0m\u001b[1;32m      2\u001b[0m \u001b[0mprint\u001b[0m\u001b[0;34m(\u001b[0m\u001b[0;34mf\"y shape: {y.shape}\"\u001b[0m\u001b[0;34m)\u001b[0m\u001b[0;34m\u001b[0m\u001b[0;34m\u001b[0m\u001b[0m\n",
            "\u001b[0;31mNameError\u001b[0m: name 'X' is not defined"
          ]
        }
      ]
    },
    {
      "cell_type": "code",
      "source": [
        "from sklearn.preprocessing import MinMaxScaler\n",
        "\n",
        "scaler=MinMaxScaler()\n",
        "newCasesWorld = newCasesWorld.values\n",
        "newCasesWorld = newCasesWorld.reshape(-1, 1)\n",
        "newCasesWorld = scaler.fit_transform(newCasesWorld)\n",
        "\n",
        "\n",
        "newCasesSmoothedWorld = newCasesSmoothedWorld.values\n",
        "newCasesSmoothedWorld = newCasesSmoothedWorld.reshape(-1, 1)\n",
        "newCasesSmoothedWorld = scaler.fit_transform(newCasesSmoothedWorld)\n",
        "\n",
        "\n",
        "diabetesPrevalenceWorld = diabetesPrevalenceWorld.values\n",
        "diabetesPrevalenceWorld = diabetesPrevalenceWorld.reshape(-1, 1)\n",
        "diabetesPrevalenceWorld = scaler.fit_transform(diabetesPrevalenceWorld)\n",
        "\n",
        "\n",
        "cardiovascDeathRateWorld = cardiovascDeathRateWorld.values\n",
        "cardiovascDeathRateWorld = cardiovascDeathRateWorld.reshape(-1, 1)\n",
        "cardiovascDeathRateWorld = scaler.fit_transform(cardiovascDeathRateWorld)\n",
        "\n",
        "\n",
        "populationWorld = populationWorld.values\n",
        "populationWorld = populationWorld.reshape(-1, 1)\n",
        "populationWorld = scaler.fit_transform(populationWorld)\n",
        "\n",
        "\n",
        "X = np.column_stack((newCasesWorld, newCasesSmoothedWorld, diabetesPrevalenceWorld, cardiovascDeathRateWorld, populationWorld))\n",
        "print(X.shape)\n",
        "\n",
        "\n",
        "y =  (newDeathsWorld)\n",
        "print(y.shape)\n",
        "#eğitim ve test veri setlerinin ayrılması\n",
        "X_train, X_test, y_train, y_test = train_test_split(X, y, test_size=0.3,random_state=44)\n",
        "\n",
        "y_train = np.array(y_train)\n",
        "y_test = np.array(y_test)\n",
        "y_train = scaler.fit_transform(y_train.reshape(-1, 1))\n",
        "y_test = scaler.fit_transform(y_test.reshape(-1, 1))\n",
        "print(len(X_test))\n",
        "print(len(X_train))"
      ],
      "metadata": {
        "colab": {
          "base_uri": "https://localhost:8080/"
        },
        "id": "_AcIRi0Q-htu",
        "outputId": "8d571f5e-10e1-43c9-c0e4-661644ff0e0e"
      },
      "execution_count": null,
      "outputs": [
        {
          "output_type": "stream",
          "name": "stdout",
          "text": [
            "(55322, 5)\n",
            "(55322, 1)\n",
            "16597\n",
            "38725\n"
          ]
        }
      ]
    },
    {
      "cell_type": "code",
      "source": [
        "import time\n",
        "from keras.models import Sequential\n",
        "from keras.layers import Dense\n",
        "import keras\n",
        "from keras.losses import binary_crossentropy"
      ],
      "metadata": {
        "id": "wMVc80hF_Qjv"
      },
      "execution_count": null,
      "outputs": []
    },
    {
      "cell_type": "code",
      "source": [
        "param_grid = {\n",
        "    'n_activation': (\"relu\",\"sigmoid\",\"tanh\")\n",
        "\n",
        "}"
      ],
      "metadata": {
        "id": "8BBAD7lV_Uc9"
      },
      "execution_count": null,
      "outputs": []
    },
    {
      "cell_type": "code",
      "source": [
        "best_score = float('inf')\n",
        "best_params = None\n",
        "\n",
        "for n_activation in param_grid['n_activation']:\n",
        "\n",
        "  siniflandirici = Sequential()\n",
        "  siniflandirici.add(Dense(units=6, activation=n_activation, input_dim=5))#ilk katman 5 giris\n",
        "  siniflandirici.add(Dense(units=6, activation=n_activation))\n",
        "  siniflandirici.add(Dense(units=6, activation=n_activation))\n",
        "  siniflandirici.add(Dense(units=6, activation=n_activation))\n",
        "  siniflandirici.add(Dense(units=6, activation=n_activation))\n",
        "  siniflandirici.add(Dense(units=6, activation=n_activation))\n",
        "  siniflandirici.add(Dense(units=6, activation=n_activation))\n",
        "  siniflandirici.add(Dense(units=1, activation=n_activation))  # Son katman, tek sınıf\n",
        "\n",
        "  siniflandirici.compile(optimizer='adam', loss=binary_crossentropy, metrics=['accuracy'])\n",
        "\n",
        "  siniflandirici.fit(X_train, y_train, batch_size=10, epochs=100)\n",
        "\n",
        "  Y_pred_Ysa = siniflandirici.predict(X_test)\n",
        "\n",
        "  mse=mean_squared_error(y_test, Y_pred_Ysa)\n",
        "\n",
        "  if mse < best_score:\n",
        "            best_score = mse\n",
        "            best_params = {'n_activation': n_activation}\n",
        "print(\"En iyi parametreler:\", best_params)\n",
        "\n",
        "print(\"En iyi skor:\", best_score)\n"
      ],
      "metadata": {
        "colab": {
          "base_uri": "https://localhost:8080/",
          "height": 214
        },
        "id": "ELVXinpJ_Wkh",
        "outputId": "3fdc7dd0-1d73-486f-b8fb-032bac515456"
      },
      "execution_count": null,
      "outputs": [
        {
          "output_type": "error",
          "ename": "NameError",
          "evalue": "name 'param_grid' is not defined",
          "traceback": [
            "\u001b[0;31m---------------------------------------------------------------------------\u001b[0m",
            "\u001b[0;31mNameError\u001b[0m                                 Traceback (most recent call last)",
            "\u001b[0;32m<ipython-input-1-90f54fa8ed7b>\u001b[0m in \u001b[0;36m<cell line: 4>\u001b[0;34m()\u001b[0m\n\u001b[1;32m      2\u001b[0m \u001b[0mbest_params\u001b[0m \u001b[0;34m=\u001b[0m \u001b[0;32mNone\u001b[0m\u001b[0;34m\u001b[0m\u001b[0;34m\u001b[0m\u001b[0m\n\u001b[1;32m      3\u001b[0m \u001b[0;34m\u001b[0m\u001b[0m\n\u001b[0;32m----> 4\u001b[0;31m \u001b[0;32mfor\u001b[0m \u001b[0mn_activation\u001b[0m \u001b[0;32min\u001b[0m \u001b[0mparam_grid\u001b[0m\u001b[0;34m[\u001b[0m\u001b[0;34m'n_activation'\u001b[0m\u001b[0;34m]\u001b[0m\u001b[0;34m:\u001b[0m\u001b[0;34m\u001b[0m\u001b[0;34m\u001b[0m\u001b[0m\n\u001b[0m\u001b[1;32m      5\u001b[0m \u001b[0;34m\u001b[0m\u001b[0m\n\u001b[1;32m      6\u001b[0m   \u001b[0msiniflandirici\u001b[0m \u001b[0;34m=\u001b[0m \u001b[0mSequential\u001b[0m\u001b[0;34m(\u001b[0m\u001b[0;34m)\u001b[0m\u001b[0;34m\u001b[0m\u001b[0;34m\u001b[0m\u001b[0m\n",
            "\u001b[0;31mNameError\u001b[0m: name 'param_grid' is not defined"
          ]
        }
      ]
    },
    {
      "cell_type": "code",
      "source": [
        "siniflandirici = Sequential()\n",
        "siniflandirici.add(Dense(units=6, activation=\"relu\", input_dim=5))#ilk katman 5 giris\n",
        "siniflandirici.add(Dense(units=6, activation=\"relu\"))\n",
        "siniflandirici.add(Dense(units=6, activation=\"relu\"))\n",
        "siniflandirici.add(Dense(units=6, activation=\"relu\"))\n",
        "siniflandirici.add(Dense(units=6, activation=\"relu\"))\n",
        "siniflandirici.add(Dense(units=6, activation=\"relu\"))\n",
        "siniflandirici.add(Dense(units=1, activation=\"relu\"))  # Son katman, tek sınıf\n",
        "siniflandirici.compile(optimizer='adam', loss='binary_crossentropy', metrics=['accuracy'])\n",
        "\n",
        "start_time = time.time()\n",
        "\n",
        "siniflandirici.fit(X_train, y_train, batch_size=10, epochs=100)\n",
        "\n",
        "end_time = time.time()\n",
        "\n",
        "# Bir epok için geçen süreyi hesapla\n",
        "epoch_time = end_time - start_time\n",
        "print(f\" eğitim için geçen süre: {epoch_time:.2f} saniye\")"
      ],
      "metadata": {
        "colab": {
          "base_uri": "https://localhost:8080/"
        },
        "id": "axOQSG2D_axg",
        "outputId": "721f5a0b-51cb-46a3-9ffc-2fdb5a626eaf"
      },
      "execution_count": null,
      "outputs": [
        {
          "output_type": "stream",
          "name": "stdout",
          "text": [
            "Epoch 1/100\n",
            "3873/3873 [==============================] - 11s 2ms/step - loss: 0.0135 - accuracy: 0.9015\n",
            "Epoch 2/100\n",
            "3873/3873 [==============================] - 7s 2ms/step - loss: 0.0100 - accuracy: 0.9015\n",
            "Epoch 3/100\n",
            "3873/3873 [==============================] - 9s 2ms/step - loss: 0.0080 - accuracy: 0.9015\n",
            "Epoch 4/100\n",
            "3873/3873 [==============================] - 7s 2ms/step - loss: 0.0106 - accuracy: 0.9015\n",
            "Epoch 5/100\n",
            "3873/3873 [==============================] - 10s 2ms/step - loss: 0.0084 - accuracy: 0.9015\n",
            "Epoch 6/100\n",
            "3873/3873 [==============================] - 7s 2ms/step - loss: 0.0086 - accuracy: 0.9015\n",
            "Epoch 7/100\n",
            "3873/3873 [==============================] - 9s 2ms/step - loss: 0.0078 - accuracy: 0.9015\n",
            "Epoch 8/100\n",
            "3873/3873 [==============================] - 8s 2ms/step - loss: 0.0082 - accuracy: 0.9015\n",
            "Epoch 9/100\n",
            "3873/3873 [==============================] - 8s 2ms/step - loss: 0.0072 - accuracy: 0.9015\n",
            "Epoch 10/100\n",
            "3873/3873 [==============================] - 9s 2ms/step - loss: 0.0086 - accuracy: 0.9015\n",
            "Epoch 11/100\n",
            "3873/3873 [==============================] - 8s 2ms/step - loss: 0.0079 - accuracy: 0.9015\n",
            "Epoch 12/100\n",
            "3873/3873 [==============================] - 9s 2ms/step - loss: 0.0073 - accuracy: 0.9015\n",
            "Epoch 13/100\n",
            "3873/3873 [==============================] - 7s 2ms/step - loss: 0.0076 - accuracy: 0.9015\n",
            "Epoch 14/100\n",
            "3873/3873 [==============================] - 9s 2ms/step - loss: 0.0073 - accuracy: 0.9015\n",
            "Epoch 15/100\n",
            "3873/3873 [==============================] - 7s 2ms/step - loss: 0.0073 - accuracy: 0.9015\n",
            "Epoch 16/100\n",
            "3873/3873 [==============================] - 9s 2ms/step - loss: 0.0071 - accuracy: 0.9015\n",
            "Epoch 17/100\n",
            "3873/3873 [==============================] - 9s 2ms/step - loss: 0.0133 - accuracy: 0.9015\n",
            "Epoch 18/100\n",
            "3873/3873 [==============================] - 9s 2ms/step - loss: 0.0235 - accuracy: 0.9015\n",
            "Epoch 19/100\n",
            "3873/3873 [==============================] - 8s 2ms/step - loss: 0.0235 - accuracy: 0.9015\n",
            "Epoch 20/100\n",
            "3873/3873 [==============================] - 8s 2ms/step - loss: 0.0235 - accuracy: 0.9015\n",
            "Epoch 21/100\n",
            "3873/3873 [==============================] - 9s 2ms/step - loss: 0.0235 - accuracy: 0.9015\n",
            "Epoch 22/100\n",
            "3873/3873 [==============================] - 7s 2ms/step - loss: 0.0235 - accuracy: 0.9015\n",
            "Epoch 23/100\n",
            "3873/3873 [==============================] - 9s 2ms/step - loss: 0.0235 - accuracy: 0.9015\n",
            "Epoch 24/100\n",
            "3873/3873 [==============================] - 7s 2ms/step - loss: 0.0235 - accuracy: 0.9015\n",
            "Epoch 25/100\n",
            "3873/3873 [==============================] - 9s 2ms/step - loss: 0.0235 - accuracy: 0.9015\n",
            "Epoch 26/100\n",
            "3873/3873 [==============================] - 7s 2ms/step - loss: 0.0235 - accuracy: 0.9015\n",
            "Epoch 27/100\n",
            "3873/3873 [==============================] - 9s 2ms/step - loss: 0.0235 - accuracy: 0.9015\n",
            "Epoch 28/100\n",
            "3873/3873 [==============================] - 8s 2ms/step - loss: 0.0235 - accuracy: 0.9015\n",
            "Epoch 29/100\n",
            "3873/3873 [==============================] - 8s 2ms/step - loss: 0.0235 - accuracy: 0.9015\n",
            "Epoch 30/100\n",
            "3873/3873 [==============================] - 9s 2ms/step - loss: 0.0235 - accuracy: 0.9015\n",
            "Epoch 31/100\n",
            "3873/3873 [==============================] - 8s 2ms/step - loss: 0.0235 - accuracy: 0.9015\n",
            "Epoch 32/100\n",
            "3873/3873 [==============================] - 9s 2ms/step - loss: 0.0235 - accuracy: 0.9015\n",
            "Epoch 33/100\n",
            "3873/3873 [==============================] - 7s 2ms/step - loss: 0.0235 - accuracy: 0.9015\n",
            "Epoch 34/100\n",
            "3873/3873 [==============================] - 9s 2ms/step - loss: 0.0235 - accuracy: 0.9015\n",
            "Epoch 35/100\n",
            "3873/3873 [==============================] - 10s 3ms/step - loss: 0.0235 - accuracy: 0.9015\n",
            "Epoch 36/100\n",
            "3873/3873 [==============================] - 10s 3ms/step - loss: 0.0235 - accuracy: 0.9015\n",
            "Epoch 37/100\n",
            "3873/3873 [==============================] - 10s 3ms/step - loss: 0.0235 - accuracy: 0.9015\n",
            "Epoch 38/100\n",
            "3873/3873 [==============================] - 7s 2ms/step - loss: 0.0235 - accuracy: 0.9015\n",
            "Epoch 39/100\n",
            "3873/3873 [==============================] - 9s 2ms/step - loss: 0.0235 - accuracy: 0.9015\n",
            "Epoch 40/100\n",
            "3873/3873 [==============================] - 7s 2ms/step - loss: 0.0235 - accuracy: 0.9015\n",
            "Epoch 41/100\n",
            "3873/3873 [==============================] - 9s 2ms/step - loss: 0.0235 - accuracy: 0.9015\n",
            "Epoch 42/100\n",
            "3873/3873 [==============================] - 8s 2ms/step - loss: 0.0235 - accuracy: 0.9015\n",
            "Epoch 43/100\n",
            "3873/3873 [==============================] - 9s 2ms/step - loss: 0.0235 - accuracy: 0.9015\n",
            "Epoch 44/100\n",
            "3873/3873 [==============================] - 9s 2ms/step - loss: 0.0235 - accuracy: 0.9015\n",
            "Epoch 45/100\n",
            "3873/3873 [==============================] - 8s 2ms/step - loss: 0.0235 - accuracy: 0.9015\n",
            "Epoch 46/100\n",
            "3873/3873 [==============================] - 9s 2ms/step - loss: 0.0235 - accuracy: 0.9015\n",
            "Epoch 47/100\n",
            "3873/3873 [==============================] - 7s 2ms/step - loss: 0.0235 - accuracy: 0.9015\n",
            "Epoch 48/100\n",
            "3873/3873 [==============================] - 9s 2ms/step - loss: 0.0235 - accuracy: 0.9015\n",
            "Epoch 49/100\n",
            "3873/3873 [==============================] - 7s 2ms/step - loss: 0.0235 - accuracy: 0.9015\n",
            "Epoch 50/100\n",
            "3873/3873 [==============================] - 9s 2ms/step - loss: 0.0235 - accuracy: 0.9015\n",
            "Epoch 51/100\n",
            "3873/3873 [==============================] - 8s 2ms/step - loss: 0.0235 - accuracy: 0.9015\n",
            "Epoch 52/100\n",
            "3873/3873 [==============================] - 9s 2ms/step - loss: 0.0235 - accuracy: 0.9015\n",
            "Epoch 53/100\n",
            "3873/3873 [==============================] - 9s 2ms/step - loss: 0.0235 - accuracy: 0.9015\n",
            "Epoch 54/100\n",
            "3873/3873 [==============================] - 8s 2ms/step - loss: 0.0235 - accuracy: 0.9015\n",
            "Epoch 55/100\n",
            "3873/3873 [==============================] - 9s 2ms/step - loss: 0.0235 - accuracy: 0.9015\n",
            "Epoch 56/100\n",
            "3873/3873 [==============================] - 9s 2ms/step - loss: 0.0235 - accuracy: 0.9015\n",
            "Epoch 57/100\n",
            "3873/3873 [==============================] - 9s 2ms/step - loss: 0.0235 - accuracy: 0.9015\n",
            "Epoch 58/100\n",
            "3873/3873 [==============================] - 8s 2ms/step - loss: 0.0235 - accuracy: 0.9015\n",
            "Epoch 59/100\n",
            "3873/3873 [==============================] - 8s 2ms/step - loss: 0.0235 - accuracy: 0.9015\n",
            "Epoch 60/100\n",
            "3873/3873 [==============================] - 9s 2ms/step - loss: 0.0235 - accuracy: 0.9015\n",
            "Epoch 61/100\n",
            "3873/3873 [==============================] - 7s 2ms/step - loss: 0.0235 - accuracy: 0.9015\n",
            "Epoch 62/100\n",
            "3873/3873 [==============================] - 9s 2ms/step - loss: 0.0235 - accuracy: 0.9015\n",
            "Epoch 63/100\n",
            "3873/3873 [==============================] - 7s 2ms/step - loss: 0.0235 - accuracy: 0.9015\n",
            "Epoch 64/100\n",
            "3873/3873 [==============================] - 9s 2ms/step - loss: 0.0235 - accuracy: 0.9015\n",
            "Epoch 65/100\n",
            "3873/3873 [==============================] - 8s 2ms/step - loss: 0.0235 - accuracy: 0.9015\n",
            "Epoch 66/100\n",
            "3873/3873 [==============================] - 9s 2ms/step - loss: 0.0235 - accuracy: 0.9015\n",
            "Epoch 67/100\n",
            "3873/3873 [==============================] - 9s 2ms/step - loss: 0.0235 - accuracy: 0.9015\n",
            "Epoch 68/100\n",
            "3873/3873 [==============================] - 8s 2ms/step - loss: 0.0235 - accuracy: 0.9015\n",
            "Epoch 69/100\n",
            "3873/3873 [==============================] - 9s 2ms/step - loss: 0.0235 - accuracy: 0.9015\n",
            "Epoch 70/100\n",
            "3873/3873 [==============================] - 8s 2ms/step - loss: 0.0235 - accuracy: 0.9015\n",
            "Epoch 71/100\n",
            "3873/3873 [==============================] - 9s 2ms/step - loss: 0.0235 - accuracy: 0.9015\n",
            "Epoch 72/100\n",
            "3873/3873 [==============================] - 7s 2ms/step - loss: 0.0235 - accuracy: 0.9015\n",
            "Epoch 73/100\n",
            "3873/3873 [==============================] - 9s 2ms/step - loss: 0.0235 - accuracy: 0.9015\n",
            "Epoch 74/100\n",
            "3873/3873 [==============================] - 8s 2ms/step - loss: 0.0235 - accuracy: 0.9015\n",
            "Epoch 75/100\n",
            "3873/3873 [==============================] - 10s 3ms/step - loss: 0.0235 - accuracy: 0.9015\n",
            "Epoch 76/100\n",
            "3873/3873 [==============================] - 9s 2ms/step - loss: 0.0235 - accuracy: 0.9015\n",
            "Epoch 77/100\n",
            "3873/3873 [==============================] - 7s 2ms/step - loss: 0.0235 - accuracy: 0.9015\n",
            "Epoch 78/100\n",
            "3873/3873 [==============================] - 9s 2ms/step - loss: 0.0235 - accuracy: 0.9015\n",
            "Epoch 79/100\n",
            "3873/3873 [==============================] - 8s 2ms/step - loss: 0.0235 - accuracy: 0.9015\n",
            "Epoch 80/100\n",
            "3873/3873 [==============================] - 9s 2ms/step - loss: 0.0235 - accuracy: 0.9015\n",
            "Epoch 81/100\n",
            "3873/3873 [==============================] - 8s 2ms/step - loss: 0.0235 - accuracy: 0.9015\n",
            "Epoch 82/100\n",
            "3873/3873 [==============================] - 8s 2ms/step - loss: 0.0235 - accuracy: 0.9015\n",
            "Epoch 83/100\n",
            "3873/3873 [==============================] - 9s 2ms/step - loss: 0.0235 - accuracy: 0.9015\n",
            "Epoch 84/100\n",
            "3873/3873 [==============================] - 7s 2ms/step - loss: 0.0235 - accuracy: 0.9015\n",
            "Epoch 85/100\n",
            "3873/3873 [==============================] - 9s 2ms/step - loss: 0.0235 - accuracy: 0.9015\n",
            "Epoch 86/100\n",
            "3873/3873 [==============================] - 7s 2ms/step - loss: 0.0235 - accuracy: 0.9015\n",
            "Epoch 87/100\n",
            "3873/3873 [==============================] - 9s 2ms/step - loss: 0.0235 - accuracy: 0.9015\n",
            "Epoch 88/100\n",
            "3873/3873 [==============================] - 8s 2ms/step - loss: 0.0235 - accuracy: 0.9015\n",
            "Epoch 89/100\n",
            "3873/3873 [==============================] - 9s 2ms/step - loss: 0.0235 - accuracy: 0.9015\n",
            "Epoch 90/100\n",
            "3873/3873 [==============================] - 8s 2ms/step - loss: 0.0235 - accuracy: 0.9015\n",
            "Epoch 91/100\n",
            "3873/3873 [==============================] - 8s 2ms/step - loss: 0.0235 - accuracy: 0.9015\n",
            "Epoch 92/100\n",
            "3873/3873 [==============================] - 9s 2ms/step - loss: 0.0235 - accuracy: 0.9015\n",
            "Epoch 93/100\n",
            "3873/3873 [==============================] - 7s 2ms/step - loss: 0.0235 - accuracy: 0.9015\n",
            "Epoch 94/100\n",
            "3873/3873 [==============================] - 11s 3ms/step - loss: 0.0235 - accuracy: 0.9015\n",
            "Epoch 95/100\n",
            "3873/3873 [==============================] - 8s 2ms/step - loss: 0.0235 - accuracy: 0.9015\n",
            "Epoch 96/100\n",
            "3873/3873 [==============================] - 9s 2ms/step - loss: 0.0235 - accuracy: 0.9015\n",
            "Epoch 97/100\n",
            "3873/3873 [==============================] - 9s 2ms/step - loss: 0.0235 - accuracy: 0.9015\n",
            "Epoch 98/100\n",
            "3873/3873 [==============================] - 8s 2ms/step - loss: 0.0235 - accuracy: 0.9015\n",
            "Epoch 99/100\n",
            "3873/3873 [==============================] - 9s 2ms/step - loss: 0.0235 - accuracy: 0.9015\n",
            "Epoch 100/100\n",
            "3873/3873 [==============================] - 8s 2ms/step - loss: 0.0235 - accuracy: 0.9015\n",
            " eğitim için geçen süre: 863.59 saniye\n"
          ]
        }
      ]
    },
    {
      "cell_type": "code",
      "source": [
        "Y_pred_Ysa = siniflandirici.predict(X_test)"
      ],
      "metadata": {
        "colab": {
          "base_uri": "https://localhost:8080/"
        },
        "id": "_1zY8IcNA8EN",
        "outputId": "557a2821-d562-4a8c-800e-d81ab1d7e9e9"
      },
      "execution_count": null,
      "outputs": [
        {
          "output_type": "stream",
          "name": "stdout",
          "text": [
            "519/519 [==============================] - 1s 1ms/step\n"
          ]
        }
      ]
    },
    {
      "cell_type": "code",
      "source": [
        "r2_score(y_test, Y_pred_Ysa)"
      ],
      "metadata": {
        "colab": {
          "base_uri": "https://localhost:8080/"
        },
        "id": "qlCIzxodBEP1",
        "outputId": "7b9c13bb-cc0c-407e-cbfb-89ad353763e3"
      },
      "execution_count": null,
      "outputs": [
        {
          "output_type": "execute_result",
          "data": {
            "text/plain": [
              "-0.005074110607006022"
            ]
          },
          "metadata": {},
          "execution_count": 15
        }
      ]
    },
    {
      "cell_type": "code",
      "source": [
        "mean_absolute_error(y_test, Y_pred_Ysa)"
      ],
      "metadata": {
        "id": "nzxWnkedBG-N",
        "colab": {
          "base_uri": "https://localhost:8080/"
        },
        "outputId": "a263aba1-2485-4654-9d5e-44865339fd34"
      },
      "execution_count": null,
      "outputs": [
        {
          "output_type": "execute_result",
          "data": {
            "text/plain": [
              "0.001681957608313802"
            ]
          },
          "metadata": {},
          "execution_count": 16
        }
      ]
    },
    {
      "cell_type": "code",
      "source": [
        "mean_squared_error(y_test, Y_pred_Ysa)"
      ],
      "metadata": {
        "id": "Aozehf13BJza",
        "colab": {
          "base_uri": "https://localhost:8080/"
        },
        "outputId": "da423231-0cb3-4bdf-b733-ef8f7555e0f2"
      },
      "execution_count": null,
      "outputs": [
        {
          "output_type": "execute_result",
          "data": {
            "text/plain": [
              "0.0005603614467426239"
            ]
          },
          "metadata": {},
          "execution_count": 17
        }
      ]
    },
    {
      "cell_type": "code",
      "source": [],
      "metadata": {
        "id": "2WfYN2gbBL31"
      },
      "execution_count": null,
      "outputs": []
    }
  ]
}