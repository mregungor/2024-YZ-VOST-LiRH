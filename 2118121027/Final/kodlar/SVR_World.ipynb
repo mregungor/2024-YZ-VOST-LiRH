{
  "nbformat": 4,
  "nbformat_minor": 0,
  "metadata": {
    "colab": {
      "provenance": []
    },
    "kernelspec": {
      "name": "python3",
      "display_name": "Python 3"
    },
    "language_info": {
      "name": "python"
    }
  },
  "cells": [
    {
      "cell_type": "code",
      "execution_count": null,
      "metadata": {
        "id": "euGdrkOP6CxV"
      },
      "outputs": [],
      "source": [
        "import numpy as np\n",
        "import matplotlib.pyplot as plt\n",
        "import pandas as pd"
      ]
    },
    {
      "cell_type": "code",
      "source": [
        "from google.colab import drive\n",
        "drive.mount('/content/drive')\n",
        "file_path = '/content/drive/My Drive/myData/owid-covid-data.csv'\n",
        "veri = pd.read_csv(file_path)"
      ],
      "metadata": {
        "colab": {
          "base_uri": "https://localhost:8080/"
        },
        "id": "E4qb-BXn6F9D",
        "outputId": "dea4995f-92ff-4f31-d819-50b9c19c3f5b"
      },
      "execution_count": null,
      "outputs": [
        {
          "output_type": "stream",
          "name": "stdout",
          "text": [
            "Drive already mounted at /content/drive; to attempt to forcibly remount, call drive.mount(\"/content/drive\", force_remount=True).\n"
          ]
        }
      ]
    },
    {
      "cell_type": "code",
      "source": [
        "df1=pd.DataFrame(veri)\n",
        "y_mean = df1['new_cases'].mean()\n",
        "df1['new_cases'].fillna(y_mean, inplace=True)\n",
        "df1=pd.DataFrame(veri)\n",
        "newCasesWorld = df1[['new_cases']]\n",
        "\n",
        "newCasesWorld = newCasesWorld[newCasesWorld.index % 7 == 0]\n",
        "newCasesWorld\n",
        "print(len(newCasesWorld))"
      ],
      "metadata": {
        "colab": {
          "base_uri": "https://localhost:8080/"
        },
        "id": "OVAkyCZt6bgh",
        "outputId": "3b8b4714-fd67-48bf-e4d7-6227d0ce4cc8"
      },
      "execution_count": null,
      "outputs": [
        {
          "output_type": "stream",
          "name": "stdout",
          "text": [
            "55322\n"
          ]
        }
      ]
    },
    {
      "cell_type": "code",
      "source": [
        "y_mean = df1['new_deaths'].mean()\n",
        "df1['new_deaths'].fillna(y_mean, inplace=True)\n",
        "newDeathsWorld = df1[['new_deaths']]\n",
        "\n",
        "newDeathsWorld = newDeathsWorld[newDeathsWorld.index % 7 == 0]\n",
        "newDeathsWorld\n",
        "print(len(newDeathsWorld))"
      ],
      "metadata": {
        "colab": {
          "base_uri": "https://localhost:8080/"
        },
        "id": "ZA5fiXQq78hL",
        "outputId": "1f63fb2a-f973-41ea-acf9-24eadac58dd4"
      },
      "execution_count": null,
      "outputs": [
        {
          "output_type": "stream",
          "name": "stdout",
          "text": [
            "55322\n"
          ]
        }
      ]
    },
    {
      "cell_type": "code",
      "source": [
        "y_mean = df1['new_cases_smoothed'].mean()\n",
        "df1['new_cases_smoothed'].fillna(y_mean, inplace=True)\n",
        "newCasesSmoothedWorld = df1[['new_cases_smoothed']]\n",
        "\n",
        "\n",
        "newCasesSmoothedWorld = newCasesSmoothedWorld[newCasesSmoothedWorld.index % 7 == 0]\n",
        "newCasesSmoothedWorld\n",
        "print(len(newCasesSmoothedWorld))"
      ],
      "metadata": {
        "colab": {
          "base_uri": "https://localhost:8080/"
        },
        "id": "9WcQWtgW7_X7",
        "outputId": "25e6e678-1a3c-4ed6-faf6-c2e85bf99cc3"
      },
      "execution_count": null,
      "outputs": [
        {
          "output_type": "stream",
          "name": "stdout",
          "text": [
            "55322\n"
          ]
        }
      ]
    },
    {
      "cell_type": "code",
      "source": [
        "y_mean = df1['diabetes_prevalence'].mean()\n",
        "df1['diabetes_prevalence'].fillna(y_mean, inplace=True)\n",
        "\n",
        "diabetesPrevalenceWorld = df1[['diabetes_prevalence']]\n",
        "\n",
        "diabetesPrevalenceWorld = diabetesPrevalenceWorld[diabetesPrevalenceWorld.index % 7 == 0]\n",
        "diabetesPrevalenceWorld\n",
        "print(len(diabetesPrevalenceWorld))"
      ],
      "metadata": {
        "colab": {
          "base_uri": "https://localhost:8080/"
        },
        "id": "XDD-z9DI8B1R",
        "outputId": "03977f04-9255-41c5-9abb-336d785cd1f5"
      },
      "execution_count": null,
      "outputs": [
        {
          "output_type": "stream",
          "name": "stdout",
          "text": [
            "55322\n"
          ]
        }
      ]
    },
    {
      "cell_type": "code",
      "source": [
        "y_mean = df1['cardiovasc_death_rate'].mean()\n",
        "df1['cardiovasc_death_rate'].fillna(y_mean, inplace=True)\n",
        "\n",
        "cardiovascDeathRateWorld = df1[['cardiovasc_death_rate']]\n",
        "\n",
        "cardiovascDeathRateWorld = cardiovascDeathRateWorld[cardiovascDeathRateWorld.index % 7 == 0]\n",
        "cardiovascDeathRateWorld\n",
        "print(len(cardiovascDeathRateWorld))"
      ],
      "metadata": {
        "colab": {
          "base_uri": "https://localhost:8080/"
        },
        "id": "17u5q-Lh8D6p",
        "outputId": "020a2463-77ff-46ab-8e9b-ce9abd6b206b"
      },
      "execution_count": null,
      "outputs": [
        {
          "output_type": "stream",
          "name": "stdout",
          "text": [
            "55322\n"
          ]
        }
      ]
    },
    {
      "cell_type": "code",
      "source": [
        "y_mean = df1['population'].mean()\n",
        "df1['population'].fillna(y_mean, inplace=True)\n",
        "populationWorld = df1[['population']]\n",
        "\n",
        "populationWorld = populationWorld[populationWorld.index % 7 == 0]\n",
        "populationWorld\n",
        "print(len(populationWorld))"
      ],
      "metadata": {
        "colab": {
          "base_uri": "https://localhost:8080/"
        },
        "id": "mei_Wc8A8F-I",
        "outputId": "1cedb293-1552-4ca9-9a56-5090c103047f"
      },
      "execution_count": null,
      "outputs": [
        {
          "output_type": "stream",
          "name": "stdout",
          "text": [
            "55322\n"
          ]
        }
      ]
    },
    {
      "cell_type": "code",
      "source": [
        "from sklearn.preprocessing import MinMaxScaler\n",
        "from sklearn.model_selection import train_test_split\n",
        "scaler=MinMaxScaler()\n",
        "newCasesWorld = newCasesWorld.values\n",
        "newCasesWorld = newCasesWorld.reshape(-1, 1)\n",
        "newCasesWorld = scaler.fit_transform(newCasesWorld)\n",
        "\n",
        "\n",
        "newCasesSmoothedWorld = newCasesSmoothedWorld.values\n",
        "newCasesSmoothedWorld = newCasesSmoothedWorld.reshape(-1, 1)\n",
        "newCasesSmoothedWorld = scaler.fit_transform(newCasesSmoothedWorld)\n",
        "\n",
        "\n",
        "diabetesPrevalenceWorld = diabetesPrevalenceWorld.values\n",
        "diabetesPrevalenceWorld = diabetesPrevalenceWorld.reshape(-1, 1)\n",
        "diabetesPrevalenceWorld = scaler.fit_transform(diabetesPrevalenceWorld)\n",
        "\n",
        "\n",
        "cardiovascDeathRateWorld = cardiovascDeathRateWorld.values\n",
        "cardiovascDeathRateWorld = cardiovascDeathRateWorld.reshape(-1, 1)\n",
        "cardiovascDeathRateWorld = scaler.fit_transform(cardiovascDeathRateWorld)\n",
        "\n",
        "\n",
        "populationWorld = populationWorld.values\n",
        "populationWorld = populationWorld.reshape(-1, 1)\n",
        "populationWorld = scaler.fit_transform(populationWorld)\n",
        "\n",
        "\n",
        "X = np.column_stack((newCasesWorld, newCasesSmoothedWorld, diabetesPrevalenceWorld, cardiovascDeathRateWorld, populationWorld))\n",
        "print(X.shape)\n",
        "\n",
        "\n",
        "y =  (newDeathsWorld)\n",
        "print(y.shape)\n",
        "#eğitim ve test veri setlerinin ayrılması\n",
        "X_train, X_test, y_train, y_test = train_test_split(X, y, test_size=0.3,random_state=44)\n",
        "\n",
        "y_train = np.array(y_train)\n",
        "y_test = np.array(y_test)\n",
        "y_train = scaler.fit_transform(y_train.reshape(-1, 1))\n",
        "y_test = scaler.fit_transform(y_test.reshape(-1, 1))\n",
        "print(len(X_test))\n",
        "print(len(X_train))"
      ],
      "metadata": {
        "colab": {
          "base_uri": "https://localhost:8080/"
        },
        "id": "ElRy6cLa8KEW",
        "outputId": "a0dc4dc6-4f06-452b-e0d4-0e69f2c57f7a"
      },
      "execution_count": null,
      "outputs": [
        {
          "output_type": "stream",
          "name": "stdout",
          "text": [
            "(55322, 5)\n",
            "(55322, 1)\n",
            "16597\n",
            "38725\n"
          ]
        }
      ]
    },
    {
      "cell_type": "code",
      "source": [
        "import time\n",
        "from sklearn.svm import SVR\n",
        "svr=SVR(kernel='rbf')#linear,rbf,poly,sigmoid\n",
        "\n",
        "start_time = time.time()\n",
        "\n",
        "svr.fit(X_train,y_train)#X den Y öğren\n",
        "\n",
        "end_time = time.time()\n",
        "\n",
        "# Bir epok için geçen süreyi hesapla\n",
        "trainTime = end_time - start_time\n",
        "print(f\" eğitim için geçen süre: {trainTime:.2f} saniye\")"
      ],
      "metadata": {
        "colab": {
          "base_uri": "https://localhost:8080/"
        },
        "id": "zdBzkSR08eKr",
        "outputId": "0395e6f6-f659-4c1b-e02b-a08a567d30f8"
      },
      "execution_count": null,
      "outputs": [
        {
          "output_type": "stream",
          "name": "stderr",
          "text": [
            "/usr/local/lib/python3.10/dist-packages/sklearn/utils/validation.py:1143: DataConversionWarning: A column-vector y was passed when a 1d array was expected. Please change the shape of y to (n_samples, ), for example using ravel().\n",
            "  y = column_or_1d(y, warn=True)\n"
          ]
        },
        {
          "output_type": "stream",
          "name": "stdout",
          "text": [
            " eğitim için geçen süre: 1.82 saniye\n"
          ]
        }
      ]
    },
    {
      "cell_type": "code",
      "source": [
        "# Eğitim setindeki tahminler\n",
        "y_train_pred = svr.predict(X_train)\n",
        "# Test setindeki tahminler\n",
        "y_test_pred = svr.predict(X_test)\n"
      ],
      "metadata": {
        "id": "n42Lh-SP9Cv_"
      },
      "execution_count": null,
      "outputs": []
    },
    {
      "cell_type": "code",
      "source": [
        "from sklearn.metrics import mean_absolute_error, mean_squared_error\n",
        "\n",
        "\n",
        "mean_absolute_error(y_test, y_test_pred)\n",
        "\n",
        "\n"
      ],
      "metadata": {
        "colab": {
          "base_uri": "https://localhost:8080/"
        },
        "id": "plhsYKRDDI6o",
        "outputId": "6d21dcec-1712-46e8-a9f9-44ea62df26f4"
      },
      "execution_count": null,
      "outputs": [
        {
          "output_type": "execute_result",
          "data": {
            "text/plain": [
              "0.050290505714706814"
            ]
          },
          "metadata": {},
          "execution_count": 62
        }
      ]
    },
    {
      "cell_type": "code",
      "source": [
        "mean_squared_error(y_test, y_test_pred)"
      ],
      "metadata": {
        "colab": {
          "base_uri": "https://localhost:8080/"
        },
        "id": "Gwy3_yDVEaKk",
        "outputId": "57f237d3-9b65-4716-b2ed-dceb50a43719"
      },
      "execution_count": null,
      "outputs": [
        {
          "output_type": "execute_result",
          "data": {
            "text/plain": [
              "0.003308025550577792"
            ]
          },
          "metadata": {},
          "execution_count": 59
        }
      ]
    },
    {
      "cell_type": "code",
      "source": [],
      "metadata": {
        "id": "s0htXnv4FKzx"
      },
      "execution_count": null,
      "outputs": []
    }
  ]
}