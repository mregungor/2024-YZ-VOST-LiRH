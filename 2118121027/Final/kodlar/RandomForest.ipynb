{
 "cells": [
  {
   "cell_type": "code",
   "execution_count": 51,
   "id": "4a66e9da-f603-489a-a4aa-3ae4ee4afa38",
   "metadata": {},
   "outputs": [],
   "source": [
    "import numpy as np\n",
    "import matplotlib.pyplot as plt\n",
    "import pandas as pd\n",
    "from sklearn.metrics import mean_squared_error, r2_score,mean_absolute_error\n",
    "from sklearn.model_selection import train_test_split\n",
    "from sklearn.ensemble import RandomForestRegressor"
   ]
  },
  {
   "cell_type": "code",
   "execution_count": 26,
   "id": "2d18aef8-fc2f-4dcf-9459-19f3f9ae8ede",
   "metadata": {},
   "outputs": [
    {
     "data": {
      "text/html": [
       "<div>\n",
       "<style scoped>\n",
       "    .dataframe tbody tr th:only-of-type {\n",
       "        vertical-align: middle;\n",
       "    }\n",
       "\n",
       "    .dataframe tbody tr th {\n",
       "        vertical-align: top;\n",
       "    }\n",
       "\n",
       "    .dataframe thead th {\n",
       "        text-align: right;\n",
       "    }\n",
       "</style>\n",
       "<table border=\"1\" class=\"dataframe\">\n",
       "  <thead>\n",
       "    <tr style=\"text-align: right;\">\n",
       "      <th></th>\n",
       "      <th>iso_code</th>\n",
       "      <th>continent</th>\n",
       "      <th>location</th>\n",
       "      <th>date</th>\n",
       "      <th>total_cases</th>\n",
       "      <th>new_cases</th>\n",
       "      <th>new_cases_smoothed</th>\n",
       "      <th>total_deaths</th>\n",
       "      <th>new_deaths</th>\n",
       "      <th>new_deaths_smoothed</th>\n",
       "      <th>...</th>\n",
       "      <th>male_smokers</th>\n",
       "      <th>handwashing_facilities</th>\n",
       "      <th>hospital_beds_per_thousand</th>\n",
       "      <th>life_expectancy</th>\n",
       "      <th>human_development_index</th>\n",
       "      <th>population</th>\n",
       "      <th>excess_mortality_cumulative_absolute</th>\n",
       "      <th>excess_mortality_cumulative</th>\n",
       "      <th>excess_mortality</th>\n",
       "      <th>excess_mortality_cumulative_per_million</th>\n",
       "    </tr>\n",
       "  </thead>\n",
       "  <tbody>\n",
       "    <tr>\n",
       "      <th>0</th>\n",
       "      <td>AFG</td>\n",
       "      <td>Asia</td>\n",
       "      <td>Afghanistan</td>\n",
       "      <td>2020-01-05</td>\n",
       "      <td>NaN</td>\n",
       "      <td>0.0</td>\n",
       "      <td>0.0</td>\n",
       "      <td>NaN</td>\n",
       "      <td>0.0</td>\n",
       "      <td>NaN</td>\n",
       "      <td>...</td>\n",
       "      <td>NaN</td>\n",
       "      <td>37.746</td>\n",
       "      <td>0.5</td>\n",
       "      <td>64.83</td>\n",
       "      <td>0.511</td>\n",
       "      <td>41128772.0</td>\n",
       "      <td>NaN</td>\n",
       "      <td>NaN</td>\n",
       "      <td>NaN</td>\n",
       "      <td>NaN</td>\n",
       "    </tr>\n",
       "    <tr>\n",
       "      <th>1</th>\n",
       "      <td>AFG</td>\n",
       "      <td>Asia</td>\n",
       "      <td>Afghanistan</td>\n",
       "      <td>2020-01-06</td>\n",
       "      <td>NaN</td>\n",
       "      <td>0.0</td>\n",
       "      <td>0.0</td>\n",
       "      <td>NaN</td>\n",
       "      <td>0.0</td>\n",
       "      <td>NaN</td>\n",
       "      <td>...</td>\n",
       "      <td>NaN</td>\n",
       "      <td>37.746</td>\n",
       "      <td>0.5</td>\n",
       "      <td>64.83</td>\n",
       "      <td>0.511</td>\n",
       "      <td>41128772.0</td>\n",
       "      <td>NaN</td>\n",
       "      <td>NaN</td>\n",
       "      <td>NaN</td>\n",
       "      <td>NaN</td>\n",
       "    </tr>\n",
       "    <tr>\n",
       "      <th>2</th>\n",
       "      <td>AFG</td>\n",
       "      <td>Asia</td>\n",
       "      <td>Afghanistan</td>\n",
       "      <td>2020-01-07</td>\n",
       "      <td>NaN</td>\n",
       "      <td>0.0</td>\n",
       "      <td>0.0</td>\n",
       "      <td>NaN</td>\n",
       "      <td>0.0</td>\n",
       "      <td>NaN</td>\n",
       "      <td>...</td>\n",
       "      <td>NaN</td>\n",
       "      <td>37.746</td>\n",
       "      <td>0.5</td>\n",
       "      <td>64.83</td>\n",
       "      <td>0.511</td>\n",
       "      <td>41128772.0</td>\n",
       "      <td>NaN</td>\n",
       "      <td>NaN</td>\n",
       "      <td>NaN</td>\n",
       "      <td>NaN</td>\n",
       "    </tr>\n",
       "    <tr>\n",
       "      <th>3</th>\n",
       "      <td>AFG</td>\n",
       "      <td>Asia</td>\n",
       "      <td>Afghanistan</td>\n",
       "      <td>2020-01-08</td>\n",
       "      <td>NaN</td>\n",
       "      <td>0.0</td>\n",
       "      <td>0.0</td>\n",
       "      <td>NaN</td>\n",
       "      <td>0.0</td>\n",
       "      <td>NaN</td>\n",
       "      <td>...</td>\n",
       "      <td>NaN</td>\n",
       "      <td>37.746</td>\n",
       "      <td>0.5</td>\n",
       "      <td>64.83</td>\n",
       "      <td>0.511</td>\n",
       "      <td>41128772.0</td>\n",
       "      <td>NaN</td>\n",
       "      <td>NaN</td>\n",
       "      <td>NaN</td>\n",
       "      <td>NaN</td>\n",
       "    </tr>\n",
       "    <tr>\n",
       "      <th>4</th>\n",
       "      <td>AFG</td>\n",
       "      <td>Asia</td>\n",
       "      <td>Afghanistan</td>\n",
       "      <td>2020-01-09</td>\n",
       "      <td>NaN</td>\n",
       "      <td>0.0</td>\n",
       "      <td>0.0</td>\n",
       "      <td>NaN</td>\n",
       "      <td>0.0</td>\n",
       "      <td>NaN</td>\n",
       "      <td>...</td>\n",
       "      <td>NaN</td>\n",
       "      <td>37.746</td>\n",
       "      <td>0.5</td>\n",
       "      <td>64.83</td>\n",
       "      <td>0.511</td>\n",
       "      <td>41128772.0</td>\n",
       "      <td>NaN</td>\n",
       "      <td>NaN</td>\n",
       "      <td>NaN</td>\n",
       "      <td>NaN</td>\n",
       "    </tr>\n",
       "    <tr>\n",
       "      <th>5</th>\n",
       "      <td>AFG</td>\n",
       "      <td>Asia</td>\n",
       "      <td>Afghanistan</td>\n",
       "      <td>2020-01-10</td>\n",
       "      <td>NaN</td>\n",
       "      <td>0.0</td>\n",
       "      <td>0.0</td>\n",
       "      <td>NaN</td>\n",
       "      <td>0.0</td>\n",
       "      <td>0.0</td>\n",
       "      <td>...</td>\n",
       "      <td>NaN</td>\n",
       "      <td>37.746</td>\n",
       "      <td>0.5</td>\n",
       "      <td>64.83</td>\n",
       "      <td>0.511</td>\n",
       "      <td>41128772.0</td>\n",
       "      <td>NaN</td>\n",
       "      <td>NaN</td>\n",
       "      <td>NaN</td>\n",
       "      <td>NaN</td>\n",
       "    </tr>\n",
       "    <tr>\n",
       "      <th>6</th>\n",
       "      <td>AFG</td>\n",
       "      <td>Asia</td>\n",
       "      <td>Afghanistan</td>\n",
       "      <td>2020-01-11</td>\n",
       "      <td>NaN</td>\n",
       "      <td>0.0</td>\n",
       "      <td>0.0</td>\n",
       "      <td>NaN</td>\n",
       "      <td>0.0</td>\n",
       "      <td>0.0</td>\n",
       "      <td>...</td>\n",
       "      <td>NaN</td>\n",
       "      <td>37.746</td>\n",
       "      <td>0.5</td>\n",
       "      <td>64.83</td>\n",
       "      <td>0.511</td>\n",
       "      <td>41128772.0</td>\n",
       "      <td>NaN</td>\n",
       "      <td>NaN</td>\n",
       "      <td>NaN</td>\n",
       "      <td>NaN</td>\n",
       "    </tr>\n",
       "    <tr>\n",
       "      <th>7</th>\n",
       "      <td>AFG</td>\n",
       "      <td>Asia</td>\n",
       "      <td>Afghanistan</td>\n",
       "      <td>2020-01-12</td>\n",
       "      <td>NaN</td>\n",
       "      <td>0.0</td>\n",
       "      <td>0.0</td>\n",
       "      <td>NaN</td>\n",
       "      <td>0.0</td>\n",
       "      <td>0.0</td>\n",
       "      <td>...</td>\n",
       "      <td>NaN</td>\n",
       "      <td>37.746</td>\n",
       "      <td>0.5</td>\n",
       "      <td>64.83</td>\n",
       "      <td>0.511</td>\n",
       "      <td>41128772.0</td>\n",
       "      <td>NaN</td>\n",
       "      <td>NaN</td>\n",
       "      <td>NaN</td>\n",
       "      <td>NaN</td>\n",
       "    </tr>\n",
       "    <tr>\n",
       "      <th>8</th>\n",
       "      <td>AFG</td>\n",
       "      <td>Asia</td>\n",
       "      <td>Afghanistan</td>\n",
       "      <td>2020-01-13</td>\n",
       "      <td>NaN</td>\n",
       "      <td>0.0</td>\n",
       "      <td>0.0</td>\n",
       "      <td>NaN</td>\n",
       "      <td>0.0</td>\n",
       "      <td>0.0</td>\n",
       "      <td>...</td>\n",
       "      <td>NaN</td>\n",
       "      <td>37.746</td>\n",
       "      <td>0.5</td>\n",
       "      <td>64.83</td>\n",
       "      <td>0.511</td>\n",
       "      <td>41128772.0</td>\n",
       "      <td>NaN</td>\n",
       "      <td>NaN</td>\n",
       "      <td>NaN</td>\n",
       "      <td>NaN</td>\n",
       "    </tr>\n",
       "    <tr>\n",
       "      <th>9</th>\n",
       "      <td>AFG</td>\n",
       "      <td>Asia</td>\n",
       "      <td>Afghanistan</td>\n",
       "      <td>2020-01-14</td>\n",
       "      <td>NaN</td>\n",
       "      <td>0.0</td>\n",
       "      <td>0.0</td>\n",
       "      <td>NaN</td>\n",
       "      <td>0.0</td>\n",
       "      <td>0.0</td>\n",
       "      <td>...</td>\n",
       "      <td>NaN</td>\n",
       "      <td>37.746</td>\n",
       "      <td>0.5</td>\n",
       "      <td>64.83</td>\n",
       "      <td>0.511</td>\n",
       "      <td>41128772.0</td>\n",
       "      <td>NaN</td>\n",
       "      <td>NaN</td>\n",
       "      <td>NaN</td>\n",
       "      <td>NaN</td>\n",
       "    </tr>\n",
       "  </tbody>\n",
       "</table>\n",
       "<p>10 rows × 67 columns</p>\n",
       "</div>"
      ],
      "text/plain": [
       "  iso_code continent     location        date  total_cases  new_cases  \\\n",
       "0      AFG      Asia  Afghanistan  2020-01-05          NaN        0.0   \n",
       "1      AFG      Asia  Afghanistan  2020-01-06          NaN        0.0   \n",
       "2      AFG      Asia  Afghanistan  2020-01-07          NaN        0.0   \n",
       "3      AFG      Asia  Afghanistan  2020-01-08          NaN        0.0   \n",
       "4      AFG      Asia  Afghanistan  2020-01-09          NaN        0.0   \n",
       "5      AFG      Asia  Afghanistan  2020-01-10          NaN        0.0   \n",
       "6      AFG      Asia  Afghanistan  2020-01-11          NaN        0.0   \n",
       "7      AFG      Asia  Afghanistan  2020-01-12          NaN        0.0   \n",
       "8      AFG      Asia  Afghanistan  2020-01-13          NaN        0.0   \n",
       "9      AFG      Asia  Afghanistan  2020-01-14          NaN        0.0   \n",
       "\n",
       "   new_cases_smoothed  total_deaths  new_deaths  new_deaths_smoothed  ...  \\\n",
       "0                 0.0           NaN         0.0                  NaN  ...   \n",
       "1                 0.0           NaN         0.0                  NaN  ...   \n",
       "2                 0.0           NaN         0.0                  NaN  ...   \n",
       "3                 0.0           NaN         0.0                  NaN  ...   \n",
       "4                 0.0           NaN         0.0                  NaN  ...   \n",
       "5                 0.0           NaN         0.0                  0.0  ...   \n",
       "6                 0.0           NaN         0.0                  0.0  ...   \n",
       "7                 0.0           NaN         0.0                  0.0  ...   \n",
       "8                 0.0           NaN         0.0                  0.0  ...   \n",
       "9                 0.0           NaN         0.0                  0.0  ...   \n",
       "\n",
       "   male_smokers  handwashing_facilities  hospital_beds_per_thousand  \\\n",
       "0           NaN                  37.746                         0.5   \n",
       "1           NaN                  37.746                         0.5   \n",
       "2           NaN                  37.746                         0.5   \n",
       "3           NaN                  37.746                         0.5   \n",
       "4           NaN                  37.746                         0.5   \n",
       "5           NaN                  37.746                         0.5   \n",
       "6           NaN                  37.746                         0.5   \n",
       "7           NaN                  37.746                         0.5   \n",
       "8           NaN                  37.746                         0.5   \n",
       "9           NaN                  37.746                         0.5   \n",
       "\n",
       "   life_expectancy  human_development_index  population  \\\n",
       "0            64.83                    0.511  41128772.0   \n",
       "1            64.83                    0.511  41128772.0   \n",
       "2            64.83                    0.511  41128772.0   \n",
       "3            64.83                    0.511  41128772.0   \n",
       "4            64.83                    0.511  41128772.0   \n",
       "5            64.83                    0.511  41128772.0   \n",
       "6            64.83                    0.511  41128772.0   \n",
       "7            64.83                    0.511  41128772.0   \n",
       "8            64.83                    0.511  41128772.0   \n",
       "9            64.83                    0.511  41128772.0   \n",
       "\n",
       "   excess_mortality_cumulative_absolute  excess_mortality_cumulative  \\\n",
       "0                                   NaN                          NaN   \n",
       "1                                   NaN                          NaN   \n",
       "2                                   NaN                          NaN   \n",
       "3                                   NaN                          NaN   \n",
       "4                                   NaN                          NaN   \n",
       "5                                   NaN                          NaN   \n",
       "6                                   NaN                          NaN   \n",
       "7                                   NaN                          NaN   \n",
       "8                                   NaN                          NaN   \n",
       "9                                   NaN                          NaN   \n",
       "\n",
       "   excess_mortality  excess_mortality_cumulative_per_million  \n",
       "0               NaN                                      NaN  \n",
       "1               NaN                                      NaN  \n",
       "2               NaN                                      NaN  \n",
       "3               NaN                                      NaN  \n",
       "4               NaN                                      NaN  \n",
       "5               NaN                                      NaN  \n",
       "6               NaN                                      NaN  \n",
       "7               NaN                                      NaN  \n",
       "8               NaN                                      NaN  \n",
       "9               NaN                                      NaN  \n",
       "\n",
       "[10 rows x 67 columns]"
      ]
     },
     "execution_count": 26,
     "metadata": {},
     "output_type": "execute_result"
    }
   ],
   "source": [
    "veri = pd.read_csv(\"owid-covid-data.csv\")\n",
    "veri.loc[0:4,\"new_cases_smoothed\"]=0\n",
    "veri.head(10)\n"
   ]
  },
  {
   "cell_type": "code",
   "execution_count": 27,
   "id": "9cfab2a6-9821-46f8-9730-6580e5e39fc9",
   "metadata": {},
   "outputs": [
    {
     "name": "stdout",
     "output_type": "stream",
     "text": [
      "<class 'pandas.core.frame.DataFrame'>\n",
      "RangeIndex: 387253 entries, 0 to 387252\n",
      "Data columns (total 67 columns):\n",
      " #   Column                                      Non-Null Count   Dtype  \n",
      "---  ------                                      --------------   -----  \n",
      " 0   iso_code                                    387253 non-null  object \n",
      " 1   continent                                   368726 non-null  object \n",
      " 2   location                                    387253 non-null  object \n",
      " 3   date                                        387253 non-null  object \n",
      " 4   total_cases                                 348333 non-null  float64\n",
      " 5   new_cases                                   376280 non-null  float64\n",
      " 6   new_cases_smoothed                          375055 non-null  float64\n",
      " 7   total_deaths                                326109 non-null  float64\n",
      " 8   new_deaths                                  376590 non-null  float64\n",
      " 9   new_deaths_smoothed                         375360 non-null  float64\n",
      " 10  total_cases_per_million                     348333 non-null  float64\n",
      " 11  new_cases_per_million                       376280 non-null  float64\n",
      " 12  new_cases_smoothed_per_million              375050 non-null  float64\n",
      " 13  total_deaths_per_million                    326109 non-null  float64\n",
      " 14  new_deaths_per_million                      376589 non-null  float64\n",
      " 15  new_deaths_smoothed_per_million             375359 non-null  float64\n",
      " 16  reproduction_rate                           184817 non-null  float64\n",
      " 17  icu_patients                                38642 non-null   float64\n",
      " 18  icu_patients_per_million                    38642 non-null   float64\n",
      " 19  hosp_patients                               40178 non-null   float64\n",
      " 20  hosp_patients_per_million                   40178 non-null   float64\n",
      " 21  weekly_icu_admissions                       10689 non-null   float64\n",
      " 22  weekly_icu_admissions_per_million           10689 non-null   float64\n",
      " 23  weekly_hosp_admissions                      24159 non-null   float64\n",
      " 24  weekly_hosp_admissions_per_million          24159 non-null   float64\n",
      " 25  total_tests                                 79387 non-null   float64\n",
      " 26  new_tests                                   75403 non-null   float64\n",
      " 27  total_tests_per_thousand                    79387 non-null   float64\n",
      " 28  new_tests_per_thousand                      75403 non-null   float64\n",
      " 29  new_tests_smoothed                          103965 non-null  float64\n",
      " 30  new_tests_smoothed_per_thousand             103965 non-null  float64\n",
      " 31  positive_rate                               95927 non-null   float64\n",
      " 32  tests_per_case                              94348 non-null   float64\n",
      " 33  tests_units                                 106788 non-null  object \n",
      " 34  total_vaccinations                          83316 non-null   float64\n",
      " 35  people_vaccinated                           79196 non-null   float64\n",
      " 36  people_fully_vaccinated                     76078 non-null   float64\n",
      " 37  total_boosters                              51503 non-null   float64\n",
      " 38  new_vaccinations                            69060 non-null   float64\n",
      " 39  new_vaccinations_smoothed                   190037 non-null  float64\n",
      " 40  total_vaccinations_per_hundred              83316 non-null   float64\n",
      " 41  people_vaccinated_per_hundred               79196 non-null   float64\n",
      " 42  people_fully_vaccinated_per_hundred         76078 non-null   float64\n",
      " 43  total_boosters_per_hundred                  51503 non-null   float64\n",
      " 44  new_vaccinations_smoothed_per_million       190037 non-null  float64\n",
      " 45  new_people_vaccinated_smoothed              187406 non-null  float64\n",
      " 46  new_people_vaccinated_smoothed_per_hundred  187406 non-null  float64\n",
      " 47  stringency_index                            197292 non-null  float64\n",
      " 48  population_density                          329253 non-null  float64\n",
      " 49  median_age                                  306058 non-null  float64\n",
      " 50  aged_65_older                               295505 non-null  float64\n",
      " 51  aged_70_older                               302990 non-null  float64\n",
      " 52  gdp_per_capita                              300095 non-null  float64\n",
      " 53  extreme_poverty                             193444 non-null  float64\n",
      " 54  cardiovasc_death_rate                       300681 non-null  float64\n",
      " 55  diabetes_prevalence                         316186 non-null  float64\n",
      " 56  female_smokers                              225701 non-null  float64\n",
      " 57  male_smokers                                222633 non-null  float64\n",
      " 58  handwashing_facilities                      147326 non-null  float64\n",
      " 59  hospital_beds_per_thousand                  265585 non-null  float64\n",
      " 60  life_expectancy                             356680 non-null  float64\n",
      " 61  human_development_index                     291642 non-null  float64\n",
      " 62  population                                  387253 non-null  float64\n",
      " 63  excess_mortality_cumulative_absolute        13172 non-null   float64\n",
      " 64  excess_mortality_cumulative                 13172 non-null   float64\n",
      " 65  excess_mortality                            13172 non-null   float64\n",
      " 66  excess_mortality_cumulative_per_million     13172 non-null   float64\n",
      "dtypes: float64(62), object(5)\n",
      "memory usage: 198.0+ MB\n"
     ]
    }
   ],
   "source": [
    "veri.info()"
   ]
  },
  {
   "cell_type": "code",
   "execution_count": 28,
   "id": "afce383f-8418-4c05-a506-dcc8b47b2664",
   "metadata": {},
   "outputs": [
    {
     "data": {
      "text/plain": [
       "0         0.0\n",
       "7         0.0\n",
       "14        0.0\n",
       "21        0.0\n",
       "28        0.0\n",
       "35        0.0\n",
       "42        0.0\n",
       "49        0.0\n",
       "56        1.0\n",
       "63        0.0\n",
       "70        6.0\n",
       "77       17.0\n",
       "84       67.0\n",
       "91      183.0\n",
       "98      247.0\n",
       "105     387.0\n",
       "112     422.0\n",
       "119     841.0\n",
       "126    1392.0\n",
       "133    2490.0\n",
       "140    3813.0\n",
       "147    4577.0\n",
       "154    5108.0\n",
       "161    4551.0\n",
       "168    4195.0\n",
       "175    2319.0\n",
       "182    2056.0\n",
       "189    1679.0\n",
       "196     938.0\n",
       "203     747.0\n",
       "210     674.0\n",
       "217     305.0\n",
       "224     536.0\n",
       "231     343.0\n",
       "238     249.0\n",
       "245     161.0\n",
       "252     337.0\n",
       "259     278.0\n",
       "266     273.0\n",
       "273     105.0\n",
       "280     406.0\n",
       "287     438.0\n",
       "294     627.0\n",
       "301     657.0\n",
       "308     608.0\n",
       "315    1002.0\n",
       "322    1468.0\n",
       "329    1463.0\n",
       "336    1675.0\n",
       "343    1311.0\n",
       "Name: new_cases, dtype: float64"
      ]
     },
     "execution_count": 28,
     "metadata": {},
     "output_type": "execute_result"
    }
   ],
   "source": [
    "df1=pd.DataFrame(veri)\n",
    "newCasesAfghanistan = df1[df1['location'] == 'Afghanistan']\n",
    "newCasesAfghanistan = newCasesAfghanistan['new_cases']\n",
    "newCasesAfghanistan = newCasesAfghanistan[newCasesAfghanistan.index % 7 == 0]\n",
    "newCasesAfghanistan.head(50)\n",
    "\n"
   ]
  },
  {
   "cell_type": "code",
   "execution_count": 29,
   "id": "67d8f661-d741-4e5d-86f0-1fca692c495b",
   "metadata": {},
   "outputs": [
    {
     "data": {
      "text/plain": [
       "220"
      ]
     },
     "execution_count": 29,
     "metadata": {},
     "output_type": "execute_result"
    }
   ],
   "source": [
    "len(newCasesAfghanistan)"
   ]
  },
  {
   "cell_type": "code",
   "execution_count": 30,
   "id": "42e07cf5-f5f6-48a1-9dab-cb134c3e5dab",
   "metadata": {},
   "outputs": [
    {
     "data": {
      "text/plain": [
       "0        0.0\n",
       "7        0.0\n",
       "14       0.0\n",
       "21       0.0\n",
       "28       0.0\n",
       "35       0.0\n",
       "42       0.0\n",
       "49       0.0\n",
       "56       0.0\n",
       "63       0.0\n",
       "70       0.0\n",
       "77       0.0\n",
       "84       2.0\n",
       "91       3.0\n",
       "98      10.0\n",
       "105     15.0\n",
       "112     13.0\n",
       "119     21.0\n",
       "126     41.0\n",
       "133     48.0\n",
       "140     58.0\n",
       "147     37.0\n",
       "154     79.0\n",
       "161    124.0\n",
       "168     97.0\n",
       "175    155.0\n",
       "182    123.0\n",
       "189    149.0\n",
       "196    172.0\n",
       "203     99.0\n",
       "210     37.0\n",
       "217     24.0\n",
       "224     63.0\n",
       "231     15.0\n",
       "238     17.0\n",
       "245      7.0\n",
       "252     11.0\n",
       "259     17.0\n",
       "266     16.0\n",
       "273      9.0\n",
       "280     11.0\n",
       "287     15.0\n",
       "294     23.0\n",
       "301     25.0\n",
       "308     20.0\n",
       "315     49.0\n",
       "322     70.0\n",
       "329     77.0\n",
       "336    113.0\n",
       "343     95.0\n",
       "Name: new_deaths, dtype: float64"
      ]
     },
     "execution_count": 30,
     "metadata": {},
     "output_type": "execute_result"
    }
   ],
   "source": [
    "df2 = pd.DataFrame(veri)\n",
    "newDeathsAfghanistan = df2[df2['location'] =='Afghanistan']\n",
    "newDeathsAfghanistan = newDeathsAfghanistan['new_deaths']\n",
    "newDeathsAfghanistan = newDeathsAfghanistan[newDeathsAfghanistan.index % 7 == 0]\n",
    "newDeathsAfghanistan.head(50)\n",
    "\n",
    "#df2 = pd.DataFrame(veri.new_deaths)\n",
    "#newDeaths = df2[df2.index <= 1521]\n",
    "#newDeaths = newDeaths[newDeaths.index % 7 == 0]\n",
    "#newDeaths\n"
   ]
  },
  {
   "cell_type": "code",
   "execution_count": 31,
   "id": "1d40b55c-5a28-4ad6-8999-2f6406b82e25",
   "metadata": {},
   "outputs": [
    {
     "data": {
      "text/plain": [
       "220"
      ]
     },
     "execution_count": 31,
     "metadata": {},
     "output_type": "execute_result"
    }
   ],
   "source": [
    "len(newDeathsAfghanistan)"
   ]
  },
  {
   "cell_type": "code",
   "execution_count": 32,
   "id": "40517c2a-4d9f-4516-a1f6-121725de2642",
   "metadata": {},
   "outputs": [
    {
     "data": {
      "text/plain": [
       "0        0.000\n",
       "7        0.000\n",
       "14       0.000\n",
       "21       0.000\n",
       "28       0.000\n",
       "         ...  \n",
       "1505    30.143\n",
       "1512     0.000\n",
       "1519     0.000\n",
       "1526    32.571\n",
       "1533    26.429\n",
       "Name: new_cases_smoothed, Length: 220, dtype: float64"
      ]
     },
     "execution_count": 32,
     "metadata": {},
     "output_type": "execute_result"
    }
   ],
   "source": [
    "df3 = pd.DataFrame(veri)\n",
    "newCasesSmoothedAfghanistan = df3[df3['location'] =='Afghanistan']\n",
    "\n",
    "newCasesSmoothedAfghanistan = newCasesSmoothedAfghanistan['new_cases_smoothed']\n",
    "newCasesSmoothedAfghanistan = newCasesSmoothedAfghanistan[newCasesSmoothedAfghanistan.index % 7 == 0]\n",
    "newCasesSmoothedAfghanistan\n",
    "\n",
    "#df3 = pd.DataFrame(veri.new_cases_smoothed)\n",
    "#newCasesSmoothed = df3[df3.index <= 1521]\n",
    "#newCasesSmoothed = newCasesSmoothed[newCasesSmoothed.index % 7 == 0]\n",
    "#newCasesSmoothed"
   ]
  },
  {
   "cell_type": "code",
   "execution_count": 33,
   "id": "c263aa95-3685-4b42-b659-977a65dcbba2",
   "metadata": {},
   "outputs": [
    {
     "data": {
      "text/plain": [
       "0       9.59\n",
       "7       9.59\n",
       "14      9.59\n",
       "21      9.59\n",
       "28      9.59\n",
       "        ... \n",
       "1505    9.59\n",
       "1512    9.59\n",
       "1519    9.59\n",
       "1526    9.59\n",
       "1533    9.59\n",
       "Name: diabetes_prevalence, Length: 220, dtype: float64"
      ]
     },
     "execution_count": 33,
     "metadata": {},
     "output_type": "execute_result"
    }
   ],
   "source": [
    "df4 = pd.DataFrame(veri)\n",
    "diabetesPrevalenceAfghanistan = df4[df4['location'] =='Afghanistan']\n",
    "diabetesPrevalenceAfghanistan = diabetesPrevalenceAfghanistan['diabetes_prevalence']\n",
    "diabetesPrevalenceAfghanistan = diabetesPrevalenceAfghanistan[diabetesPrevalenceAfghanistan.index % 7 == 0]\n",
    "diabetesPrevalenceAfghanistan\n",
    "\n",
    "#df4 = pd.DataFrame(veri.diabetes_prevalence)\n",
    "#diabetesPrevalence = df4[df4.index <= 1521]\n",
    "#diabetesPrevalence = diabetesPrevalence[diabetesPrevalence.index % 7 == 0]\n",
    "#diabetesPrevalence\n"
   ]
  },
  {
   "cell_type": "code",
   "execution_count": 34,
   "id": "83ef7633-aa96-4480-a56a-9ee9e64bdf79",
   "metadata": {},
   "outputs": [
    {
     "data": {
      "text/plain": [
       "0       597.029\n",
       "7       597.029\n",
       "14      597.029\n",
       "21      597.029\n",
       "28      597.029\n",
       "         ...   \n",
       "1505    597.029\n",
       "1512    597.029\n",
       "1519    597.029\n",
       "1526    597.029\n",
       "1533    597.029\n",
       "Name: cardiovasc_death_rate, Length: 220, dtype: float64"
      ]
     },
     "execution_count": 34,
     "metadata": {},
     "output_type": "execute_result"
    }
   ],
   "source": [
    "df5 = pd.DataFrame(veri)\n",
    "cardiovascDeathRateAfghanistan = df5[df5['location'] =='Afghanistan']\n",
    "cardiovascDeathRateAfghanistan = cardiovascDeathRateAfghanistan['cardiovasc_death_rate']\n",
    "cardiovascDeathRateAfghanistan = cardiovascDeathRateAfghanistan[cardiovascDeathRateAfghanistan.index % 7 == 0]\n",
    "cardiovascDeathRateAfghanistan\n",
    "\n",
    "#df5 = pd.DataFrame(veri.cardiovasc_death_rate)\n",
    "#cardiovascDeathRate = df5[df5.index <= 1521]\n",
    "#cardiovascDeathRate = cardiovascDeathRate[cardiovascDeathRate.index % 7 == 0]\n",
    "#cardiovascDeathRate\n",
    "\n"
   ]
  },
  {
   "cell_type": "code",
   "execution_count": 35,
   "id": "64ea8155-dd7f-4456-802b-09417d2f89e8",
   "metadata": {},
   "outputs": [
    {
     "data": {
      "text/plain": [
       "0       41128772.0\n",
       "7       41128772.0\n",
       "14      41128772.0\n",
       "21      41128772.0\n",
       "28      41128772.0\n",
       "           ...    \n",
       "1505    41128772.0\n",
       "1512    41128772.0\n",
       "1519    41128772.0\n",
       "1526    41128772.0\n",
       "1533    41128772.0\n",
       "Name: population, Length: 220, dtype: float64"
      ]
     },
     "execution_count": 35,
     "metadata": {},
     "output_type": "execute_result"
    }
   ],
   "source": [
    "df6 = pd.DataFrame(veri)\n",
    "PoPulationAfghanistan = df6[df6['location'] =='Afghanistan']\n",
    "PoPulationAfghanistan = PoPulationAfghanistan['population']\n",
    "PoPulationAfghanistan = PoPulationAfghanistan[PoPulationAfghanistan.index % 7 == 0]\n",
    "PoPulationAfghanistan\n",
    "\n",
    "\n",
    "#df6 = pd.DataFrame(veri.population)\n",
    "#PoPulation = df6[df6.index <= 1521]\n",
    "#PoPulation = PoPulation[PoPulation.index % 7 == 0]\n",
    "#PoPulation\n"
   ]
  },
  {
   "cell_type": "code",
   "execution_count": 36,
   "id": "d159f573-46af-4c86-a682-a49bea7d29e9",
   "metadata": {},
   "outputs": [],
   "source": [
    "X = np.column_stack((newCasesAfghanistan, newCasesSmoothedAfghanistan, diabetesPrevalenceAfghanistan, cardiovascDeathRateAfghanistan, PoPulationAfghanistan))\n"
   ]
  },
  {
   "cell_type": "code",
   "execution_count": 37,
   "id": "c3957d76-6f75-4bcf-8fde-d4b0851b6767",
   "metadata": {},
   "outputs": [
    {
     "name": "stdout",
     "output_type": "stream",
     "text": [
      "(220, 5)\n"
     ]
    }
   ],
   "source": [
    "print(X.shape)\n"
   ]
  },
  {
   "cell_type": "code",
   "execution_count": 38,
   "id": "23f26045-c9b2-4940-9c87-12c3654d305f",
   "metadata": {},
   "outputs": [
    {
     "data": {
      "text/plain": [
       "0       0.0\n",
       "7       0.0\n",
       "14      0.0\n",
       "21      0.0\n",
       "28      0.0\n",
       "       ... \n",
       "1505    0.0\n",
       "1512    0.0\n",
       "1519    0.0\n",
       "1526    0.0\n",
       "1533    0.0\n",
       "Name: new_deaths, Length: 220, dtype: float64"
      ]
     },
     "execution_count": 38,
     "metadata": {},
     "output_type": "execute_result"
    }
   ],
   "source": [
    "y =  (newDeathsAfghanistan)\n",
    "newDeathsAfghanistan.head(50)\n",
    "y\n"
   ]
  },
  {
   "cell_type": "code",
   "execution_count": 39,
   "id": "710495cb-ed87-4d84-b4b4-530dd1fd0b2d",
   "metadata": {},
   "outputs": [],
   "source": [
    "from sklearn.model_selection import train_test_split\n",
    "X_train, X_test, y_train, y_test = train_test_split(X, y, test_size = 0.27, random_state = 4555)"
   ]
  },
  {
   "cell_type": "code",
   "execution_count": 40,
   "id": "fc773348-f98b-4613-b6ed-7ad7d9f027f1",
   "metadata": {},
   "outputs": [],
   "source": [
    "param_grid = {\n",
    "    'n_estimators': list(range(20, 200, 10)),\n",
    "    'max_depth': [10, 20]\n",
    "}"
   ]
  },
  {
   "cell_type": "code",
   "execution_count": 41,
   "id": "4e5f9adf-7653-4fb6-bcea-1d08dff63fe1",
   "metadata": {},
   "outputs": [
    {
     "name": "stdout",
     "output_type": "stream",
     "text": [
      "En iyi parametreler: {'n_estimators': 50, 'max_depth': 10}\n",
      "En iyi skor: 968.4954435064302\n"
     ]
    }
   ],
   "source": [
    "best_score = float('inf')\n",
    "best_params = None\n",
    "for n_estimators in param_grid['n_estimators']:\n",
    "    for max_depth in param_grid['max_depth']:\n",
    "        \n",
    "        \n",
    "        model = RandomForestRegressor( n_estimators=n_estimators,max_depth=max_depth)  \n",
    "        \n",
    "        model.fit(X_train, y_train)\n",
    "        \n",
    "        \n",
    "        y_pred = model.predict(X_test)\n",
    "        mse = mean_squared_error(y_test, y_pred)\n",
    "        \n",
    "        \n",
    "        if mse < best_score:\n",
    "            best_score = mse\n",
    "            best_params = {'n_estimators': n_estimators, 'max_depth': max_depth}  \n",
    "print(\"En iyi parametreler:\", best_params)\n",
    "print(\"En iyi skor:\", best_score)"
   ]
  },
  {
   "cell_type": "code",
   "execution_count": 46,
   "id": "be467f4b-2055-4156-bde9-e02df8a8960d",
   "metadata": {},
   "outputs": [
    {
     "name": "stdout",
     "output_type": "stream",
     "text": [
      " eğitim için geçen süre: 0.21 saniye\n",
      "Train Başarısı = % 94.24202462136542\n",
      "Test Başarısı = % 92.14028879012429\n"
     ]
    }
   ],
   "source": [
    "import time \n",
    "rf=RandomForestRegressor( n_estimators=n_estimators,random_state=16,max_depth=max_depth)\n",
    "start_time = time.time()\n",
    "rf.fit(X_train,y_train )\n",
    "end_time = time.time()\n",
    "trainTime = end_time - start_time\n",
    "print(f\" eğitim için geçen süre: {trainTime:.2f} saniye\")\n",
    "print(\"Train Başarısı = %\",rf.score(X_train,y_train)*100)\n",
    "print(\"Test Başarısı = %\",rf.score(X_test,y_test)*100)"
   ]
  },
  {
   "cell_type": "code",
   "execution_count": 47,
   "id": "e1bc167b-8429-4ea5-8f37-b7e618a4c073",
   "metadata": {},
   "outputs": [],
   "source": [
    "y_pred = rf.predict(X_test)"
   ]
  },
  {
   "cell_type": "code",
   "execution_count": 56,
   "id": "2e8dd9c4-9cef-4b7a-983e-b7cc6d6c756a",
   "metadata": {},
   "outputs": [],
   "source": [
    "mse=mean_squared_error(y_test,y_pred)\n",
    "r2=r2_score(y_test,y_pred)\n",
    "mae=mean_absolute_error(y_test, y_pred)"
   ]
  },
  {
   "cell_type": "code",
   "execution_count": 57,
   "id": "288916f5-6ff3-4eb0-a7c5-e88feb3a3d4a",
   "metadata": {},
   "outputs": [
    {
     "name": "stdout",
     "output_type": "stream",
     "text": [
      "mean squared error 1008.051518566181\n",
      "hata kareler 0.9214028879012429\n",
      "meanabsolute 18.766912071846285\n"
     ]
    }
   ],
   "source": [
    "print(\"mean squared error\",mse)\n",
    "print(\"hata kareler\",r2)\n",
    "print(\"meanabsolute\",mae)"
   ]
  },
  {
   "cell_type": "code",
   "execution_count": 22,
   "id": "335afdf5-f3ea-43c8-bd47-52dbe81c0f58",
   "metadata": {},
   "outputs": [
    {
     "data": {
      "text/plain": [
       "array([3.9254386])"
      ]
     },
     "execution_count": 22,
     "metadata": {},
     "output_type": "execute_result"
    }
   ],
   "source": [
    "X_new = np.array([[100,20,5,150,1000000]])\n",
    "Afghanistan=rf.predict(X_new)\n",
    "Afghanistan\n",
    "#(newCasesAfghanistan, newCasesSmoothedAfghanistan, diabetesPrevalenceAfghanistan, cardiovascDeathRateAfghanistan, PoPulationAfghanistan))\n"
   ]
  },
  {
   "cell_type": "code",
   "execution_count": 23,
   "id": "e2ea9aee-d817-4507-843a-254c43ab74d5",
   "metadata": {},
   "outputs": [
    {
     "data": {
      "text/plain": [
       "Text(0, 0.5, 'eğitilmiş model verileri')"
      ]
     },
     "execution_count": 23,
     "metadata": {},
     "output_type": "execute_result"
    },
    {
     "data": {
      "image/png": "[encoded data removed]",
      "text/plain": [
       "<Figure size 640x480 with 1 Axes>"
      ]
     },
     "metadata": {},
     "output_type": "display_data"
    }
   ],
   "source": [
    "f = np.linspace(0, 400, 1000)  # 0 ile 40 arasında 1000 eşit aralıklı değer\n",
    "k = f \n",
    "plt.figure()\n",
    "plt.scatter(y_test,y_pred)\n",
    "#plt.scatter(f, k)\n",
    "plt.title(\"Afganistan\")\n",
    "plt.xlabel(\"Test verileri\")\n",
    "plt.ylabel(\"eğitilmiş model verileri\")"
   ]
  },
  {
   "cell_type": "code",
   "execution_count": 24,
   "id": "e6bc7ce0-6866-4add-b51d-8785d53d375b",
   "metadata": {},
   "outputs": [
    {
     "name": "stdout",
     "output_type": "stream",
     "text": [
      "220\n"
     ]
    }
   ],
   "source": [
    "df7 = pd.DataFrame(veri)\n",
    "newCasesAustralia = df7[df7['location'] == 'Australia']\n",
    "newCasesAustralia = newCasesAustralia['new_cases']\n",
    "newCasesAustralia.reset_index(drop=True, inplace=True)#ilk indeksi 0 dan başlattık\n",
    "newCasesAustralia = newCasesAustralia[newCasesAustralia.index % 7 == 0]\n",
    "newCasesAustralia.head(50)\n",
    "print(len(newCasesAustralia))"
   ]
  },
  {
   "cell_type": "code",
   "execution_count": 158,
   "id": "c4eef1e4-3dd8-4082-9063-651e281a99c1",
   "metadata": {},
   "outputs": [
    {
     "name": "stdout",
     "output_type": "stream",
     "text": [
      "220\n"
     ]
    }
   ],
   "source": [
    "df8 = pd.DataFrame(veri)\n",
    "newDeathsAustralia = df8[df8['location'] == 'Australia']\n",
    "newDeathsAustralia = newDeathsAustralia['new_deaths']\n",
    "newDeathsAustralia.reset_index(drop=True, inplace=True)#ilk indeksi 0 dan başlattık\n",
    "\n",
    "newDeathsAustralia = newDeathsAustralia[newDeathsAustralia.index % 7 == 0]\n",
    "newDeathsAustralia.head(50)\n",
    "print(len(newDeathsAustralia))"
   ]
  },
  {
   "cell_type": "code",
   "execution_count": 159,
   "id": "ad8a7202-75c8-4960-863a-84aa8e5abdc0",
   "metadata": {},
   "outputs": [
    {
     "data": {
      "text/plain": [
       "0          NaN\n",
       "7        0.000\n",
       "14       0.000\n",
       "21       0.571\n",
       "28       1.143\n",
       "35       0.429\n",
       "42       0.000\n",
       "49       1.000\n",
       "56       0.429\n",
       "63       6.429\n",
       "70      25.571\n",
       "77     118.857\n",
       "84     389.714\n",
       "91     260.857\n",
       "98      93.429\n",
       "105     42.429\n",
       "112     16.714\n",
       "119     11.429\n",
       "126     20.857\n",
       "133     15.286\n",
       "140     10.000\n",
       "147     11.286\n",
       "154     10.000\n",
       "161      6.714\n",
       "168     19.143\n",
       "175     29.286\n",
       "182    103.000\n",
       "189    170.143\n",
       "196    269.714\n",
       "203    358.429\n",
       "210    476.000\n",
       "217    488.000\n",
       "224    333.857\n",
       "231    223.857\n",
       "238    135.000\n",
       "245     94.286\n",
       "252     57.143\n",
       "259     39.714\n",
       "266     18.714\n",
       "273     15.000\n",
       "280     17.571\n",
       "287     19.857\n",
       "294     16.571\n",
       "301     13.000\n",
       "308      8.857\n",
       "315      8.429\n",
       "322     13.714\n",
       "329     11.143\n",
       "336     10.143\n",
       "343      9.857\n",
       "Name: new_cases_smoothed, dtype: float64"
      ]
     },
     "execution_count": 159,
     "metadata": {},
     "output_type": "execute_result"
    }
   ],
   "source": [
    "df9 = pd.DataFrame(veri)\n",
    "newCasesSmoothedsAustralia = df9[df9['location'] == 'Australia']\n",
    "newCasesSmoothedsAustralia = newCasesSmoothedsAustralia['new_cases_smoothed']\n",
    "newCasesSmoothedsAustralia.reset_index(drop=True, inplace=True)#ilk indeksi 0 dan başlattık\n",
    "\n",
    "newCasesSmoothedsAustralia = newCasesSmoothedsAustralia[newCasesSmoothedsAustralia.index % 7 == 0]\n",
    "newCasesSmoothedsAustralia.head(50)\n"
   ]
  },
  {
   "cell_type": "code",
   "execution_count": 160,
   "id": "84c1625a-235b-4fcd-b2ce-a5d8fcb0c779",
   "metadata": {},
   "outputs": [
    {
     "data": {
      "text/plain": [
       "0      5.07\n",
       "7      5.07\n",
       "14     5.07\n",
       "21     5.07\n",
       "28     5.07\n",
       "35     5.07\n",
       "42     5.07\n",
       "49     5.07\n",
       "56     5.07\n",
       "63     5.07\n",
       "70     5.07\n",
       "77     5.07\n",
       "84     5.07\n",
       "91     5.07\n",
       "98     5.07\n",
       "105    5.07\n",
       "112    5.07\n",
       "119    5.07\n",
       "126    5.07\n",
       "133    5.07\n",
       "140    5.07\n",
       "147    5.07\n",
       "154    5.07\n",
       "161    5.07\n",
       "168    5.07\n",
       "175    5.07\n",
       "182    5.07\n",
       "189    5.07\n",
       "196    5.07\n",
       "203    5.07\n",
       "210    5.07\n",
       "217    5.07\n",
       "224    5.07\n",
       "231    5.07\n",
       "238    5.07\n",
       "245    5.07\n",
       "252    5.07\n",
       "259    5.07\n",
       "266    5.07\n",
       "273    5.07\n",
       "280    5.07\n",
       "287    5.07\n",
       "294    5.07\n",
       "301    5.07\n",
       "308    5.07\n",
       "315    5.07\n",
       "322    5.07\n",
       "329    5.07\n",
       "336    5.07\n",
       "343    5.07\n",
       "Name: diabetes_prevalence, dtype: float64"
      ]
     },
     "execution_count": 160,
     "metadata": {},
     "output_type": "execute_result"
    }
   ],
   "source": [
    "df10 = pd.DataFrame(veri)\n",
    "diabetesPrevalenceAustralia = df10[df10['location'] == 'Australia']\n",
    "diabetesPrevalenceAustralia = diabetesPrevalenceAustralia['diabetes_prevalence']\n",
    "diabetesPrevalenceAustralia.reset_index(drop=True, inplace=True)#ilk indeksi 0 dan başlattık\n",
    "diabetesPrevalenceAustralia = diabetesPrevalenceAustralia[diabetesPrevalenceAustralia.index % 7 == 0]\n",
    "diabetesPrevalenceAustralia.head(50)\n",
    "#print(len(diabetesPrevalenceAustralia))\n"
   ]
  },
  {
   "cell_type": "code",
   "execution_count": 161,
   "id": "f3409de4-a1b7-496a-a570-252cef129e73",
   "metadata": {},
   "outputs": [
    {
     "name": "stdout",
     "output_type": "stream",
     "text": [
      "220\n"
     ]
    }
   ],
   "source": [
    "df11 = pd.DataFrame(veri)\n",
    "cardiovascDeathRateAustralia = df11[df11['location'] == 'Australia']\n",
    "cardiovascDeathRateAustralia = cardiovascDeathRateAustralia['cardiovasc_death_rate']\n",
    "cardiovascDeathRateAustralia.reset_index(drop=True, inplace=True)#ilk indeksi 0 dan başlattık\n",
    "cardiovascDeathRateAustralia = cardiovascDeathRateAustralia[cardiovascDeathRateAustralia.index % 7 == 0]\n",
    "cardiovascDeathRateAustralia.head(50)\n",
    "print(len(cardiovascDeathRateAustralia))\n"
   ]
  },
  {
   "cell_type": "code",
   "execution_count": 162,
   "id": "b879950a-1b10-4c49-b664-24775e7dea5a",
   "metadata": {},
   "outputs": [
    {
     "name": "stdout",
     "output_type": "stream",
     "text": [
      "220\n"
     ]
    }
   ],
   "source": [
    "df12 = pd.DataFrame(veri)\n",
    "PoPulationAustralia = df12[df12['location'] == 'Australia']\n",
    "PoPulationAustralia = PoPulationAustralia['population']\n",
    "PoPulationAustralia.reset_index(drop=True, inplace=True)#ilk indeksi 0 dan başlattık\n",
    "PoPulationAustralia = PoPulationAustralia[PoPulationAustralia.index % 7 == 0]\n",
    "PoPulationAustralia.head(50)\n",
    "print(len(PoPulationAustralia))\n",
    "\n"
   ]
  },
  {
   "cell_type": "code",
   "execution_count": 163,
   "id": "c3033c11-a01e-4582-b556-2f1ac70ff764",
   "metadata": {},
   "outputs": [
    {
     "data": {
      "text/plain": [
       "array([[0.000000e+00,          nan, 5.070000e+00, 1.077910e+02,\n",
       "        2.617741e+07],\n",
       "       [0.000000e+00, 0.000000e+00, 5.070000e+00, 1.077910e+02,\n",
       "        2.617741e+07],\n",
       "       [0.000000e+00, 0.000000e+00, 5.070000e+00, 1.077910e+02,\n",
       "        2.617741e+07],\n",
       "       ...,\n",
       "       [7.247000e+03, 1.035286e+03, 5.070000e+00, 1.077910e+02,\n",
       "        2.617741e+07],\n",
       "       [6.474000e+03, 9.248570e+02, 5.070000e+00, 1.077910e+02,\n",
       "        2.617741e+07],\n",
       "       [5.566000e+03, 7.951430e+02, 5.070000e+00, 1.077910e+02,\n",
       "        2.617741e+07]])"
      ]
     },
     "execution_count": 163,
     "metadata": {},
     "output_type": "execute_result"
    }
   ],
   "source": [
    "X = np.column_stack((newCasesAustralia, newCasesSmoothedsAustralia,diabetesPrevalenceAustralia, cardiovascDeathRateAustralia, PoPulationAustralia))\n",
    "X\n"
   ]
  },
  {
   "cell_type": "code",
   "execution_count": 164,
   "id": "6cf87bef-59de-4e4b-b1d2-b976e1947819",
   "metadata": {},
   "outputs": [
    {
     "data": {
      "text/plain": [
       "0        0.0\n",
       "7        0.0\n",
       "14       0.0\n",
       "21       0.0\n",
       "28       0.0\n",
       "        ... \n",
       "1505    41.0\n",
       "1512    18.0\n",
       "1519    57.0\n",
       "1526    14.0\n",
       "1533     2.0\n",
       "Name: new_deaths, Length: 220, dtype: float64"
      ]
     },
     "execution_count": 164,
     "metadata": {},
     "output_type": "execute_result"
    }
   ],
   "source": [
    "y=  (newDeathsAustralia)\n",
    "y"
   ]
  },
  {
   "cell_type": "code",
   "execution_count": 165,
   "id": "8a0de5ec-f912-40b5-b66d-55a2228d1b17",
   "metadata": {},
   "outputs": [],
   "source": [
    "X_train, X_test, y_train, y_test = train_test_split(X, y, test_size = 0.30, random_state = 455)"
   ]
  },
  {
   "cell_type": "code",
   "execution_count": 166,
   "id": "b4256a05-a316-4a79-8c3b-2a35986c8d5d",
   "metadata": {},
   "outputs": [],
   "source": [
    "param_grid = {\n",
    "    'n_estimators': list(range(20, 100, 10)),\n",
    "    'max_depth': [10, 20],\n",
    "    'min_samples_split': [2, 5, 10],\n",
    "    'test_size':[0.20, 0.25, 0.30]\n",
    "}"
   ]
  },
  {
   "cell_type": "code",
   "execution_count": 167,
   "id": "8382c569-0082-4469-a01a-ec0029d954b5",
   "metadata": {},
   "outputs": [
    {
     "name": "stdout",
     "output_type": "stream",
     "text": [
      "En iyi parametreler: {'n_estimators': 70, 'max_depth': 10}\n",
      "En iyi skor: 10263.501434730464\n"
     ]
    }
   ],
   "source": [
    "best_score = float('inf')\n",
    "best_params = None\n",
    "for n_estimators in param_grid['n_estimators']:\n",
    "    for max_depth in param_grid['max_depth']:\n",
    "        \n",
    "       \n",
    "        model = RandomForestRegressor( n_estimators=n_estimators,max_depth=max_depth)  \n",
    "        \n",
    "        model.fit(X_train, y_train)\n",
    "        \n",
    "        \n",
    "        y_pred = model.predict(X_test)\n",
    "        mse = mean_squared_error(y_test, y_pred)\n",
    "        \n",
    "        \n",
    "        if mse < best_score:\n",
    "            best_score = mse\n",
    "            best_params = {'n_estimators': n_estimators, 'max_depth': max_depth}  \n",
    "print(\"En iyi parametreler:\", best_params)\n",
    "print(\"En iyi skor:\", best_score)"
   ]
  },
  {
   "cell_type": "code",
   "execution_count": 168,
   "id": "5184f546-48af-4a98-b89d-236b351598e6",
   "metadata": {},
   "outputs": [
    {
     "name": "stdout",
     "output_type": "stream",
     "text": [
      "Train Başarısı = % 87.35937854691744\n",
      "Test Başarısı = % 35.51162469996791\n"
     ]
    }
   ],
   "source": [
    "rf=RandomForestRegressor( n_estimators=n_estimators,random_state=61,max_depth=max_depth)\n",
    "rf.fit(X_train,y_train )\n",
    "print(\"Train Başarısı = %\",rf.score(X_train,y_train)*100)\n",
    "print(\"Test Başarısı = %\",rf.score(X_test,y_test)*100)"
   ]
  },
  {
   "cell_type": "code",
   "execution_count": 169,
   "id": "1945e47c-7ca9-4d12-b503-2dbcdec6c928",
   "metadata": {},
   "outputs": [
    {
     "data": {
      "text/plain": [
       "array([5.43333333])"
      ]
     },
     "execution_count": 169,
     "metadata": {},
     "output_type": "execute_result"
    }
   ],
   "source": [
    "X_new = np.array([[100,20,5,150,1000000]])\n",
    "Australia=rf.predict(X_new)\n",
    "Australia"
   ]
  },
  {
   "cell_type": "code",
   "execution_count": 170,
   "id": "973729e5-0829-40e8-800b-1f7a564ed114",
   "metadata": {},
   "outputs": [
    {
     "data": {
      "text/plain": [
       "0           0.0\n",
       "7           0.0\n",
       "14          0.0\n",
       "21          0.0\n",
       "28          0.0\n",
       "35          0.0\n",
       "42          0.0\n",
       "49          0.0\n",
       "56          1.0\n",
       "63         12.0\n",
       "70         71.0\n",
       "77        820.0\n",
       "84       2513.0\n",
       "91       5639.0\n",
       "98      10582.0\n",
       "105     14044.0\n",
       "112     19313.0\n",
       "119     38594.0\n",
       "126     53739.0\n",
       "133     72895.0\n",
       "140    112667.0\n",
       "147    134276.0\n",
       "154    180605.0\n",
       "161    183039.0\n",
       "168    204103.0\n",
       "175    242061.0\n",
       "182    264107.0\n",
       "189    261746.0\n",
       "196    245501.0\n",
       "203    297038.0\n",
       "210    319119.0\n",
       "217    299957.0\n",
       "224    313078.0\n",
       "231    256810.0\n",
       "238    272473.0\n",
       "245    288029.0\n",
       "252    189332.0\n",
       "259    213019.0\n",
       "266    194430.0\n",
       "273    190910.0\n",
       "280    175365.0\n",
       "287    144412.0\n",
       "294    153356.0\n",
       "301    163002.0\n",
       "308    114523.0\n",
       "315    179471.0\n",
       "322    209512.0\n",
       "329    218186.0\n",
       "336    295618.0\n",
       "343    302259.0\n",
       "Name: new_cases, dtype: float64"
      ]
     },
     "execution_count": 170,
     "metadata": {},
     "output_type": "execute_result"
    }
   ],
   "source": [
    "df13 = pd.DataFrame(veri)\n",
    "newCasesBrazil = df3[df7['location'] == 'Brazil']\n",
    "newCasesBrazil = newCasesBrazil['new_cases']\n",
    "newCasesBrazil.reset_index(drop=True, inplace=True)#ilk indeksi 0 dan başlattık\n",
    "newCasesBrazil = newCasesBrazil[newCasesBrazil.index % 7 == 0]\n",
    "newCasesBrazil.head(50)\n"
   ]
  },
  {
   "cell_type": "code",
   "execution_count": 171,
   "id": "7cfdc786-b18c-47f1-9195-93b1821132fb",
   "metadata": {},
   "outputs": [
    {
     "data": {
      "text/plain": [
       "0         0.0\n",
       "7         0.0\n",
       "14        0.0\n",
       "21        0.0\n",
       "28        0.0\n",
       "35        0.0\n",
       "42        0.0\n",
       "49        0.0\n",
       "56        0.0\n",
       "63        0.0\n",
       "70        0.0\n",
       "77       11.0\n",
       "84       81.0\n",
       "91      267.0\n",
       "98      697.0\n",
       "105    1085.0\n",
       "112    1529.0\n",
       "119    2659.0\n",
       "126    3568.0\n",
       "133    4920.0\n",
       "140    6231.0\n",
       "147    6830.0\n",
       "154    7148.0\n",
       "161    6802.0\n",
       "168    7126.0\n",
       "175    7007.0\n",
       "182    7213.0\n",
       "189    7224.0\n",
       "196    7453.0\n",
       "203    7387.0\n",
       "210    7237.0\n",
       "217    7097.0\n",
       "224    6951.0\n",
       "231    6835.0\n",
       "238    6146.0\n",
       "245    6017.0\n",
       "252    4875.0\n",
       "259    5397.0\n",
       "266    4744.0\n",
       "273    4851.0\n",
       "280    4251.0\n",
       "287    3575.0\n",
       "294    3257.0\n",
       "301    3006.0\n",
       "308    2538.0\n",
       "315    2722.0\n",
       "322    3876.0\n",
       "329    3361.0\n",
       "336    3990.0\n",
       "343    4473.0\n",
       "Name: new_deaths, dtype: float64"
      ]
     },
     "execution_count": 171,
     "metadata": {},
     "output_type": "execute_result"
    }
   ],
   "source": [
    "df14 = pd.DataFrame(veri)\n",
    "newDeathsBrazil = df14[df14['location'] == 'Brazil']\n",
    "newDeathsBrazil = newDeathsBrazil['new_deaths']\n",
    "newDeathsBrazil.reset_index(drop=True, inplace=True)#ilk indeksi 0 dan başlattık\n",
    "\n",
    "newDeathsBrazil = newDeathsBrazil[newDeathsBrazil.index % 7 == 0]\n",
    "newDeathsBrazil.head(50)\n"
   ]
  },
  {
   "cell_type": "code",
   "execution_count": 172,
   "id": "6ec10d8f-ee3a-4fec-8631-18275df53964",
   "metadata": {},
   "outputs": [
    {
     "data": {
      "text/plain": [
       "0      8.11\n",
       "7      8.11\n",
       "14     8.11\n",
       "21     8.11\n",
       "28     8.11\n",
       "35     8.11\n",
       "42     8.11\n",
       "49     8.11\n",
       "56     8.11\n",
       "63     8.11\n",
       "70     8.11\n",
       "77     8.11\n",
       "84     8.11\n",
       "91     8.11\n",
       "98     8.11\n",
       "105    8.11\n",
       "112    8.11\n",
       "119    8.11\n",
       "126    8.11\n",
       "133    8.11\n",
       "140    8.11\n",
       "147    8.11\n",
       "154    8.11\n",
       "161    8.11\n",
       "168    8.11\n",
       "175    8.11\n",
       "182    8.11\n",
       "189    8.11\n",
       "196    8.11\n",
       "203    8.11\n",
       "210    8.11\n",
       "217    8.11\n",
       "224    8.11\n",
       "231    8.11\n",
       "238    8.11\n",
       "245    8.11\n",
       "252    8.11\n",
       "259    8.11\n",
       "266    8.11\n",
       "273    8.11\n",
       "280    8.11\n",
       "287    8.11\n",
       "294    8.11\n",
       "301    8.11\n",
       "308    8.11\n",
       "315    8.11\n",
       "322    8.11\n",
       "329    8.11\n",
       "336    8.11\n",
       "343    8.11\n",
       "Name: diabetes_prevalence, dtype: float64"
      ]
     },
     "execution_count": 172,
     "metadata": {},
     "output_type": "execute_result"
    }
   ],
   "source": [
    "df15 = pd.DataFrame(veri)\n",
    "diabetesPrevalenceBrazil = df15[df15['location'] == 'Brazil']\n",
    "diabetesPrevalenceBrazil = diabetesPrevalenceBrazil['diabetes_prevalence']\n",
    "diabetesPrevalenceBrazil.reset_index(drop=True, inplace=True)#ilk indeksi 0 dan başlattık\n",
    "diabetesPrevalenceBrazil = diabetesPrevalenceBrazil[diabetesPrevalenceBrazil.index % 7 == 0]\n",
    "diabetesPrevalenceBrazil.head(50)\n",
    "#print(len(diabetesPrevalenceAustralia))"
   ]
  },
  {
   "cell_type": "code",
   "execution_count": 173,
   "id": "d2475c20-6d00-43cf-929a-4142c4e8d81c",
   "metadata": {},
   "outputs": [
    {
     "data": {
      "text/plain": [
       "0      177.961\n",
       "7      177.961\n",
       "14     177.961\n",
       "21     177.961\n",
       "28     177.961\n",
       "35     177.961\n",
       "42     177.961\n",
       "49     177.961\n",
       "56     177.961\n",
       "63     177.961\n",
       "70     177.961\n",
       "77     177.961\n",
       "84     177.961\n",
       "91     177.961\n",
       "98     177.961\n",
       "105    177.961\n",
       "112    177.961\n",
       "119    177.961\n",
       "126    177.961\n",
       "133    177.961\n",
       "140    177.961\n",
       "147    177.961\n",
       "154    177.961\n",
       "161    177.961\n",
       "168    177.961\n",
       "175    177.961\n",
       "182    177.961\n",
       "189    177.961\n",
       "196    177.961\n",
       "203    177.961\n",
       "210    177.961\n",
       "217    177.961\n",
       "224    177.961\n",
       "231    177.961\n",
       "238    177.961\n",
       "245    177.961\n",
       "252    177.961\n",
       "259    177.961\n",
       "266    177.961\n",
       "273    177.961\n",
       "280    177.961\n",
       "287    177.961\n",
       "294    177.961\n",
       "301    177.961\n",
       "308    177.961\n",
       "315    177.961\n",
       "322    177.961\n",
       "329    177.961\n",
       "336    177.961\n",
       "343    177.961\n",
       "Name: cardiovasc_death_rate, dtype: float64"
      ]
     },
     "execution_count": 173,
     "metadata": {},
     "output_type": "execute_result"
    }
   ],
   "source": [
    "df16 = pd.DataFrame(veri)\n",
    "cardiovascDeathRateBrazil = df16[df16['location'] == 'Brazil']\n",
    "cardiovascDeathRateBrazil = cardiovascDeathRateBrazil['cardiovasc_death_rate']\n",
    "cardiovascDeathRateBrazil.reset_index(drop=True, inplace=True)#ilk indeksi 0 dan başlattık\n",
    "cardiovascDeathRateBrazil = cardiovascDeathRateBrazil[cardiovascDeathRateBrazil.index % 7 == 0]\n",
    "cardiovascDeathRateBrazil.head(50)\n"
   ]
  },
  {
   "cell_type": "code",
   "execution_count": 174,
   "id": "4b6431bd-f64f-4f22-a28d-1ed8c6a08d01",
   "metadata": {},
   "outputs": [
    {
     "data": {
      "text/plain": [
       "0      215313504.0\n",
       "7      215313504.0\n",
       "14     215313504.0\n",
       "21     215313504.0\n",
       "28     215313504.0\n",
       "35     215313504.0\n",
       "42     215313504.0\n",
       "49     215313504.0\n",
       "56     215313504.0\n",
       "63     215313504.0\n",
       "70     215313504.0\n",
       "77     215313504.0\n",
       "84     215313504.0\n",
       "91     215313504.0\n",
       "98     215313504.0\n",
       "105    215313504.0\n",
       "112    215313504.0\n",
       "119    215313504.0\n",
       "126    215313504.0\n",
       "133    215313504.0\n",
       "140    215313504.0\n",
       "147    215313504.0\n",
       "154    215313504.0\n",
       "161    215313504.0\n",
       "168    215313504.0\n",
       "175    215313504.0\n",
       "182    215313504.0\n",
       "189    215313504.0\n",
       "196    215313504.0\n",
       "203    215313504.0\n",
       "210    215313504.0\n",
       "217    215313504.0\n",
       "224    215313504.0\n",
       "231    215313504.0\n",
       "238    215313504.0\n",
       "245    215313504.0\n",
       "252    215313504.0\n",
       "259    215313504.0\n",
       "266    215313504.0\n",
       "273    215313504.0\n",
       "280    215313504.0\n",
       "287    215313504.0\n",
       "294    215313504.0\n",
       "301    215313504.0\n",
       "308    215313504.0\n",
       "315    215313504.0\n",
       "322    215313504.0\n",
       "329    215313504.0\n",
       "336    215313504.0\n",
       "343    215313504.0\n",
       "Name: population, dtype: float64"
      ]
     },
     "execution_count": 174,
     "metadata": {},
     "output_type": "execute_result"
    }
   ],
   "source": [
    "df17 = pd.DataFrame(veri)\n",
    "PoPulationBrazil = df17[df17['location'] == 'Brazil']\n",
    "PoPulationBrazil = PoPulationBrazil['population']\n",
    "PoPulationBrazil.reset_index(drop=True, inplace=True)#ilk indeksi 0 dan başlattık\n",
    "PoPulationBrazil = PoPulationBrazil[PoPulationBrazil.index % 7 == 0]\n",
    "PoPulationBrazil.head(50)\n"
   ]
  },
  {
   "cell_type": "code",
   "execution_count": 175,
   "id": "1d74de80-35b0-4a25-bb0b-70720050323d",
   "metadata": {},
   "outputs": [
    {
     "data": {
      "text/plain": [
       "0            NaN\n",
       "7          0.000\n",
       "14         0.000\n",
       "21         0.000\n",
       "28         0.000\n",
       "35         0.000\n",
       "42         0.000\n",
       "49         0.000\n",
       "56         0.143\n",
       "63         1.714\n",
       "70        10.143\n",
       "77       117.143\n",
       "84       359.000\n",
       "91       805.571\n",
       "98      1511.714\n",
       "105     2006.286\n",
       "112     2759.000\n",
       "119     5513.429\n",
       "126     7677.000\n",
       "133    10413.571\n",
       "140    16095.286\n",
       "147    19182.286\n",
       "154    25800.714\n",
       "161    26148.429\n",
       "168    29157.571\n",
       "175    34580.143\n",
       "182    37729.571\n",
       "189    37392.286\n",
       "196    35071.571\n",
       "203    42434.000\n",
       "210    45588.429\n",
       "217    42851.000\n",
       "224    44725.429\n",
       "231    36687.143\n",
       "238    38924.714\n",
       "245    41147.000\n",
       "252    27047.429\n",
       "259    30431.286\n",
       "266    27775.714\n",
       "273    27272.857\n",
       "280    25052.143\n",
       "287    20630.286\n",
       "294    21908.000\n",
       "301    23286.000\n",
       "308    16360.429\n",
       "315    25638.714\n",
       "322    29930.286\n",
       "329    31169.429\n",
       "336    42231.143\n",
       "343    43179.857\n",
       "Name: new_cases_smoothed, dtype: float64"
      ]
     },
     "execution_count": 175,
     "metadata": {},
     "output_type": "execute_result"
    }
   ],
   "source": [
    "df50 = pd.DataFrame(veri)\n",
    "newCasesSmoothedsBrazil = df50[df50['location'] == 'Brazil']\n",
    "newCasesSmoothedsBrazil = newCasesSmoothedsBrazil['new_cases_smoothed']\n",
    "newCasesSmoothedsBrazil.reset_index(drop=True, inplace=True)#ilk indeksi 0 dan başlattık\n",
    "\n",
    "newCasesSmoothedsBrazil = newCasesSmoothedsBrazil[newCasesSmoothedsBrazil.index % 7 == 0]\n",
    "newCasesSmoothedsBrazil.head(50)"
   ]
  },
  {
   "cell_type": "code",
   "execution_count": 176,
   "id": "b7c7b272-0b07-4a1f-9789-6668c753a0dd",
   "metadata": {},
   "outputs": [
    {
     "data": {
      "text/plain": [
       "array([[0.00000000e+00, 8.11000000e+00, 1.77961000e+02, 2.15313504e+08,\n",
       "                   nan],\n",
       "       [0.00000000e+00, 8.11000000e+00, 1.77961000e+02, 2.15313504e+08,\n",
       "        0.00000000e+00],\n",
       "       [0.00000000e+00, 8.11000000e+00, 1.77961000e+02, 2.15313504e+08,\n",
       "        0.00000000e+00],\n",
       "       ...,\n",
       "       [0.00000000e+00, 8.11000000e+00, 1.77961000e+02, 2.15313504e+08,\n",
       "        0.00000000e+00],\n",
       "       [0.00000000e+00, 8.11000000e+00, 1.77961000e+02, 2.15313504e+08,\n",
       "        0.00000000e+00],\n",
       "       [0.00000000e+00, 8.11000000e+00, 1.77961000e+02, 2.15313504e+08,\n",
       "        0.00000000e+00]])"
      ]
     },
     "execution_count": 176,
     "metadata": {},
     "output_type": "execute_result"
    }
   ],
   "source": [
    "X = np.column_stack((newCasesBrazil, diabetesPrevalenceBrazil, cardiovascDeathRateBrazil, PoPulationBrazil,newCasesSmoothedsBrazil))\n",
    "X"
   ]
  },
  {
   "cell_type": "code",
   "execution_count": 177,
   "id": "a093c909-3fa4-4f4b-9331-fc8ac543975f",
   "metadata": {},
   "outputs": [
    {
     "data": {
      "text/plain": [
       "0       0.0\n",
       "7       0.0\n",
       "14      0.0\n",
       "21      0.0\n",
       "28      0.0\n",
       "       ... \n",
       "1505    0.0\n",
       "1512    0.0\n",
       "1519    0.0\n",
       "1526    0.0\n",
       "1533    0.0\n",
       "Name: new_deaths, Length: 220, dtype: float64"
      ]
     },
     "execution_count": 177,
     "metadata": {},
     "output_type": "execute_result"
    }
   ],
   "source": [
    "y=  (newDeathsBrazil)\n",
    "y"
   ]
  },
  {
   "cell_type": "code",
   "execution_count": 178,
   "id": "c5017b3f-0937-4de2-bb0d-b4e28569502a",
   "metadata": {},
   "outputs": [],
   "source": [
    "X_train, X_test, y_train, y_test = train_test_split(X, y, test_size = 0.30, random_state = 45)"
   ]
  },
  {
   "cell_type": "code",
   "execution_count": 179,
   "id": "dc69d8cb-3082-409e-8e38-94bc58f61a0d",
   "metadata": {},
   "outputs": [],
   "source": [
    "param_grid = {\n",
    "    'n_estimators': list(range(50, 500,50 )),\n",
    "    'max_depth': [10, 20]\n",
    "}"
   ]
  },
  {
   "cell_type": "code",
   "execution_count": 180,
   "id": "fb7a65c4-bc94-4de7-8eb1-8111c360cf1f",
   "metadata": {},
   "outputs": [
    {
     "name": "stdout",
     "output_type": "stream",
     "text": [
      "En iyi parametreler: {'n_estimators': 350, 'max_depth': 20}\n",
      "En iyi skor: 10417140.126715029\n"
     ]
    }
   ],
   "source": [
    "best_score = float('inf')\n",
    "best_params = None\n",
    "for n_estimators in param_grid['n_estimators']:\n",
    "    for max_depth in param_grid['max_depth']:\n",
    "        \n",
    "        \n",
    "        model = RandomForestRegressor( n_estimators=n_estimators,max_depth=max_depth)  \n",
    "        \n",
    "        model.fit(X_train, y_train)\n",
    "        \n",
    "        \n",
    "        y_pred = model.predict(X_test)\n",
    "        mse = mean_squared_error(y_test, y_pred)\n",
    "        \n",
    "        \n",
    "        if mse < best_score:\n",
    "            best_score = mse\n",
    "            best_params = {'n_estimators': n_estimators, 'max_depth': max_depth}  \n",
    "print(\"En iyi parametreler:\", best_params)\n",
    "print(\"En iyi skor:\", best_score)"
   ]
  },
  {
   "cell_type": "code",
   "execution_count": 181,
   "id": "5e5ad4f4-122c-41d1-a2d0-84702cb26ddf",
   "metadata": {},
   "outputs": [
    {
     "name": "stdout",
     "output_type": "stream",
     "text": [
      "Train Başarısı = % 93.18860441812969\n",
      "Test Başarısı = % 54.743286266624125\n"
     ]
    }
   ],
   "source": [
    "rf=RandomForestRegressor( n_estimators=n_estimators,random_state=50,max_depth=max_depth)\n",
    "rf.fit(X_train,y_train )\n",
    "print(\"Train Başarısı = %\",rf.score(X_train,y_train)*100)\n",
    "print(\"Test Başarısı = %\",rf.score(X_test,y_test)*100)"
   ]
  },
  {
   "cell_type": "code",
   "execution_count": 182,
   "id": "59795f48-2df3-426a-a6be-fc7dba4f2c3e",
   "metadata": {},
   "outputs": [
    {
     "data": {
      "text/plain": [
       "array([4986.57555556])"
      ]
     },
     "execution_count": 182,
     "metadata": {},
     "output_type": "execute_result"
    }
   ],
   "source": [
    "X_new = np.array([[100,20,5,150,1000000]])\n",
    "Brazil=rf.predict(X_new)\n",
    "Brazil"
   ]
  },
  {
   "cell_type": "code",
   "execution_count": 183,
   "id": "aefc8737-5139-4a79-a4ea-cda0ef9c34b5",
   "metadata": {},
   "outputs": [
    {
     "data": {
      "text/plain": [
       "0          1.0\n",
       "7         44.0\n",
       "14        80.0\n",
       "21      1860.0\n",
       "28     12426.0\n",
       "35     22840.0\n",
       "42     31333.0\n",
       "49      8458.0\n",
       "56      2926.0\n",
       "63       891.0\n",
       "70       189.0\n",
       "77       450.0\n",
       "84       843.0\n",
       "91       589.0\n",
       "98       552.0\n",
       "105      719.0\n",
       "112      137.0\n",
       "119       55.0\n",
       "126       37.0\n",
       "133       54.0\n",
       "140       41.0\n",
       "147       45.0\n",
       "154       59.0\n",
       "161      100.0\n",
       "168      268.0\n",
       "175      193.0\n",
       "182      116.0\n",
       "189      216.0\n",
       "196      415.0\n",
       "203      902.0\n",
       "210     1463.0\n",
       "217      847.0\n",
       "224      612.0\n",
       "231      380.0\n",
       "238      210.0\n",
       "245      166.0\n",
       "252      149.0\n",
       "259      174.0\n",
       "266      126.0\n",
       "273      155.0\n",
       "280      184.0\n",
       "287      184.0\n",
       "294      185.0\n",
       "301      247.0\n",
       "308      274.0\n",
       "315      233.0\n",
       "322      220.0\n",
       "329      681.0\n",
       "336      831.0\n",
       "343      790.0\n",
       "Name: new_cases, dtype: float64"
      ]
     },
     "execution_count": 183,
     "metadata": {},
     "output_type": "execute_result"
    }
   ],
   "source": [
    "df18 = pd.DataFrame(veri)\n",
    "newCasesChina = df18[df18['location'] == 'China']\n",
    "newCasesChina = newCasesChina['new_cases']\n",
    "newCasesChina.reset_index(drop=True, inplace=True)#ilk indeksi 0 dan başlattık\n",
    "newCasesChina = newCasesChina[newCasesChina.index % 7 == 0]\n",
    "newCasesChina.head(50)"
   ]
  },
  {
   "cell_type": "code",
   "execution_count": 184,
   "id": "83106b8b-642e-4b68-837d-b8c18e194a34",
   "metadata": {},
   "outputs": [
    {
     "data": {
      "text/plain": [
       "0         0.0\n",
       "7         1.0\n",
       "14        2.0\n",
       "21       53.0\n",
       "28      305.0\n",
       "35      544.0\n",
       "42      862.0\n",
       "49      679.0\n",
       "56      427.0\n",
       "63      228.0\n",
       "70      103.0\n",
       "77       63.0\n",
       "84       39.0\n",
       "91       32.0\n",
       "98       11.0\n",
       "105    1293.0\n",
       "112       0.0\n",
       "119       1.0\n",
       "126       0.0\n",
       "133       2.0\n",
       "140       0.0\n",
       "147       0.0\n",
       "154       0.0\n",
       "161       0.0\n",
       "168       1.0\n",
       "175       2.0\n",
       "182       0.0\n",
       "189       0.0\n",
       "196       5.0\n",
       "203       6.0\n",
       "210      15.0\n",
       "217      14.0\n",
       "224      22.0\n",
       "231       7.0\n",
       "238      11.0\n",
       "245       7.0\n",
       "252       6.0\n",
       "259       3.0\n",
       "266       2.0\n",
       "273       0.0\n",
       "280       0.0\n",
       "287       0.0\n",
       "294       0.0\n",
       "301       0.0\n",
       "308       2.0\n",
       "315       1.0\n",
       "322       0.0\n",
       "329       1.0\n",
       "336       3.0\n",
       "343       3.0\n",
       "Name: new_deaths, dtype: float64"
      ]
     },
     "execution_count": 184,
     "metadata": {},
     "output_type": "execute_result"
    }
   ],
   "source": [
    "df19 = pd.DataFrame(veri)\n",
    "newDeathsChina = df19[df19['location'] == 'China']\n",
    "newDeathsChina = newDeathsChina['new_deaths']\n",
    "newDeathsChina.reset_index(drop=True, inplace=True)#ilk indeksi 0 dan başlattık\n",
    "newDeathsChina = newDeathsChina[newDeathsChina.index % 7 == 0]\n",
    "newDeathsChina.head(50)"
   ]
  },
  {
   "cell_type": "code",
   "execution_count": 185,
   "id": "f2f81012-adf7-454b-873d-cd36de477d86",
   "metadata": {},
   "outputs": [
    {
     "data": {
      "text/plain": [
       "0           NaN\n",
       "7         6.286\n",
       "14       11.429\n",
       "21      265.714\n",
       "28     1775.143\n",
       "35     3262.857\n",
       "42     4476.143\n",
       "49     1208.286\n",
       "56      418.000\n",
       "63      127.286\n",
       "70       27.000\n",
       "77       64.286\n",
       "84      120.429\n",
       "91       84.143\n",
       "98       78.857\n",
       "105     102.714\n",
       "112      19.571\n",
       "119       7.857\n",
       "126       5.286\n",
       "133       7.714\n",
       "140       5.857\n",
       "147       6.429\n",
       "154       8.429\n",
       "161      14.286\n",
       "168      38.286\n",
       "175      27.571\n",
       "182      16.571\n",
       "189      30.857\n",
       "196      59.286\n",
       "203     128.857\n",
       "210     209.000\n",
       "217     121.000\n",
       "224      87.429\n",
       "231      54.286\n",
       "238      30.000\n",
       "245      23.714\n",
       "252      21.286\n",
       "259      24.857\n",
       "266      18.000\n",
       "273      22.143\n",
       "280      26.286\n",
       "287      26.286\n",
       "294      26.429\n",
       "301      35.286\n",
       "308      39.143\n",
       "315      33.286\n",
       "322      31.429\n",
       "329      97.286\n",
       "336     118.714\n",
       "343     112.857\n",
       "Name: new_cases_smoothed, dtype: float64"
      ]
     },
     "execution_count": 185,
     "metadata": {},
     "output_type": "execute_result"
    }
   ],
   "source": [
    "df20 = pd.DataFrame(veri)\n",
    "newCasesSmoothedChina = df20[df20['location'] == 'China']\n",
    "newCasesSmoothedChina = newCasesSmoothedChina['new_cases_smoothed']\n",
    "newCasesSmoothedChina.reset_index(drop=True, inplace=True)#ilk indeksi 0 dan başlattık\n",
    "newCasesSmoothedChina = newCasesSmoothedChina[newCasesSmoothedChina.index % 7 == 0]\n",
    "newCasesSmoothedChina.head(50)"
   ]
  },
  {
   "cell_type": "code",
   "execution_count": 186,
   "id": "aae3ccd2-1994-419e-ad83-aaf1281714d6",
   "metadata": {},
   "outputs": [
    {
     "data": {
      "text/plain": [
       "0      9.74\n",
       "7      9.74\n",
       "14     9.74\n",
       "21     9.74\n",
       "28     9.74\n",
       "35     9.74\n",
       "42     9.74\n",
       "49     9.74\n",
       "56     9.74\n",
       "63     9.74\n",
       "70     9.74\n",
       "77     9.74\n",
       "84     9.74\n",
       "91     9.74\n",
       "98     9.74\n",
       "105    9.74\n",
       "112    9.74\n",
       "119    9.74\n",
       "126    9.74\n",
       "133    9.74\n",
       "140    9.74\n",
       "147    9.74\n",
       "154    9.74\n",
       "161    9.74\n",
       "168    9.74\n",
       "175    9.74\n",
       "182    9.74\n",
       "189    9.74\n",
       "196    9.74\n",
       "203    9.74\n",
       "210    9.74\n",
       "217    9.74\n",
       "224    9.74\n",
       "231    9.74\n",
       "238    9.74\n",
       "245    9.74\n",
       "252    9.74\n",
       "259    9.74\n",
       "266    9.74\n",
       "273    9.74\n",
       "280    9.74\n",
       "287    9.74\n",
       "294    9.74\n",
       "301    9.74\n",
       "308    9.74\n",
       "315    9.74\n",
       "322    9.74\n",
       "329    9.74\n",
       "336    9.74\n",
       "343    9.74\n",
       "Name: diabetes_prevalence, dtype: float64"
      ]
     },
     "execution_count": 186,
     "metadata": {},
     "output_type": "execute_result"
    }
   ],
   "source": [
    "df21 = pd.DataFrame(veri)\n",
    "diabetesPrevalenceChina = df21[df21['location'] == 'China']\n",
    "diabetesPrevalenceChina = diabetesPrevalenceChina['diabetes_prevalence']\n",
    "diabetesPrevalenceChina.reset_index(drop=True, inplace=True)#ilk indeksi 0 dan başlattık\n",
    "diabetesPrevalenceChina = diabetesPrevalenceChina[diabetesPrevalenceChina.index % 7 == 0]\n",
    "diabetesPrevalenceChina.head(50)"
   ]
  },
  {
   "cell_type": "code",
   "execution_count": 187,
   "id": "1f1092b4-4aeb-4355-bb07-4014781a7308",
   "metadata": {},
   "outputs": [
    {
     "data": {
      "text/plain": [
       "0      261.899\n",
       "7      261.899\n",
       "14     261.899\n",
       "21     261.899\n",
       "28     261.899\n",
       "35     261.899\n",
       "42     261.899\n",
       "49     261.899\n",
       "56     261.899\n",
       "63     261.899\n",
       "70     261.899\n",
       "77     261.899\n",
       "84     261.899\n",
       "91     261.899\n",
       "98     261.899\n",
       "105    261.899\n",
       "112    261.899\n",
       "119    261.899\n",
       "126    261.899\n",
       "133    261.899\n",
       "140    261.899\n",
       "147    261.899\n",
       "154    261.899\n",
       "161    261.899\n",
       "168    261.899\n",
       "175    261.899\n",
       "182    261.899\n",
       "189    261.899\n",
       "196    261.899\n",
       "203    261.899\n",
       "210    261.899\n",
       "217    261.899\n",
       "224    261.899\n",
       "231    261.899\n",
       "238    261.899\n",
       "245    261.899\n",
       "252    261.899\n",
       "259    261.899\n",
       "266    261.899\n",
       "273    261.899\n",
       "280    261.899\n",
       "287    261.899\n",
       "294    261.899\n",
       "301    261.899\n",
       "308    261.899\n",
       "315    261.899\n",
       "322    261.899\n",
       "329    261.899\n",
       "336    261.899\n",
       "343    261.899\n",
       "Name: cardiovasc_death_rate, dtype: float64"
      ]
     },
     "execution_count": 187,
     "metadata": {},
     "output_type": "execute_result"
    }
   ],
   "source": [
    "df22 = pd.DataFrame(veri)\n",
    "cardiovascDeathRateChina = df22[df22['location'] == 'China']\n",
    "cardiovascDeathRateChina = cardiovascDeathRateChina['cardiovasc_death_rate']\n",
    "cardiovascDeathRateChina.reset_index(drop=True, inplace=True)#ilk indeksi 0 dan başlattık\n",
    "cardiovascDeathRateChina = cardiovascDeathRateChina[cardiovascDeathRateChina.index % 7 == 0]\n",
    "cardiovascDeathRateChina.head(50)"
   ]
  },
  {
   "cell_type": "code",
   "execution_count": 188,
   "id": "e974250f-0ef3-4504-8a98-d1cfdaeaccfb",
   "metadata": {},
   "outputs": [
    {
     "data": {
      "text/plain": [
       "0      1.425887e+09\n",
       "7      1.425887e+09\n",
       "14     1.425887e+09\n",
       "21     1.425887e+09\n",
       "28     1.425887e+09\n",
       "35     1.425887e+09\n",
       "42     1.425887e+09\n",
       "49     1.425887e+09\n",
       "56     1.425887e+09\n",
       "63     1.425887e+09\n",
       "70     1.425887e+09\n",
       "77     1.425887e+09\n",
       "84     1.425887e+09\n",
       "91     1.425887e+09\n",
       "98     1.425887e+09\n",
       "105    1.425887e+09\n",
       "112    1.425887e+09\n",
       "119    1.425887e+09\n",
       "126    1.425887e+09\n",
       "133    1.425887e+09\n",
       "140    1.425887e+09\n",
       "147    1.425887e+09\n",
       "154    1.425887e+09\n",
       "161    1.425887e+09\n",
       "168    1.425887e+09\n",
       "175    1.425887e+09\n",
       "182    1.425887e+09\n",
       "189    1.425887e+09\n",
       "196    1.425887e+09\n",
       "203    1.425887e+09\n",
       "210    1.425887e+09\n",
       "217    1.425887e+09\n",
       "224    1.425887e+09\n",
       "231    1.425887e+09\n",
       "238    1.425887e+09\n",
       "245    1.425887e+09\n",
       "252    1.425887e+09\n",
       "259    1.425887e+09\n",
       "266    1.425887e+09\n",
       "273    1.425887e+09\n",
       "280    1.425887e+09\n",
       "287    1.425887e+09\n",
       "294    1.425887e+09\n",
       "301    1.425887e+09\n",
       "308    1.425887e+09\n",
       "315    1.425887e+09\n",
       "322    1.425887e+09\n",
       "329    1.425887e+09\n",
       "336    1.425887e+09\n",
       "343    1.425887e+09\n",
       "Name: population, dtype: float64"
      ]
     },
     "execution_count": 188,
     "metadata": {},
     "output_type": "execute_result"
    }
   ],
   "source": [
    "df23 = pd.DataFrame(veri)\n",
    "populationChina = df23[df23['location'] == 'China']\n",
    "populationChina = populationChina['population']\n",
    "populationChina.reset_index(drop=True, inplace=True)#ilk indeksi 0 dan başlattık\n",
    "populationChina = populationChina[populationChina.index % 7 == 0]\n",
    "populationChina.head(50)"
   ]
  },
  {
   "cell_type": "code",
   "execution_count": 189,
   "id": "eed15719-8d29-4630-8f24-0afa01e8747f",
   "metadata": {},
   "outputs": [
    {
     "data": {
      "text/plain": [
       "(220, 5)"
      ]
     },
     "execution_count": 189,
     "metadata": {},
     "output_type": "execute_result"
    }
   ],
   "source": [
    "X = np.column_stack((newCasesChina, newCasesSmoothedChina, diabetesPrevalenceChina, cardiovascDeathRateChina, populationChina))\n",
    "X.shape"
   ]
  },
  {
   "cell_type": "code",
   "execution_count": 190,
   "id": "91add755-e730-4cd9-a421-679bb5a93132",
   "metadata": {},
   "outputs": [
    {
     "name": "stdout",
     "output_type": "stream",
     "text": [
      "220\n"
     ]
    }
   ],
   "source": [
    "y =  (newDeathsChina)\n",
    "print(len(y))"
   ]
  },
  {
   "cell_type": "code",
   "execution_count": 191,
   "id": "c6dba1d8-58b6-4483-bb5b-b59d6f151ddd",
   "metadata": {},
   "outputs": [],
   "source": [
    "X_train, X_test, y_train, y_test = train_test_split(X, y, test_size = 0.25, random_state = 455)"
   ]
  },
  {
   "cell_type": "code",
   "execution_count": null,
   "id": "2de40a3a-7907-4864-8253-db4daf7afa59",
   "metadata": {},
   "outputs": [],
   "source": []
  },
  {
   "cell_type": "code",
   "execution_count": 192,
   "id": "00cbfd1d-f789-4299-81f1-1e373a9c6541",
   "metadata": {},
   "outputs": [],
   "source": [
    "param_grid = {\n",
    "    'n_estimators': list(range(50, 500,50 )),\n",
    "    'max_depth': [10, 20]\n",
    "}"
   ]
  },
  {
   "cell_type": "code",
   "execution_count": 193,
   "id": "c5d39f0e-a836-41b0-99ab-94e437546322",
   "metadata": {},
   "outputs": [
    {
     "name": "stdout",
     "output_type": "stream",
     "text": [
      "En iyi parametreler: {'n_estimators': 350, 'max_depth': 10}\n",
      "En iyi skor: 49697.05401662402\n"
     ]
    }
   ],
   "source": [
    "best_score = float('inf')\n",
    "best_params = None\n",
    "for n_estimators in param_grid['n_estimators']:\n",
    "    for max_depth in param_grid['max_depth']:\n",
    "        \n",
    "       \n",
    "        model = RandomForestRegressor( n_estimators=n_estimators,max_depth=max_depth) \n",
    "        \n",
    "        model.fit(X_train, y_train)\n",
    "        \n",
    "        \n",
    "        y_pred = model.predict(X_test)\n",
    "        mse = mean_squared_error(y_test, y_pred)\n",
    "        \n",
    "        \n",
    "        if mse < best_score:\n",
    "            best_score = mse\n",
    "            best_params = {'n_estimators': n_estimators, 'max_depth': max_depth}  \n",
    "print(\"En iyi parametreler:\", best_params)\n",
    "print(\"En iyi skor:\", best_score)"
   ]
  },
  {
   "cell_type": "code",
   "execution_count": 194,
   "id": "120c7a8d-0f34-48df-96d8-f23e09548167",
   "metadata": {},
   "outputs": [
    {
     "name": "stdout",
     "output_type": "stream",
     "text": [
      "Train Başarısı = % 78.92997256444988\n",
      "Test Başarısı = % 57.72288442336211\n"
     ]
    }
   ],
   "source": [
    "rf=RandomForestRegressor( n_estimators=n_estimators,random_state=80,max_depth=max_depth)\n",
    "rf.fit(X_train,y_train )\n",
    "print(\"Train Başarısı = %\",rf.score(X_train,y_train)*100)\n",
    "print(\"Test Başarısı = %\",rf.score(X_test,y_test)*100)"
   ]
  },
  {
   "cell_type": "code",
   "execution_count": 195,
   "id": "074941e9-301b-4735-b234-fb6e8c65cb2e",
   "metadata": {},
   "outputs": [
    {
     "data": {
      "text/plain": [
       "array([0.56444444])"
      ]
     },
     "execution_count": 195,
     "metadata": {},
     "output_type": "execute_result"
    }
   ],
   "source": [
    "X_new = np.array([[100,20,5,150,1000000]])\n",
    "China=rf.predict(X_new)\n",
    "China\n"
   ]
  },
  {
   "cell_type": "code",
   "execution_count": 201,
   "id": "479a29b7-eabf-4404-b073-bc44a87116c4",
   "metadata": {},
   "outputs": [],
   "source": [
    "ülkeler=['Afghanistan','Australia','Brazil','China']\n",
    "degerler=[3.9254386,5.43333333,1,0.56444444]"
   ]
  },
  {
   "cell_type": "code",
   "execution_count": 202,
   "id": "fd86a722-0954-46ca-98c2-0ddba4b1ef5a",
   "metadata": {},
   "outputs": [
    {
     "data": {
      "image/png": "[encoded data removed]",
      "text/plain": [
       "<Figure size 640x480 with 1 Axes>"
      ]
     },
     "metadata": {},
     "output_type": "display_data"
    }
   ],
   "source": [
    "plt.bar(ülkeler,degerler)\n",
    "plt.show()"
   ]
  },
  {
   "cell_type": "code",
   "execution_count": 3,
   "id": "9787c3f8-0dce-4bbd-9351-b03514c18285",
   "metadata": {},
   "outputs": [
    {
     "data": {
      "text/plain": [
       "0            0.0\n",
       "7            0.0\n",
       "14           0.0\n",
       "21           7.0\n",
       "28           2.0\n",
       "35          11.0\n",
       "42           4.0\n",
       "49          16.0\n",
       "56          33.0\n",
       "63         391.0\n",
       "70        3465.0\n",
       "77       27486.0\n",
       "84       94894.0\n",
       "91      176151.0\n",
       "98      219172.0\n",
       "105     196150.0\n",
       "112     205165.0\n",
       "119     198436.0\n",
       "126     182246.0\n",
       "133     169032.0\n",
       "140     166325.0\n",
       "147     146436.0\n",
       "154     149780.0\n",
       "161     151876.0\n",
       "168     180021.0\n",
       "175     258278.0\n",
       "182     342166.0\n",
       "189     392205.0\n",
       "196     466267.0\n",
       "203     467901.0\n",
       "210     431250.0\n",
       "217     375909.0\n",
       "224     362662.0\n",
       "231     315788.0\n",
       "238     294946.0\n",
       "245     295253.0\n",
       "252     245621.0\n",
       "259     280977.0\n",
       "266     304774.0\n",
       "273     298348.0\n",
       "280     334249.0\n",
       "287     387634.0\n",
       "294     449438.0\n",
       "301     559394.0\n",
       "308     790094.0\n",
       "315    1004845.0\n",
       "322    1175483.0\n",
       "329    1162401.0\n",
       "336    1280932.0\n",
       "343    1468482.0\n",
       "Name: new_cases, dtype: float64"
      ]
     },
     "execution_count": 3,
     "metadata": {},
     "output_type": "execute_result"
    }
   ],
   "source": [
    "df24 = pd.DataFrame(veri)\n",
    "newCasesUSA = df24[df24['location'] == 'United States']\n",
    "newCasesUSA = newCasesUSA['new_cases']\n",
    "newCasesUSA.reset_index(drop=True, inplace=True)#ilk indeksi 0 dan başlattık\n",
    "newCasesUSA = newCasesUSA[newCasesUSA.index % 7 == 0]\n",
    "newCasesUSA.head(50)"
   ]
  },
  {
   "cell_type": "code",
   "execution_count": 4,
   "id": "b4026ccb-b413-4042-8426-d419459cae80",
   "metadata": {},
   "outputs": [
    {
     "data": {
      "text/plain": [
       "0          0.0\n",
       "7          0.0\n",
       "14         0.0\n",
       "21         0.0\n",
       "28         0.0\n",
       "35         0.0\n",
       "42         0.0\n",
       "49         0.0\n",
       "56         1.0\n",
       "63        18.0\n",
       "70        50.0\n",
       "77       305.0\n",
       "84      1732.0\n",
       "91      6642.0\n",
       "98     13889.0\n",
       "105    15898.0\n",
       "112    14899.0\n",
       "119    13635.0\n",
       "126    12758.0\n",
       "133    10130.0\n",
       "140     8558.0\n",
       "147     6810.0\n",
       "154     5987.0\n",
       "161     5370.0\n",
       "168     4455.0\n",
       "175     6081.0\n",
       "182     4451.0\n",
       "189     5529.0\n",
       "196     6666.0\n",
       "203     7726.0\n",
       "210     8146.0\n",
       "217     7799.0\n",
       "224     7404.0\n",
       "231     6677.0\n",
       "238     6343.0\n",
       "245     5705.0\n",
       "252     4977.0\n",
       "259     5176.0\n",
       "266     4776.0\n",
       "273     4687.0\n",
       "280     4615.0\n",
       "287     4801.0\n",
       "294     5723.0\n",
       "301     6096.0\n",
       "308     7204.0\n",
       "315     8717.0\n",
       "322    10820.0\n",
       "329    11950.0\n",
       "336    14801.0\n",
       "343    17714.0\n",
       "Name: new_deaths, dtype: float64"
      ]
     },
     "execution_count": 4,
     "metadata": {},
     "output_type": "execute_result"
    }
   ],
   "source": [
    "df25 = pd.DataFrame(veri)\n",
    "newDeathsUSA = df25[df25['location'] == 'United States']\n",
    "newDeathsUSA = newDeathsUSA['new_deaths']\n",
    "newDeathsUSA.reset_index(drop=True, inplace=True)#ilk indeksi 0 dan başlattık\n",
    "newDeathsUSA = newDeathsUSA[newDeathsUSA.index % 7 == 0]\n",
    "newDeathsUSA.head(50)"
   ]
  },
  {
   "cell_type": "code",
   "execution_count": 5,
   "id": "a7377cff-d1f9-4eae-9673-6c416e04b5f2",
   "metadata": {},
   "outputs": [
    {
     "data": {
      "text/plain": [
       "0             NaN\n",
       "7           0.000\n",
       "14          0.000\n",
       "21          1.000\n",
       "28          0.286\n",
       "35          1.571\n",
       "42          0.571\n",
       "49          2.286\n",
       "56          4.714\n",
       "63         55.857\n",
       "70        495.000\n",
       "77       3926.571\n",
       "84      13556.286\n",
       "91      25164.429\n",
       "98      31310.286\n",
       "105     28021.429\n",
       "112     29309.286\n",
       "119     28348.000\n",
       "126     26035.143\n",
       "133     24147.429\n",
       "140     23760.714\n",
       "147     20919.429\n",
       "154     21397.143\n",
       "161     21696.571\n",
       "168     25717.286\n",
       "175     36896.857\n",
       "182     48880.857\n",
       "189     56029.286\n",
       "196     66609.571\n",
       "203     66843.000\n",
       "210     61607.143\n",
       "217     53701.286\n",
       "224     51808.857\n",
       "231     45112.571\n",
       "238     42135.143\n",
       "245     42179.000\n",
       "252     35088.714\n",
       "259     40139.571\n",
       "266     43539.143\n",
       "273     42621.143\n",
       "280     47749.857\n",
       "287     55376.286\n",
       "294     64205.429\n",
       "301     79913.429\n",
       "308    112870.571\n",
       "315    143549.286\n",
       "322    167926.143\n",
       "329    166057.286\n",
       "336    182990.286\n",
       "343    209783.143\n",
       "Name: new_cases_smoothed, dtype: float64"
      ]
     },
     "execution_count": 5,
     "metadata": {},
     "output_type": "execute_result"
    }
   ],
   "source": [
    "df26 = pd.DataFrame(veri)\n",
    "newCasesSmoothedUSA = df26[df26['location'] == 'United States']\n",
    "newCasesSmoothedUSA = newCasesSmoothedUSA['new_cases_smoothed']\n",
    "newCasesSmoothedUSA.reset_index(drop=True, inplace=True)#ilk indeksi 0 dan başlattık\n",
    "newCasesSmoothedUSA = newCasesSmoothedUSA[newCasesSmoothedUSA.index % 7 == 0]\n",
    "newCasesSmoothedUSA.head(50)"
   ]
  },
  {
   "cell_type": "code",
   "execution_count": 6,
   "id": "031b4803-9b1b-447c-b231-a098762cd5b0",
   "metadata": {},
   "outputs": [
    {
     "data": {
      "text/plain": [
       "0      10.79\n",
       "7      10.79\n",
       "14     10.79\n",
       "21     10.79\n",
       "28     10.79\n",
       "35     10.79\n",
       "42     10.79\n",
       "49     10.79\n",
       "56     10.79\n",
       "63     10.79\n",
       "70     10.79\n",
       "77     10.79\n",
       "84     10.79\n",
       "91     10.79\n",
       "98     10.79\n",
       "105    10.79\n",
       "112    10.79\n",
       "119    10.79\n",
       "126    10.79\n",
       "133    10.79\n",
       "140    10.79\n",
       "147    10.79\n",
       "154    10.79\n",
       "161    10.79\n",
       "168    10.79\n",
       "175    10.79\n",
       "182    10.79\n",
       "189    10.79\n",
       "196    10.79\n",
       "203    10.79\n",
       "210    10.79\n",
       "217    10.79\n",
       "224    10.79\n",
       "231    10.79\n",
       "238    10.79\n",
       "245    10.79\n",
       "252    10.79\n",
       "259    10.79\n",
       "266    10.79\n",
       "273    10.79\n",
       "280    10.79\n",
       "287    10.79\n",
       "294    10.79\n",
       "301    10.79\n",
       "308    10.79\n",
       "315    10.79\n",
       "322    10.79\n",
       "329    10.79\n",
       "336    10.79\n",
       "343    10.79\n",
       "Name: diabetes_prevalence, dtype: float64"
      ]
     },
     "execution_count": 6,
     "metadata": {},
     "output_type": "execute_result"
    }
   ],
   "source": [
    "df27 = pd.DataFrame(veri)\n",
    "diabetesPrevalenceUSA = df27[df27['location'] == 'United States']\n",
    "diabetesPrevalenceUSA = diabetesPrevalenceUSA['diabetes_prevalence']\n",
    "diabetesPrevalenceUSA.reset_index(drop=True, inplace=True)#ilk indeksi 0 dan başlattık\n",
    "diabetesPrevalenceUSA = diabetesPrevalenceUSA[diabetesPrevalenceUSA.index % 7 == 0]\n",
    "diabetesPrevalenceUSA.head(50)"
   ]
  },
  {
   "cell_type": "code",
   "execution_count": 7,
   "id": "f5fa7b9e-9b68-44f2-a7a2-f566e7f8433a",
   "metadata": {},
   "outputs": [
    {
     "data": {
      "text/plain": [
       "0      151.089\n",
       "7      151.089\n",
       "14     151.089\n",
       "21     151.089\n",
       "28     151.089\n",
       "35     151.089\n",
       "42     151.089\n",
       "49     151.089\n",
       "56     151.089\n",
       "63     151.089\n",
       "70     151.089\n",
       "77     151.089\n",
       "84     151.089\n",
       "91     151.089\n",
       "98     151.089\n",
       "105    151.089\n",
       "112    151.089\n",
       "119    151.089\n",
       "126    151.089\n",
       "133    151.089\n",
       "140    151.089\n",
       "147    151.089\n",
       "154    151.089\n",
       "161    151.089\n",
       "168    151.089\n",
       "175    151.089\n",
       "182    151.089\n",
       "189    151.089\n",
       "196    151.089\n",
       "203    151.089\n",
       "210    151.089\n",
       "217    151.089\n",
       "224    151.089\n",
       "231    151.089\n",
       "238    151.089\n",
       "245    151.089\n",
       "252    151.089\n",
       "259    151.089\n",
       "266    151.089\n",
       "273    151.089\n",
       "280    151.089\n",
       "287    151.089\n",
       "294    151.089\n",
       "301    151.089\n",
       "308    151.089\n",
       "315    151.089\n",
       "322    151.089\n",
       "329    151.089\n",
       "336    151.089\n",
       "343    151.089\n",
       "Name: cardiovasc_death_rate, dtype: float64"
      ]
     },
     "execution_count": 7,
     "metadata": {},
     "output_type": "execute_result"
    }
   ],
   "source": [
    "df28 = pd.DataFrame(veri)\n",
    "cardiovascDeathRateUSA = df28[df28['location'] == 'United States']\n",
    "cardiovascDeathRateUSA = cardiovascDeathRateUSA['cardiovasc_death_rate']\n",
    "cardiovascDeathRateUSA.reset_index(drop=True, inplace=True)#ilk indeksi 0 dan başlattık\n",
    "cardiovascDeathRateUSA = cardiovascDeathRateUSA[cardiovascDeathRateUSA.index % 7 == 0]\n",
    "cardiovascDeathRateUSA.head(50)"
   ]
  },
  {
   "cell_type": "code",
   "execution_count": 8,
   "id": "e1f22839-66ba-48e1-8185-7c124632ade3",
   "metadata": {},
   "outputs": [
    {
     "data": {
      "text/plain": [
       "0      338289856.0\n",
       "7      338289856.0\n",
       "14     338289856.0\n",
       "21     338289856.0\n",
       "28     338289856.0\n",
       "35     338289856.0\n",
       "42     338289856.0\n",
       "49     338289856.0\n",
       "56     338289856.0\n",
       "63     338289856.0\n",
       "70     338289856.0\n",
       "77     338289856.0\n",
       "84     338289856.0\n",
       "91     338289856.0\n",
       "98     338289856.0\n",
       "105    338289856.0\n",
       "112    338289856.0\n",
       "119    338289856.0\n",
       "126    338289856.0\n",
       "133    338289856.0\n",
       "140    338289856.0\n",
       "147    338289856.0\n",
       "154    338289856.0\n",
       "161    338289856.0\n",
       "168    338289856.0\n",
       "175    338289856.0\n",
       "182    338289856.0\n",
       "189    338289856.0\n",
       "196    338289856.0\n",
       "203    338289856.0\n",
       "210    338289856.0\n",
       "217    338289856.0\n",
       "224    338289856.0\n",
       "231    338289856.0\n",
       "238    338289856.0\n",
       "245    338289856.0\n",
       "252    338289856.0\n",
       "259    338289856.0\n",
       "266    338289856.0\n",
       "273    338289856.0\n",
       "280    338289856.0\n",
       "287    338289856.0\n",
       "294    338289856.0\n",
       "301    338289856.0\n",
       "308    338289856.0\n",
       "315    338289856.0\n",
       "322    338289856.0\n",
       "329    338289856.0\n",
       "336    338289856.0\n",
       "343    338289856.0\n",
       "Name: population, dtype: float64"
      ]
     },
     "execution_count": 8,
     "metadata": {},
     "output_type": "execute_result"
    }
   ],
   "source": [
    "df29 = pd.DataFrame(veri)\n",
    "populationUSA = df29[df29['location'] == 'United States']\n",
    "populationUSA = populationUSA['population']\n",
    "populationUSA.reset_index(drop=True, inplace=True)#ilk indeksi 0 dan başlattık\n",
    "populationUSA = populationUSA[populationUSA.index % 7 == 0]\n",
    "populationUSA.head(50)"
   ]
  },
  {
   "cell_type": "code",
   "execution_count": 9,
   "id": "aaa078c1-d002-42e9-b891-2efca9d63174",
   "metadata": {},
   "outputs": [
    {
     "data": {
      "text/plain": [
       "(220, 5)"
      ]
     },
     "execution_count": 9,
     "metadata": {},
     "output_type": "execute_result"
    }
   ],
   "source": [
    "X = np.column_stack((newCasesUSA, newCasesSmoothedUSA, diabetesPrevalenceUSA, cardiovascDeathRateUSA, populationUSA))\n",
    "X.shape"
   ]
  },
  {
   "cell_type": "code",
   "execution_count": 10,
   "id": "eea2d2c0-d897-44f8-9393-b40d56006036",
   "metadata": {},
   "outputs": [
    {
     "name": "stdout",
     "output_type": "stream",
     "text": [
      "220\n"
     ]
    }
   ],
   "source": [
    "y =  (newDeathsUSA)\n",
    "print(len(y))"
   ]
  },
  {
   "cell_type": "code",
   "execution_count": 11,
   "id": "9573db90-c18f-4191-8e33-654ad83ba679",
   "metadata": {},
   "outputs": [],
   "source": [
    "X_train, X_test, y_train, y_test = train_test_split(X, y, test_size = 0.25, random_state = 455)"
   ]
  },
  {
   "cell_type": "code",
   "execution_count": 12,
   "id": "37bd1396-b04d-4ff6-9ff2-667592516015",
   "metadata": {},
   "outputs": [],
   "source": [
    "param_grid = {\n",
    "    'n_estimators': list(range(50, 500,50 )),\n",
    "    'max_depth': [10, 20]\n",
    "}"
   ]
  },
  {
   "cell_type": "code",
   "execution_count": 13,
   "id": "f9f3c74f-f4b5-4a49-966a-35ab99f37222",
   "metadata": {},
   "outputs": [
    {
     "name": "stdout",
     "output_type": "stream",
     "text": [
      "En iyi parametreler: {'n_estimators': 300, 'max_depth': 10}\n",
      "En iyi skor: 20635087.32541807\n"
     ]
    }
   ],
   "source": [
    "best_score = float('inf')\n",
    "best_params = None\n",
    "for n_estimators in param_grid['n_estimators']:\n",
    "    for max_depth in param_grid['max_depth']:\n",
    "        \n",
    "       \n",
    "        model = RandomForestRegressor( n_estimators=n_estimators,max_depth=max_depth) \n",
    "        \n",
    "        model.fit(X_train, y_train)\n",
    "        \n",
    "        \n",
    "        y_pred = model.predict(X_test)\n",
    "        mse = mean_squared_error(y_test, y_pred)\n",
    "        \n",
    "        \n",
    "        if mse < best_score:\n",
    "            best_score = mse\n",
    "            best_params = {'n_estimators': n_estimators, 'max_depth': max_depth}  \n",
    "print(\"En iyi parametreler:\", best_params)\n",
    "print(\"En iyi skor:\", best_score)"
   ]
  },
  {
   "cell_type": "code",
   "execution_count": 14,
   "id": "d9cb5a56-f301-451f-b338-309d70dcb731",
   "metadata": {},
   "outputs": [
    {
     "name": "stdout",
     "output_type": "stream",
     "text": [
      "Train Başarısı = % 93.3130373495796\n",
      "Test Başarısı = % 20.87537609689537\n"
     ]
    }
   ],
   "source": [
    "rf=RandomForestRegressor( n_estimators=n_estimators,random_state=80,max_depth=max_depth)\n",
    "rf.fit(X_train,y_train )\n",
    "print(\"Train Başarısı = %\",rf.score(X_train,y_train)*100)\n",
    "print(\"Test Başarısı = %\",rf.score(X_test,y_test)*100)"
   ]
  },
  {
   "cell_type": "code",
   "execution_count": 15,
   "id": "34b6589c-ed13-4a91-9f89-fa8204e53442",
   "metadata": {},
   "outputs": [
    {
     "data": {
      "text/plain": [
       "array([0.])"
      ]
     },
     "execution_count": 15,
     "metadata": {},
     "output_type": "execute_result"
    }
   ],
   "source": [
    "X_new = np.array([[100,20,5,150,1000000]])\n",
    "USA=rf.predict(X_new)\n",
    "USA\n"
   ]
  },
  {
   "cell_type": "code",
   "execution_count": null,
   "id": "d5f053ca-66d2-423c-80e7-971e84faf8c0",
   "metadata": {},
   "outputs": [],
   "source": []
  }
 ],
 "metadata": {
  "kernelspec": {
   "display_name": "Python 3 (ipykernel)",
   "language": "python",
   "name": "python3"
  },
  "language_info": {
   "codemirror_mode": {
    "name": "ipython",
    "version": 3
   },
   "file_extension": ".py",
   "mimetype": "text/x-python",
   "name": "python",
   "nbconvert_exporter": "python",
   "pygments_lexer": "ipython3",
   "version": "3.11.4"
  }
 },
 "nbformat": 4,
 "nbformat_minor": 5
}
