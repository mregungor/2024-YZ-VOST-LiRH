{
  "nbformat": 4,
  "nbformat_minor": 0,
  "metadata": {
    "colab": {
      "provenance": []
    },
    "kernelspec": {
      "name": "python3",
      "display_name": "Python 3"
    },
    "language_info": {
      "name": "python"
    }
  },
  "cells": [
    {
      "cell_type": "code",
      "execution_count": null,
      "metadata": {
        "id": "6uOtCekpYcln",
        "colab": {
          "base_uri": "https://localhost:8080/"
        },
        "outputId": "7bc5a62a-f0c1-4d22-b703-2588bc740cfc"
      },
      "outputs": [
        {
          "output_type": "stream",
          "name": "stdout",
          "text": [
            "Mounted at /content/drive\n"
          ]
        }
      ],
      "source": [
        "from google.colab import drive\n",
        "drive.mount('/content/drive')"
      ]
    },
    {
      "cell_type": "code",
      "source": [
        "file_path = '/content/drive/My Drive/myData/owid-covid-data.csv'\n",
        "\n",
        "\n"
      ],
      "metadata": {
        "id": "5di6V4joDIgQ"
      },
      "execution_count": null,
      "outputs": []
    },
    {
      "cell_type": "code",
      "source": [
        "import numpy as np\n",
        "import pandas as pd\n",
        "from sklearn.model_selection import train_test_split\n",
        "from scipy import stats\n",
        "from sklearn.metrics import mean_absolute_error, r2_score, mean_squared_error, accuracy_score, precision_score\n",
        "veri = pd.read_csv(file_path)"
      ],
      "metadata": {
        "id": "dekELLLoCy2A"
      },
      "execution_count": null,
      "outputs": []
    },
    {
      "cell_type": "code",
      "source": [
        "veri.loc[0:4,\"new_cases_smoothed\"]=0\n",
        "veri.head(10)\n",
        "df1=pd.DataFrame(veri)\n",
        "newCasesAfghanistan = df1[df1['location'] == 'Afghanistan']\n",
        "newCasesAfghanistan = newCasesAfghanistan['new_cases']\n",
        "newCasesAfghanistan = newCasesAfghanistan[newCasesAfghanistan.index % 7 == 0]\n",
        "newCasesAfghanistan.head(50)\n"
      ],
      "metadata": {
        "colab": {
          "base_uri": "https://localhost:8080/"
        },
        "id": "zoreHOUrcVIa",
        "outputId": "56e98217-35a6-4aef-e6a6-967ecfc8e79e"
      },
      "execution_count": null,
      "outputs": [
        {
          "output_type": "execute_result",
          "data": {
            "text/plain": [
              "0         0.0\n",
              "7         0.0\n",
              "14        0.0\n",
              "21        0.0\n",
              "28        0.0\n",
              "35        0.0\n",
              "42        0.0\n",
              "49        0.0\n",
              "56        1.0\n",
              "63        0.0\n",
              "70        6.0\n",
              "77       17.0\n",
              "84       67.0\n",
              "91      183.0\n",
              "98      247.0\n",
              "105     387.0\n",
              "112     422.0\n",
              "119     841.0\n",
              "126    1392.0\n",
              "133    2490.0\n",
              "140    3813.0\n",
              "147    4577.0\n",
              "154    5108.0\n",
              "161    4551.0\n",
              "168    4195.0\n",
              "175    2319.0\n",
              "182    2056.0\n",
              "189    1679.0\n",
              "196     938.0\n",
              "203     747.0\n",
              "210     674.0\n",
              "217     305.0\n",
              "224     536.0\n",
              "231     343.0\n",
              "238     249.0\n",
              "245     161.0\n",
              "252     337.0\n",
              "259     278.0\n",
              "266     273.0\n",
              "273     105.0\n",
              "280     406.0\n",
              "287     438.0\n",
              "294     627.0\n",
              "301     657.0\n",
              "308     608.0\n",
              "315    1002.0\n",
              "322    1468.0\n",
              "329    1463.0\n",
              "336    1675.0\n",
              "343    1311.0\n",
              "Name: new_cases, dtype: float64"
            ]
          },
          "metadata": {},
          "execution_count": 4
        }
      ]
    },
    {
      "cell_type": "code",
      "source": [
        "df2 = pd.DataFrame(veri)\n",
        "newDeathsAfghanistan = df2[df2['location'] =='Afghanistan']\n",
        "newDeathsAfghanistan = newDeathsAfghanistan['new_deaths']\n",
        "newDeathsAfghanistan = newDeathsAfghanistan[newDeathsAfghanistan.index % 7 == 0]\n",
        "newDeathsAfghanistan.head(50)\n",
        "\n",
        "df3 = pd.DataFrame(veri)\n",
        "newCasesSmoothedAfghanistan = df3[df3['location'] =='Afghanistan']\n",
        "newCasesSmoothedAfghanistan = newCasesSmoothedAfghanistan['new_cases_smoothed']\n",
        "newCasesSmoothedAfghanistan = newCasesSmoothedAfghanistan[newCasesSmoothedAfghanistan.index % 7 == 0]\n",
        "\n",
        "df4 = pd.DataFrame(veri)\n",
        "diabetesPrevalenceAfghanistan = df4[df4['location'] =='Afghanistan']\n",
        "diabetesPrevalenceAfghanistan = diabetesPrevalenceAfghanistan['diabetes_prevalence']\n",
        "diabetesPrevalenceAfghanistan = diabetesPrevalenceAfghanistan[diabetesPrevalenceAfghanistan.index % 7 == 0]\n",
        "\n",
        "df5 = pd.DataFrame(veri)\n",
        "cardiovascDeathRateAfghanistan = df5[df5['location'] =='Afghanistan']\n",
        "cardiovascDeathRateAfghanistan = cardiovascDeathRateAfghanistan['cardiovasc_death_rate']\n",
        "cardiovascDeathRateAfghanistan = cardiovascDeathRateAfghanistan[cardiovascDeathRateAfghanistan.index % 7 == 0]\n",
        "\n",
        "df6 = pd.DataFrame(veri)\n",
        "PoPulationAfghanistan = df6[df6['location'] =='Afghanistan']\n",
        "PoPulationAfghanistan = PoPulationAfghanistan['population']\n",
        "PoPulationAfghanistan = PoPulationAfghanistan[PoPulationAfghanistan.index % 7 == 0]\n",
        "\n",
        "#Ölçeklendirme-normalizasyon\n",
        "from sklearn.preprocessing import MinMaxScaler\n",
        "scaler=MinMaxScaler()\n",
        "newCasesAfghanistan = newCasesAfghanistan.values\n",
        "newCasesAfghanistan = newCasesAfghanistan.reshape(-1, 1)\n",
        "newCasesAfghanistan = scaler.fit_transform(newCasesAfghanistan)\n",
        "\n",
        "\n",
        "newCasesSmoothedAfghanistan = newCasesSmoothedAfghanistan.values\n",
        "newCasesSmoothedAfghanistan = newCasesSmoothedAfghanistan.reshape(-1, 1)\n",
        "newCasesSmoothedAfghanistan = scaler.fit_transform(newCasesSmoothedAfghanistan)\n",
        "\n",
        "\n",
        "diabetesPrevalenceAfghanistan = diabetesPrevalenceAfghanistan.values\n",
        "diabetesPrevalenceAfghanistan = diabetesPrevalenceAfghanistan.reshape(-1, 1)\n",
        "diabetesPrevalenceAfghanistan = scaler.fit_transform(diabetesPrevalenceAfghanistan)\n",
        "\n",
        "\n",
        "cardiovascDeathRateAfghanistan = cardiovascDeathRateAfghanistan.values\n",
        "cardiovascDeathRateAfghanistan = cardiovascDeathRateAfghanistan.reshape(-1, 1)\n",
        "cardiovascDeathRateAfghanistan = scaler.fit_transform(cardiovascDeathRateAfghanistan)\n",
        "\n",
        "\n",
        "PoPulationAfghanistan = PoPulationAfghanistan.values\n",
        "PoPulationAfghanistan = PoPulationAfghanistan.reshape(-1, 1)\n",
        "PoPulationAfghanistan = scaler.fit_transform(PoPulationAfghanistan)\n",
        "\n",
        "\n",
        "X = np.column_stack((newCasesAfghanistan, newCasesSmoothedAfghanistan, diabetesPrevalenceAfghanistan, cardiovascDeathRateAfghanistan, PoPulationAfghanistan))\n",
        "print(X.shape)\n",
        "\n",
        "\n",
        "y =  (newDeathsAfghanistan)\n",
        "print(y.shape)\n",
        "#eğitim ve test veri setlerinin ayrılması\n",
        "X_train, X_test, y_train, y_test = train_test_split(X, y, test_size=0.3,random_state=44)\n",
        "\n",
        "y_train = np.array(y_train)\n",
        "y_test = np.array(y_test)\n",
        "y_train = scaler.fit_transform(y_train.reshape(-1, 1))\n",
        "y_test = scaler.fit_transform(y_test.reshape(-1, 1))\n",
        "print(len(X_test))\n",
        "print(len(X_train))"
      ],
      "metadata": {
        "colab": {
          "base_uri": "https://localhost:8080/"
        },
        "id": "ER0Vt9BWcXTZ",
        "outputId": "7bc1b6d0-23a2-4ed2-f856-9201cadef343"
      },
      "execution_count": null,
      "outputs": [
        {
          "output_type": "stream",
          "name": "stdout",
          "text": [
            "(220, 5)\n",
            "(220,)\n",
            "66\n",
            "154\n"
          ]
        }
      ]
    },
    {
      "cell_type": "code",
      "source": [
        "import time\n",
        "from keras.models import Sequential\n",
        "from keras.layers import Dense\n",
        "import keras\n",
        "from keras.losses import binary_crossentropy"
      ],
      "metadata": {
        "id": "q7lwherccdIy"
      },
      "execution_count": null,
      "outputs": []
    },
    {
      "cell_type": "code",
      "source": [
        "param_grid = {\n",
        "    'n_activation': (\"relu\",\"sigmoid\",\"tanh\")\n",
        "\n",
        "}"
      ],
      "metadata": {
        "id": "uo68DOyVbr86"
      },
      "execution_count": null,
      "outputs": []
    },
    {
      "cell_type": "code",
      "source": [
        "best_score = float('inf')\n",
        "best_params = None\n",
        "\n",
        "for n_activation in param_grid['n_activation']:\n",
        "\n",
        "  siniflandirici = Sequential()\n",
        "  siniflandirici.add(Dense(units=6, activation=n_activation, input_dim=5))#ilk katman 5 giris\n",
        "  siniflandirici.add(Dense(units=6, activation=n_activation))\n",
        "  siniflandirici.add(Dense(units=6, activation=n_activation))\n",
        "  siniflandirici.add(Dense(units=6, activation=n_activation))\n",
        "  siniflandirici.add(Dense(units=1, activation=n_activation))  # Son katman, tek sınıf\n",
        "\n",
        "  siniflandirici.compile(optimizer='adam', loss=binary_crossentropy, metrics=['accuracy'])\n",
        "\n",
        "  siniflandirici.fit(X_train, y_train, batch_size=10, epochs=100)\n",
        "\n",
        "  Y_pred_Ysa = siniflandirici.predict(X_test)\n",
        "\n",
        "  mse=mean_squared_error(y_test, Y_pred_Ysa)\n",
        "\n",
        "  if mse < best_score:\n",
        "            best_score = mse\n",
        "            best_params = {'n_activation': n_activation}\n",
        "print(\"En iyi parametreler:\", best_params)\n",
        "\n",
        "print(\"En iyi skor:\", best_score)\n"
      ],
      "metadata": {
        "colab": {
          "base_uri": "https://localhost:8080/",
          "height": 1000
        },
        "id": "PNxT00A6c0ip",
        "outputId": "a9f9c2a6-c454-42a5-fd1f-5ada82f8dcb3"
      },
      "execution_count": null,
      "outputs": [
        {
          "output_type": "stream",
          "name": "stdout",
          "text": [
            "Epoch 1/100\n",
            "16/16 [==============================] - 2s 5ms/step - loss: 0.7942 - accuracy: 0.1429\n",
            "Epoch 2/100\n",
            "16/16 [==============================] - 0s 5ms/step - loss: 0.7942 - accuracy: 0.1429\n",
            "Epoch 3/100\n",
            "16/16 [==============================] - 0s 3ms/step - loss: 0.7942 - accuracy: 0.1429\n",
            "Epoch 4/100\n",
            "16/16 [==============================] - 0s 3ms/step - loss: 0.7942 - accuracy: 0.1429\n",
            "Epoch 5/100\n",
            "16/16 [==============================] - 0s 4ms/step - loss: 0.7942 - accuracy: 0.1429\n",
            "Epoch 6/100\n",
            "16/16 [==============================] - 0s 4ms/step - loss: 0.7942 - accuracy: 0.1429\n",
            "Epoch 7/100\n",
            "16/16 [==============================] - 0s 4ms/step - loss: 0.7942 - accuracy: 0.1429\n",
            "Epoch 8/100\n",
            "16/16 [==============================] - 0s 5ms/step - loss: 0.7942 - accuracy: 0.1429\n",
            "Epoch 9/100\n",
            "16/16 [==============================] - 0s 6ms/step - loss: 0.7942 - accuracy: 0.1429\n",
            "Epoch 10/100\n",
            "16/16 [==============================] - 0s 5ms/step - loss: 0.7942 - accuracy: 0.1429\n",
            "Epoch 11/100\n",
            "16/16 [==============================] - 0s 6ms/step - loss: 0.7942 - accuracy: 0.1429\n",
            "Epoch 12/100\n",
            "16/16 [==============================] - 0s 5ms/step - loss: 0.7942 - accuracy: 0.1429\n",
            "Epoch 13/100\n",
            "16/16 [==============================] - 0s 6ms/step - loss: 0.7942 - accuracy: 0.1429\n",
            "Epoch 14/100\n",
            "16/16 [==============================] - 0s 6ms/step - loss: 0.7942 - accuracy: 0.1429\n",
            "Epoch 15/100\n",
            "16/16 [==============================] - 0s 5ms/step - loss: 0.7942 - accuracy: 0.1429\n",
            "Epoch 16/100\n",
            "16/16 [==============================] - 0s 5ms/step - loss: 0.7942 - accuracy: 0.1429\n",
            "Epoch 17/100\n",
            "16/16 [==============================] - 0s 4ms/step - loss: 0.7942 - accuracy: 0.1429\n",
            "Epoch 18/100\n",
            "16/16 [==============================] - 0s 5ms/step - loss: 0.7942 - accuracy: 0.1429\n",
            "Epoch 19/100\n",
            "16/16 [==============================] - 0s 5ms/step - loss: 0.7942 - accuracy: 0.1429\n",
            "Epoch 20/100\n",
            "16/16 [==============================] - 0s 4ms/step - loss: 0.7942 - accuracy: 0.1429\n",
            "Epoch 21/100\n",
            "16/16 [==============================] - 0s 6ms/step - loss: 0.7942 - accuracy: 0.1429\n",
            "Epoch 22/100\n",
            "16/16 [==============================] - 0s 5ms/step - loss: 0.7942 - accuracy: 0.1429\n",
            "Epoch 23/100\n",
            "16/16 [==============================] - 0s 5ms/step - loss: 0.7942 - accuracy: 0.1429\n",
            "Epoch 24/100\n",
            "16/16 [==============================] - 0s 5ms/step - loss: 0.7942 - accuracy: 0.1429\n",
            "Epoch 25/100\n",
            "16/16 [==============================] - 0s 5ms/step - loss: 0.7942 - accuracy: 0.1429\n",
            "Epoch 26/100\n",
            "16/16 [==============================] - 0s 4ms/step - loss: 0.7942 - accuracy: 0.1429\n",
            "Epoch 27/100\n",
            "16/16 [==============================] - 0s 6ms/step - loss: 0.7942 - accuracy: 0.1429\n",
            "Epoch 28/100\n",
            " 1/16 [>.............................] - ETA: 0s - loss: 0.5392 - accuracy: 0.1000"
          ]
        },
        {
          "output_type": "error",
          "ename": "KeyboardInterrupt",
          "evalue": "",
          "traceback": [
            "\u001b[0;31m---------------------------------------------------------------------------\u001b[0m",
            "\u001b[0;31mKeyboardInterrupt\u001b[0m                         Traceback (most recent call last)",
            "\u001b[0;32m<ipython-input-8-2c5cafb4d56f>\u001b[0m in \u001b[0;36m<cell line: 4>\u001b[0;34m()\u001b[0m\n\u001b[1;32m     13\u001b[0m   \u001b[0msiniflandirici\u001b[0m\u001b[0;34m.\u001b[0m\u001b[0mcompile\u001b[0m\u001b[0;34m(\u001b[0m\u001b[0moptimizer\u001b[0m\u001b[0;34m=\u001b[0m\u001b[0;34m'adam'\u001b[0m\u001b[0;34m,\u001b[0m \u001b[0mloss\u001b[0m\u001b[0;34m=\u001b[0m\u001b[0mbinary_crossentropy\u001b[0m\u001b[0;34m,\u001b[0m \u001b[0mmetrics\u001b[0m\u001b[0;34m=\u001b[0m\u001b[0;34m[\u001b[0m\u001b[0;34m'accuracy'\u001b[0m\u001b[0;34m]\u001b[0m\u001b[0;34m)\u001b[0m\u001b[0;34m\u001b[0m\u001b[0;34m\u001b[0m\u001b[0m\n\u001b[1;32m     14\u001b[0m \u001b[0;34m\u001b[0m\u001b[0m\n\u001b[0;32m---> 15\u001b[0;31m   \u001b[0msiniflandirici\u001b[0m\u001b[0;34m.\u001b[0m\u001b[0mfit\u001b[0m\u001b[0;34m(\u001b[0m\u001b[0mX_train\u001b[0m\u001b[0;34m,\u001b[0m \u001b[0my_train\u001b[0m\u001b[0;34m,\u001b[0m \u001b[0mbatch_size\u001b[0m\u001b[0;34m=\u001b[0m\u001b[0;36m10\u001b[0m\u001b[0;34m,\u001b[0m \u001b[0mepochs\u001b[0m\u001b[0;34m=\u001b[0m\u001b[0;36m100\u001b[0m\u001b[0;34m)\u001b[0m\u001b[0;34m\u001b[0m\u001b[0;34m\u001b[0m\u001b[0m\n\u001b[0m\u001b[1;32m     16\u001b[0m \u001b[0;34m\u001b[0m\u001b[0m\n\u001b[1;32m     17\u001b[0m   \u001b[0mY_pred_Ysa\u001b[0m \u001b[0;34m=\u001b[0m \u001b[0msiniflandirici\u001b[0m\u001b[0;34m.\u001b[0m\u001b[0mpredict\u001b[0m\u001b[0;34m(\u001b[0m\u001b[0mX_test\u001b[0m\u001b[0;34m)\u001b[0m\u001b[0;34m\u001b[0m\u001b[0;34m\u001b[0m\u001b[0m\n",
            "\u001b[0;32m/usr/local/lib/python3.10/dist-packages/keras/src/utils/traceback_utils.py\u001b[0m in \u001b[0;36merror_handler\u001b[0;34m(*args, **kwargs)\u001b[0m\n\u001b[1;32m     63\u001b[0m         \u001b[0mfiltered_tb\u001b[0m \u001b[0;34m=\u001b[0m \u001b[0;32mNone\u001b[0m\u001b[0;34m\u001b[0m\u001b[0;34m\u001b[0m\u001b[0m\n\u001b[1;32m     64\u001b[0m         \u001b[0;32mtry\u001b[0m\u001b[0;34m:\u001b[0m\u001b[0;34m\u001b[0m\u001b[0;34m\u001b[0m\u001b[0m\n\u001b[0;32m---> 65\u001b[0;31m             \u001b[0;32mreturn\u001b[0m \u001b[0mfn\u001b[0m\u001b[0;34m(\u001b[0m\u001b[0;34m*\u001b[0m\u001b[0margs\u001b[0m\u001b[0;34m,\u001b[0m \u001b[0;34m**\u001b[0m\u001b[0mkwargs\u001b[0m\u001b[0;34m)\u001b[0m\u001b[0;34m\u001b[0m\u001b[0;34m\u001b[0m\u001b[0m\n\u001b[0m\u001b[1;32m     66\u001b[0m         \u001b[0;32mexcept\u001b[0m \u001b[0mException\u001b[0m \u001b[0;32mas\u001b[0m \u001b[0me\u001b[0m\u001b[0;34m:\u001b[0m\u001b[0;34m\u001b[0m\u001b[0;34m\u001b[0m\u001b[0m\n\u001b[1;32m     67\u001b[0m             \u001b[0mfiltered_tb\u001b[0m \u001b[0;34m=\u001b[0m \u001b[0m_process_traceback_frames\u001b[0m\u001b[0;34m(\u001b[0m\u001b[0me\u001b[0m\u001b[0;34m.\u001b[0m\u001b[0m__traceback__\u001b[0m\u001b[0;34m)\u001b[0m\u001b[0;34m\u001b[0m\u001b[0;34m\u001b[0m\u001b[0m\n",
            "\u001b[0;32m/usr/local/lib/python3.10/dist-packages/keras/src/engine/training.py\u001b[0m in \u001b[0;36mfit\u001b[0;34m(self, x, y, batch_size, epochs, verbose, callbacks, validation_split, validation_data, shuffle, class_weight, sample_weight, initial_epoch, steps_per_epoch, validation_steps, validation_batch_size, validation_freq, max_queue_size, workers, use_multiprocessing)\u001b[0m\n\u001b[1;32m   1805\u001b[0m                         ):\n\u001b[1;32m   1806\u001b[0m                             \u001b[0mcallbacks\u001b[0m\u001b[0;34m.\u001b[0m\u001b[0mon_train_batch_begin\u001b[0m\u001b[0;34m(\u001b[0m\u001b[0mstep\u001b[0m\u001b[0;34m)\u001b[0m\u001b[0;34m\u001b[0m\u001b[0;34m\u001b[0m\u001b[0m\n\u001b[0;32m-> 1807\u001b[0;31m                             \u001b[0mtmp_logs\u001b[0m \u001b[0;34m=\u001b[0m \u001b[0mself\u001b[0m\u001b[0;34m.\u001b[0m\u001b[0mtrain_function\u001b[0m\u001b[0;34m(\u001b[0m\u001b[0miterator\u001b[0m\u001b[0;34m)\u001b[0m\u001b[0;34m\u001b[0m\u001b[0;34m\u001b[0m\u001b[0m\n\u001b[0m\u001b[1;32m   1808\u001b[0m                             \u001b[0;32mif\u001b[0m \u001b[0mdata_handler\u001b[0m\u001b[0;34m.\u001b[0m\u001b[0mshould_sync\u001b[0m\u001b[0;34m:\u001b[0m\u001b[0;34m\u001b[0m\u001b[0;34m\u001b[0m\u001b[0m\n\u001b[1;32m   1809\u001b[0m                                 \u001b[0mcontext\u001b[0m\u001b[0;34m.\u001b[0m\u001b[0masync_wait\u001b[0m\u001b[0;34m(\u001b[0m\u001b[0;34m)\u001b[0m\u001b[0;34m\u001b[0m\u001b[0;34m\u001b[0m\u001b[0m\n",
            "\u001b[0;32m/usr/local/lib/python3.10/dist-packages/tensorflow/python/util/traceback_utils.py\u001b[0m in \u001b[0;36merror_handler\u001b[0;34m(*args, **kwargs)\u001b[0m\n\u001b[1;32m    148\u001b[0m     \u001b[0mfiltered_tb\u001b[0m \u001b[0;34m=\u001b[0m \u001b[0;32mNone\u001b[0m\u001b[0;34m\u001b[0m\u001b[0;34m\u001b[0m\u001b[0m\n\u001b[1;32m    149\u001b[0m     \u001b[0;32mtry\u001b[0m\u001b[0;34m:\u001b[0m\u001b[0;34m\u001b[0m\u001b[0;34m\u001b[0m\u001b[0m\n\u001b[0;32m--> 150\u001b[0;31m       \u001b[0;32mreturn\u001b[0m \u001b[0mfn\u001b[0m\u001b[0;34m(\u001b[0m\u001b[0;34m*\u001b[0m\u001b[0margs\u001b[0m\u001b[0;34m,\u001b[0m \u001b[0;34m**\u001b[0m\u001b[0mkwargs\u001b[0m\u001b[0;34m)\u001b[0m\u001b[0;34m\u001b[0m\u001b[0;34m\u001b[0m\u001b[0m\n\u001b[0m\u001b[1;32m    151\u001b[0m     \u001b[0;32mexcept\u001b[0m \u001b[0mException\u001b[0m \u001b[0;32mas\u001b[0m \u001b[0me\u001b[0m\u001b[0;34m:\u001b[0m\u001b[0;34m\u001b[0m\u001b[0;34m\u001b[0m\u001b[0m\n\u001b[1;32m    152\u001b[0m       \u001b[0mfiltered_tb\u001b[0m \u001b[0;34m=\u001b[0m \u001b[0m_process_traceback_frames\u001b[0m\u001b[0;34m(\u001b[0m\u001b[0me\u001b[0m\u001b[0;34m.\u001b[0m\u001b[0m__traceback__\u001b[0m\u001b[0;34m)\u001b[0m\u001b[0;34m\u001b[0m\u001b[0;34m\u001b[0m\u001b[0m\n",
            "\u001b[0;32m/usr/local/lib/python3.10/dist-packages/tensorflow/python/eager/polymorphic_function/polymorphic_function.py\u001b[0m in \u001b[0;36m__call__\u001b[0;34m(self, *args, **kwds)\u001b[0m\n\u001b[1;32m    830\u001b[0m \u001b[0;34m\u001b[0m\u001b[0m\n\u001b[1;32m    831\u001b[0m       \u001b[0;32mwith\u001b[0m \u001b[0mOptionalXlaContext\u001b[0m\u001b[0;34m(\u001b[0m\u001b[0mself\u001b[0m\u001b[0;34m.\u001b[0m\u001b[0m_jit_compile\u001b[0m\u001b[0;34m)\u001b[0m\u001b[0;34m:\u001b[0m\u001b[0;34m\u001b[0m\u001b[0;34m\u001b[0m\u001b[0m\n\u001b[0;32m--> 832\u001b[0;31m         \u001b[0mresult\u001b[0m \u001b[0;34m=\u001b[0m \u001b[0mself\u001b[0m\u001b[0;34m.\u001b[0m\u001b[0m_call\u001b[0m\u001b[0;34m(\u001b[0m\u001b[0;34m*\u001b[0m\u001b[0margs\u001b[0m\u001b[0;34m,\u001b[0m \u001b[0;34m**\u001b[0m\u001b[0mkwds\u001b[0m\u001b[0;34m)\u001b[0m\u001b[0;34m\u001b[0m\u001b[0;34m\u001b[0m\u001b[0m\n\u001b[0m\u001b[1;32m    833\u001b[0m \u001b[0;34m\u001b[0m\u001b[0m\n\u001b[1;32m    834\u001b[0m       \u001b[0mnew_tracing_count\u001b[0m \u001b[0;34m=\u001b[0m \u001b[0mself\u001b[0m\u001b[0;34m.\u001b[0m\u001b[0mexperimental_get_tracing_count\u001b[0m\u001b[0;34m(\u001b[0m\u001b[0;34m)\u001b[0m\u001b[0;34m\u001b[0m\u001b[0;34m\u001b[0m\u001b[0m\n",
            "\u001b[0;32m/usr/local/lib/python3.10/dist-packages/tensorflow/python/eager/polymorphic_function/polymorphic_function.py\u001b[0m in \u001b[0;36m_call\u001b[0;34m(self, *args, **kwds)\u001b[0m\n\u001b[1;32m    866\u001b[0m       \u001b[0;31m# In this case we have created variables on the first call, so we run the\u001b[0m\u001b[0;34m\u001b[0m\u001b[0;34m\u001b[0m\u001b[0m\n\u001b[1;32m    867\u001b[0m       \u001b[0;31m# defunned version which is guaranteed to never create variables.\u001b[0m\u001b[0;34m\u001b[0m\u001b[0;34m\u001b[0m\u001b[0m\n\u001b[0;32m--> 868\u001b[0;31m       return tracing_compilation.call_function(\n\u001b[0m\u001b[1;32m    869\u001b[0m           \u001b[0margs\u001b[0m\u001b[0;34m,\u001b[0m \u001b[0mkwds\u001b[0m\u001b[0;34m,\u001b[0m \u001b[0mself\u001b[0m\u001b[0;34m.\u001b[0m\u001b[0m_no_variable_creation_config\u001b[0m\u001b[0;34m\u001b[0m\u001b[0;34m\u001b[0m\u001b[0m\n\u001b[1;32m    870\u001b[0m       )\n",
            "\u001b[0;32m/usr/local/lib/python3.10/dist-packages/tensorflow/python/eager/polymorphic_function/tracing_compilation.py\u001b[0m in \u001b[0;36mcall_function\u001b[0;34m(args, kwargs, tracing_options)\u001b[0m\n\u001b[1;32m    137\u001b[0m   \u001b[0mbound_args\u001b[0m \u001b[0;34m=\u001b[0m \u001b[0mfunction\u001b[0m\u001b[0;34m.\u001b[0m\u001b[0mfunction_type\u001b[0m\u001b[0;34m.\u001b[0m\u001b[0mbind\u001b[0m\u001b[0;34m(\u001b[0m\u001b[0;34m*\u001b[0m\u001b[0margs\u001b[0m\u001b[0;34m,\u001b[0m \u001b[0;34m**\u001b[0m\u001b[0mkwargs\u001b[0m\u001b[0;34m)\u001b[0m\u001b[0;34m\u001b[0m\u001b[0;34m\u001b[0m\u001b[0m\n\u001b[1;32m    138\u001b[0m   \u001b[0mflat_inputs\u001b[0m \u001b[0;34m=\u001b[0m \u001b[0mfunction\u001b[0m\u001b[0;34m.\u001b[0m\u001b[0mfunction_type\u001b[0m\u001b[0;34m.\u001b[0m\u001b[0munpack_inputs\u001b[0m\u001b[0;34m(\u001b[0m\u001b[0mbound_args\u001b[0m\u001b[0;34m)\u001b[0m\u001b[0;34m\u001b[0m\u001b[0;34m\u001b[0m\u001b[0m\n\u001b[0;32m--> 139\u001b[0;31m   return function._call_flat(  # pylint: disable=protected-access\n\u001b[0m\u001b[1;32m    140\u001b[0m       \u001b[0mflat_inputs\u001b[0m\u001b[0;34m,\u001b[0m \u001b[0mcaptured_inputs\u001b[0m\u001b[0;34m=\u001b[0m\u001b[0mfunction\u001b[0m\u001b[0;34m.\u001b[0m\u001b[0mcaptured_inputs\u001b[0m\u001b[0;34m\u001b[0m\u001b[0;34m\u001b[0m\u001b[0m\n\u001b[1;32m    141\u001b[0m   )\n",
            "\u001b[0;32m/usr/local/lib/python3.10/dist-packages/tensorflow/python/eager/polymorphic_function/concrete_function.py\u001b[0m in \u001b[0;36m_call_flat\u001b[0;34m(self, tensor_inputs, captured_inputs)\u001b[0m\n\u001b[1;32m   1321\u001b[0m         and executing_eagerly):\n\u001b[1;32m   1322\u001b[0m       \u001b[0;31m# No tape is watching; skip to running the function.\u001b[0m\u001b[0;34m\u001b[0m\u001b[0;34m\u001b[0m\u001b[0m\n\u001b[0;32m-> 1323\u001b[0;31m       \u001b[0;32mreturn\u001b[0m \u001b[0mself\u001b[0m\u001b[0;34m.\u001b[0m\u001b[0m_inference_function\u001b[0m\u001b[0;34m.\u001b[0m\u001b[0mcall_preflattened\u001b[0m\u001b[0;34m(\u001b[0m\u001b[0margs\u001b[0m\u001b[0;34m)\u001b[0m\u001b[0;34m\u001b[0m\u001b[0;34m\u001b[0m\u001b[0m\n\u001b[0m\u001b[1;32m   1324\u001b[0m     forward_backward = self._select_forward_and_backward_functions(\n\u001b[1;32m   1325\u001b[0m         \u001b[0margs\u001b[0m\u001b[0;34m,\u001b[0m\u001b[0;34m\u001b[0m\u001b[0;34m\u001b[0m\u001b[0m\n",
            "\u001b[0;32m/usr/local/lib/python3.10/dist-packages/tensorflow/python/eager/polymorphic_function/atomic_function.py\u001b[0m in \u001b[0;36mcall_preflattened\u001b[0;34m(self, args)\u001b[0m\n\u001b[1;32m    214\u001b[0m   \u001b[0;32mdef\u001b[0m \u001b[0mcall_preflattened\u001b[0m\u001b[0;34m(\u001b[0m\u001b[0mself\u001b[0m\u001b[0;34m,\u001b[0m \u001b[0margs\u001b[0m\u001b[0;34m:\u001b[0m \u001b[0mSequence\u001b[0m\u001b[0;34m[\u001b[0m\u001b[0mcore\u001b[0m\u001b[0;34m.\u001b[0m\u001b[0mTensor\u001b[0m\u001b[0;34m]\u001b[0m\u001b[0;34m)\u001b[0m \u001b[0;34m->\u001b[0m \u001b[0mAny\u001b[0m\u001b[0;34m:\u001b[0m\u001b[0;34m\u001b[0m\u001b[0;34m\u001b[0m\u001b[0m\n\u001b[1;32m    215\u001b[0m     \u001b[0;34m\"\"\"Calls with flattened tensor inputs and returns the structured output.\"\"\"\u001b[0m\u001b[0;34m\u001b[0m\u001b[0;34m\u001b[0m\u001b[0m\n\u001b[0;32m--> 216\u001b[0;31m     \u001b[0mflat_outputs\u001b[0m \u001b[0;34m=\u001b[0m \u001b[0mself\u001b[0m\u001b[0;34m.\u001b[0m\u001b[0mcall_flat\u001b[0m\u001b[0;34m(\u001b[0m\u001b[0;34m*\u001b[0m\u001b[0margs\u001b[0m\u001b[0;34m)\u001b[0m\u001b[0;34m\u001b[0m\u001b[0;34m\u001b[0m\u001b[0m\n\u001b[0m\u001b[1;32m    217\u001b[0m     \u001b[0;32mreturn\u001b[0m \u001b[0mself\u001b[0m\u001b[0;34m.\u001b[0m\u001b[0mfunction_type\u001b[0m\u001b[0;34m.\u001b[0m\u001b[0mpack_output\u001b[0m\u001b[0;34m(\u001b[0m\u001b[0mflat_outputs\u001b[0m\u001b[0;34m)\u001b[0m\u001b[0;34m\u001b[0m\u001b[0;34m\u001b[0m\u001b[0m\n\u001b[1;32m    218\u001b[0m \u001b[0;34m\u001b[0m\u001b[0m\n",
            "\u001b[0;32m/usr/local/lib/python3.10/dist-packages/tensorflow/python/eager/polymorphic_function/atomic_function.py\u001b[0m in \u001b[0;36mcall_flat\u001b[0;34m(self, *args)\u001b[0m\n\u001b[1;32m    249\u001b[0m         \u001b[0;32mwith\u001b[0m \u001b[0mrecord\u001b[0m\u001b[0;34m.\u001b[0m\u001b[0mstop_recording\u001b[0m\u001b[0;34m(\u001b[0m\u001b[0;34m)\u001b[0m\u001b[0;34m:\u001b[0m\u001b[0;34m\u001b[0m\u001b[0;34m\u001b[0m\u001b[0m\n\u001b[1;32m    250\u001b[0m           \u001b[0;32mif\u001b[0m \u001b[0mself\u001b[0m\u001b[0;34m.\u001b[0m\u001b[0m_bound_context\u001b[0m\u001b[0;34m.\u001b[0m\u001b[0mexecuting_eagerly\u001b[0m\u001b[0;34m(\u001b[0m\u001b[0;34m)\u001b[0m\u001b[0;34m:\u001b[0m\u001b[0;34m\u001b[0m\u001b[0;34m\u001b[0m\u001b[0m\n\u001b[0;32m--> 251\u001b[0;31m             outputs = self._bound_context.call_function(\n\u001b[0m\u001b[1;32m    252\u001b[0m                 \u001b[0mself\u001b[0m\u001b[0;34m.\u001b[0m\u001b[0mname\u001b[0m\u001b[0;34m,\u001b[0m\u001b[0;34m\u001b[0m\u001b[0;34m\u001b[0m\u001b[0m\n\u001b[1;32m    253\u001b[0m                 \u001b[0mlist\u001b[0m\u001b[0;34m(\u001b[0m\u001b[0margs\u001b[0m\u001b[0;34m)\u001b[0m\u001b[0;34m,\u001b[0m\u001b[0;34m\u001b[0m\u001b[0;34m\u001b[0m\u001b[0m\n",
            "\u001b[0;32m/usr/local/lib/python3.10/dist-packages/tensorflow/python/eager/context.py\u001b[0m in \u001b[0;36mcall_function\u001b[0;34m(self, name, tensor_inputs, num_outputs)\u001b[0m\n\u001b[1;32m   1484\u001b[0m     \u001b[0mcancellation_context\u001b[0m \u001b[0;34m=\u001b[0m \u001b[0mcancellation\u001b[0m\u001b[0;34m.\u001b[0m\u001b[0mcontext\u001b[0m\u001b[0;34m(\u001b[0m\u001b[0;34m)\u001b[0m\u001b[0;34m\u001b[0m\u001b[0;34m\u001b[0m\u001b[0m\n\u001b[1;32m   1485\u001b[0m     \u001b[0;32mif\u001b[0m \u001b[0mcancellation_context\u001b[0m \u001b[0;32mis\u001b[0m \u001b[0;32mNone\u001b[0m\u001b[0;34m:\u001b[0m\u001b[0;34m\u001b[0m\u001b[0;34m\u001b[0m\u001b[0m\n\u001b[0;32m-> 1486\u001b[0;31m       outputs = execute.execute(\n\u001b[0m\u001b[1;32m   1487\u001b[0m           \u001b[0mname\u001b[0m\u001b[0;34m.\u001b[0m\u001b[0mdecode\u001b[0m\u001b[0;34m(\u001b[0m\u001b[0;34m\"utf-8\"\u001b[0m\u001b[0;34m)\u001b[0m\u001b[0;34m,\u001b[0m\u001b[0;34m\u001b[0m\u001b[0;34m\u001b[0m\u001b[0m\n\u001b[1;32m   1488\u001b[0m           \u001b[0mnum_outputs\u001b[0m\u001b[0;34m=\u001b[0m\u001b[0mnum_outputs\u001b[0m\u001b[0;34m,\u001b[0m\u001b[0;34m\u001b[0m\u001b[0;34m\u001b[0m\u001b[0m\n",
            "\u001b[0;32m/usr/local/lib/python3.10/dist-packages/tensorflow/python/eager/execute.py\u001b[0m in \u001b[0;36mquick_execute\u001b[0;34m(op_name, num_outputs, inputs, attrs, ctx, name)\u001b[0m\n\u001b[1;32m     51\u001b[0m   \u001b[0;32mtry\u001b[0m\u001b[0;34m:\u001b[0m\u001b[0;34m\u001b[0m\u001b[0;34m\u001b[0m\u001b[0m\n\u001b[1;32m     52\u001b[0m     \u001b[0mctx\u001b[0m\u001b[0;34m.\u001b[0m\u001b[0mensure_initialized\u001b[0m\u001b[0;34m(\u001b[0m\u001b[0;34m)\u001b[0m\u001b[0;34m\u001b[0m\u001b[0;34m\u001b[0m\u001b[0m\n\u001b[0;32m---> 53\u001b[0;31m     tensors = pywrap_tfe.TFE_Py_Execute(ctx._handle, device_name, op_name,\n\u001b[0m\u001b[1;32m     54\u001b[0m                                         inputs, attrs, num_outputs)\n\u001b[1;32m     55\u001b[0m   \u001b[0;32mexcept\u001b[0m \u001b[0mcore\u001b[0m\u001b[0;34m.\u001b[0m\u001b[0m_NotOkStatusException\u001b[0m \u001b[0;32mas\u001b[0m \u001b[0me\u001b[0m\u001b[0;34m:\u001b[0m\u001b[0;34m\u001b[0m\u001b[0;34m\u001b[0m\u001b[0m\n",
            "\u001b[0;31mKeyboardInterrupt\u001b[0m: "
          ]
        }
      ]
    },
    {
      "cell_type": "code",
      "source": [
        "siniflandirici = Sequential()\n",
        "siniflandirici.add(Dense(units=6, activation=\"relu\", input_dim=5))#ilk katman 5 giris\n",
        "siniflandirici.add(Dense(units=6, activation=\"relu\"))\n",
        "siniflandirici.add(Dense(units=6, activation=\"relu\"))\n",
        "siniflandirici.add(Dense(units=6, activation=\"relu\"))\n",
        "siniflandirici.add(Dense(units=1, activation=\"relu\"))  # Son katman, tek sınıf\n",
        "siniflandirici.compile(optimizer='adam', loss='binary_crossentropy', metrics=['accuracy'])\n",
        "\n",
        "start_time = time.time()\n",
        "\n",
        "siniflandirici.fit(X_train, y_train, batch_size=10, epochs=100)\n",
        "\n",
        "end_time = time.time()\n",
        "\n",
        "# Bir epok için geçen süreyi hesapla\n",
        "epoch_time = end_time - start_time\n",
        "print(f\" eğitim için geçen süre: {epoch_time:.2f} saniye\")"
      ],
      "metadata": {
        "colab": {
          "base_uri": "https://localhost:8080/"
        },
        "id": "HRMO5UOajs3w",
        "outputId": "372bb214-82cb-458e-b902-2d81502057c1"
      },
      "execution_count": null,
      "outputs": [
        {
          "output_type": "stream",
          "name": "stdout",
          "text": [
            "Epoch 1/100\n",
            "16/16 [==============================] - 1s 2ms/step - loss: 0.1838 - accuracy: 0.1429\n",
            "Epoch 2/100\n",
            "16/16 [==============================] - 0s 3ms/step - loss: 0.1710 - accuracy: 0.1429\n",
            "Epoch 3/100\n",
            "16/16 [==============================] - 0s 2ms/step - loss: 0.1656 - accuracy: 0.1429\n",
            "Epoch 4/100\n",
            "16/16 [==============================] - 0s 3ms/step - loss: 0.1612 - accuracy: 0.1429\n",
            "Epoch 5/100\n",
            "16/16 [==============================] - 0s 3ms/step - loss: 0.1567 - accuracy: 0.1429\n",
            "Epoch 6/100\n",
            "16/16 [==============================] - 0s 3ms/step - loss: 0.1526 - accuracy: 0.1429\n",
            "Epoch 7/100\n",
            "16/16 [==============================] - 0s 3ms/step - loss: 0.1483 - accuracy: 0.1429\n",
            "Epoch 8/100\n",
            "16/16 [==============================] - 0s 3ms/step - loss: 0.1453 - accuracy: 0.1429\n",
            "Epoch 9/100\n",
            "16/16 [==============================] - 0s 2ms/step - loss: 0.1417 - accuracy: 0.1429\n",
            "Epoch 10/100\n",
            "16/16 [==============================] - 0s 3ms/step - loss: 0.1403 - accuracy: 0.1429\n",
            "Epoch 11/100\n",
            "16/16 [==============================] - 0s 3ms/step - loss: 0.1373 - accuracy: 0.1429\n",
            "Epoch 12/100\n",
            "16/16 [==============================] - 0s 3ms/step - loss: 0.1362 - accuracy: 0.1494\n",
            "Epoch 13/100\n",
            "16/16 [==============================] - 0s 3ms/step - loss: 0.1353 - accuracy: 0.1494\n",
            "Epoch 14/100\n",
            "16/16 [==============================] - 0s 3ms/step - loss: 0.1342 - accuracy: 0.1494\n",
            "Epoch 15/100\n",
            "16/16 [==============================] - 0s 2ms/step - loss: 0.1337 - accuracy: 0.1494\n",
            "Epoch 16/100\n",
            "16/16 [==============================] - 0s 3ms/step - loss: 0.1329 - accuracy: 0.1494\n",
            "Epoch 17/100\n",
            "16/16 [==============================] - 0s 3ms/step - loss: 0.1335 - accuracy: 0.1494\n",
            "Epoch 18/100\n",
            "16/16 [==============================] - 0s 3ms/step - loss: 0.1387 - accuracy: 0.1494\n",
            "Epoch 19/100\n",
            "16/16 [==============================] - 0s 3ms/step - loss: 0.1703 - accuracy: 0.1494\n",
            "Epoch 20/100\n",
            "16/16 [==============================] - 0s 3ms/step - loss: 0.1569 - accuracy: 0.1494\n",
            "Epoch 21/100\n",
            "16/16 [==============================] - 0s 4ms/step - loss: 0.1355 - accuracy: 0.1494\n",
            "Epoch 22/100\n",
            "16/16 [==============================] - 0s 4ms/step - loss: 0.1362 - accuracy: 0.1494\n",
            "Epoch 23/100\n",
            "16/16 [==============================] - 0s 3ms/step - loss: 0.1341 - accuracy: 0.1494\n",
            "Epoch 24/100\n",
            "16/16 [==============================] - 0s 4ms/step - loss: 0.1323 - accuracy: 0.1494\n",
            "Epoch 25/100\n",
            "16/16 [==============================] - 0s 3ms/step - loss: 0.1318 - accuracy: 0.1494\n",
            "Epoch 26/100\n",
            "16/16 [==============================] - 0s 4ms/step - loss: 0.1315 - accuracy: 0.1494\n",
            "Epoch 27/100\n",
            "16/16 [==============================] - 0s 3ms/step - loss: 0.1313 - accuracy: 0.1494\n",
            "Epoch 28/100\n",
            "16/16 [==============================] - 0s 3ms/step - loss: 0.1313 - accuracy: 0.1494\n",
            "Epoch 29/100\n",
            "16/16 [==============================] - 0s 3ms/step - loss: 0.1310 - accuracy: 0.1494\n",
            "Epoch 30/100\n",
            "16/16 [==============================] - 0s 3ms/step - loss: 0.1309 - accuracy: 0.1494\n",
            "Epoch 31/100\n",
            "16/16 [==============================] - 0s 3ms/step - loss: 0.1310 - accuracy: 0.1494\n",
            "Epoch 32/100\n",
            "16/16 [==============================] - 0s 3ms/step - loss: 0.1311 - accuracy: 0.1494\n",
            "Epoch 33/100\n",
            "16/16 [==============================] - 0s 3ms/step - loss: 0.1309 - accuracy: 0.1494\n",
            "Epoch 34/100\n",
            "16/16 [==============================] - 0s 3ms/step - loss: 0.1309 - accuracy: 0.1494\n",
            "Epoch 35/100\n",
            "16/16 [==============================] - 0s 3ms/step - loss: 0.1308 - accuracy: 0.1494\n",
            "Epoch 36/100\n",
            "16/16 [==============================] - 0s 3ms/step - loss: 0.1310 - accuracy: 0.1494\n",
            "Epoch 37/100\n",
            "16/16 [==============================] - 0s 5ms/step - loss: 0.1314 - accuracy: 0.1494\n",
            "Epoch 38/100\n",
            "16/16 [==============================] - 0s 5ms/step - loss: 0.1307 - accuracy: 0.1494\n",
            "Epoch 39/100\n",
            "16/16 [==============================] - 0s 6ms/step - loss: 0.1319 - accuracy: 0.1494\n",
            "Epoch 40/100\n",
            "16/16 [==============================] - 0s 6ms/step - loss: 0.1312 - accuracy: 0.1494\n",
            "Epoch 41/100\n",
            "16/16 [==============================] - 0s 5ms/step - loss: 0.1537 - accuracy: 0.1494\n",
            "Epoch 42/100\n",
            "16/16 [==============================] - 0s 6ms/step - loss: 0.2117 - accuracy: 0.1494\n",
            "Epoch 43/100\n",
            "16/16 [==============================] - 0s 6ms/step - loss: 0.1641 - accuracy: 0.1494\n",
            "Epoch 44/100\n",
            "16/16 [==============================] - 0s 5ms/step - loss: 0.1351 - accuracy: 0.1494\n",
            "Epoch 45/100\n",
            "16/16 [==============================] - 0s 5ms/step - loss: 0.1330 - accuracy: 0.1494\n",
            "Epoch 46/100\n",
            "16/16 [==============================] - 0s 5ms/step - loss: 0.1317 - accuracy: 0.1494\n",
            "Epoch 47/100\n",
            "16/16 [==============================] - 0s 5ms/step - loss: 0.1304 - accuracy: 0.1494\n",
            "Epoch 48/100\n",
            "16/16 [==============================] - 0s 5ms/step - loss: 0.1299 - accuracy: 0.1494\n",
            "Epoch 49/100\n",
            "16/16 [==============================] - 0s 5ms/step - loss: 0.1315 - accuracy: 0.1494\n",
            "Epoch 50/100\n",
            "16/16 [==============================] - 0s 5ms/step - loss: 0.1329 - accuracy: 0.1494\n",
            "Epoch 51/100\n",
            "16/16 [==============================] - 0s 6ms/step - loss: 0.1300 - accuracy: 0.1494\n",
            "Epoch 52/100\n",
            "16/16 [==============================] - 0s 5ms/step - loss: 0.1304 - accuracy: 0.1494\n",
            "Epoch 53/100\n",
            "16/16 [==============================] - 0s 4ms/step - loss: 0.1298 - accuracy: 0.1494\n",
            "Epoch 54/100\n",
            "16/16 [==============================] - 0s 5ms/step - loss: 0.1298 - accuracy: 0.1494\n",
            "Epoch 55/100\n",
            "16/16 [==============================] - 0s 4ms/step - loss: 0.1298 - accuracy: 0.1494\n",
            "Epoch 56/100\n",
            "16/16 [==============================] - 0s 4ms/step - loss: 0.1297 - accuracy: 0.1494\n",
            "Epoch 57/100\n",
            "16/16 [==============================] - 0s 4ms/step - loss: 0.1296 - accuracy: 0.1494\n",
            "Epoch 58/100\n",
            "16/16 [==============================] - 0s 5ms/step - loss: 0.1296 - accuracy: 0.1494\n",
            "Epoch 59/100\n",
            "16/16 [==============================] - 0s 5ms/step - loss: 0.1295 - accuracy: 0.1494\n",
            "Epoch 60/100\n",
            "16/16 [==============================] - 0s 4ms/step - loss: 0.1295 - accuracy: 0.1494\n",
            "Epoch 61/100\n",
            "16/16 [==============================] - 0s 5ms/step - loss: 0.1291 - accuracy: 0.1494\n",
            "Epoch 62/100\n",
            "16/16 [==============================] - 0s 5ms/step - loss: 0.1293 - accuracy: 0.1494\n",
            "Epoch 63/100\n",
            "16/16 [==============================] - 0s 5ms/step - loss: 0.1295 - accuracy: 0.1494\n",
            "Epoch 64/100\n",
            "16/16 [==============================] - 0s 6ms/step - loss: 0.1297 - accuracy: 0.1494\n",
            "Epoch 65/100\n",
            "16/16 [==============================] - 0s 6ms/step - loss: 0.1292 - accuracy: 0.1494\n",
            "Epoch 66/100\n",
            "16/16 [==============================] - 0s 5ms/step - loss: 0.1294 - accuracy: 0.1494\n",
            "Epoch 67/100\n",
            "16/16 [==============================] - 0s 5ms/step - loss: 0.1289 - accuracy: 0.1494\n",
            "Epoch 68/100\n",
            "16/16 [==============================] - 0s 5ms/step - loss: 0.1291 - accuracy: 0.1494\n",
            "Epoch 69/100\n",
            "16/16 [==============================] - 0s 5ms/step - loss: 0.1292 - accuracy: 0.1494\n",
            "Epoch 70/100\n",
            "16/16 [==============================] - 0s 4ms/step - loss: 0.1292 - accuracy: 0.1494\n",
            "Epoch 71/100\n",
            "16/16 [==============================] - 0s 5ms/step - loss: 0.1287 - accuracy: 0.1494\n",
            "Epoch 72/100\n",
            "16/16 [==============================] - 0s 4ms/step - loss: 0.1286 - accuracy: 0.1494\n",
            "Epoch 73/100\n",
            "16/16 [==============================] - 0s 6ms/step - loss: 0.1285 - accuracy: 0.1494\n",
            "Epoch 74/100\n",
            "16/16 [==============================] - 0s 6ms/step - loss: 0.1285 - accuracy: 0.1494\n",
            "Epoch 75/100\n",
            "16/16 [==============================] - 0s 6ms/step - loss: 0.1284 - accuracy: 0.1494\n",
            "Epoch 76/100\n",
            "16/16 [==============================] - 0s 5ms/step - loss: 0.1286 - accuracy: 0.1494\n",
            "Epoch 77/100\n",
            "16/16 [==============================] - 0s 5ms/step - loss: 0.1289 - accuracy: 0.1494\n",
            "Epoch 78/100\n",
            "16/16 [==============================] - 0s 6ms/step - loss: 0.1279 - accuracy: 0.1494\n",
            "Epoch 79/100\n",
            "16/16 [==============================] - 0s 5ms/step - loss: 0.1285 - accuracy: 0.1494\n",
            "Epoch 80/100\n",
            "16/16 [==============================] - 0s 5ms/step - loss: 0.1286 - accuracy: 0.1494\n",
            "Epoch 81/100\n",
            "16/16 [==============================] - 0s 5ms/step - loss: 0.1286 - accuracy: 0.1494\n",
            "Epoch 82/100\n",
            "16/16 [==============================] - 0s 6ms/step - loss: 0.1282 - accuracy: 0.1494\n",
            "Epoch 83/100\n",
            "16/16 [==============================] - 0s 5ms/step - loss: 0.1282 - accuracy: 0.1494\n",
            "Epoch 84/100\n",
            "16/16 [==============================] - 0s 6ms/step - loss: 0.1280 - accuracy: 0.1494\n",
            "Epoch 85/100\n",
            "16/16 [==============================] - 0s 5ms/step - loss: 0.1281 - accuracy: 0.1494\n",
            "Epoch 86/100\n",
            "16/16 [==============================] - 0s 5ms/step - loss: 0.1283 - accuracy: 0.1494\n",
            "Epoch 87/100\n",
            "16/16 [==============================] - 0s 6ms/step - loss: 0.1281 - accuracy: 0.1494\n",
            "Epoch 88/100\n",
            "16/16 [==============================] - 0s 5ms/step - loss: 0.1279 - accuracy: 0.1494\n",
            "Epoch 89/100\n",
            "16/16 [==============================] - 0s 4ms/step - loss: 0.1279 - accuracy: 0.1494\n",
            "Epoch 90/100\n",
            "16/16 [==============================] - 0s 5ms/step - loss: 0.1280 - accuracy: 0.1494\n",
            "Epoch 91/100\n",
            "16/16 [==============================] - 0s 4ms/step - loss: 0.1281 - accuracy: 0.1494\n",
            "Epoch 92/100\n",
            "16/16 [==============================] - 0s 4ms/step - loss: 0.1285 - accuracy: 0.1494\n",
            "Epoch 93/100\n",
            "16/16 [==============================] - 0s 4ms/step - loss: 0.1280 - accuracy: 0.1494\n",
            "Epoch 94/100\n",
            "16/16 [==============================] - 0s 5ms/step - loss: 0.1286 - accuracy: 0.1494\n",
            "Epoch 95/100\n",
            "16/16 [==============================] - 0s 4ms/step - loss: 0.1283 - accuracy: 0.1494\n",
            "Epoch 96/100\n",
            "16/16 [==============================] - 0s 4ms/step - loss: 0.1278 - accuracy: 0.1494\n",
            "Epoch 97/100\n",
            "16/16 [==============================] - 0s 4ms/step - loss: 0.1284 - accuracy: 0.1494\n",
            "Epoch 98/100\n",
            "16/16 [==============================] - 0s 4ms/step - loss: 0.1282 - accuracy: 0.1494\n",
            "Epoch 99/100\n",
            "16/16 [==============================] - 0s 5ms/step - loss: 0.1285 - accuracy: 0.1494\n",
            "Epoch 100/100\n",
            "16/16 [==============================] - 0s 5ms/step - loss: 0.1279 - accuracy: 0.1494\n",
            " eğitim için geçen süre: 8.93 saniye\n"
          ]
        }
      ]
    },
    {
      "cell_type": "markdown",
      "source": [
        "**Test Verisi Üzerindeki Tahminler**"
      ],
      "metadata": {
        "id": "n77dgpRr3OAF"
      }
    },
    {
      "cell_type": "code",
      "source": [
        "Y_pred_Ysa = siniflandirici.predict(X_test)"
      ],
      "metadata": {
        "colab": {
          "base_uri": "https://localhost:8080/"
        },
        "id": "Fo4zy59MdEgx",
        "outputId": "440dff8f-edb3-4323-b8c7-5644485d35f4"
      },
      "execution_count": null,
      "outputs": [
        {
          "output_type": "stream",
          "name": "stdout",
          "text": [
            "3/3 [==============================] - 0s 6ms/step\n"
          ]
        }
      ]
    },
    {
      "cell_type": "markdown",
      "source": [
        "**Performans Değerlendirmesi**"
      ],
      "metadata": {
        "id": "spA044gi3T4w"
      }
    },
    {
      "cell_type": "code",
      "source": [
        "r2_score(y_test, Y_pred_Ysa)"
      ],
      "metadata": {
        "colab": {
          "base_uri": "https://localhost:8080/"
        },
        "id": "E1Br8i4p27tk",
        "outputId": "3933065e-a641-4174-c3f8-59cd08054493"
      },
      "execution_count": null,
      "outputs": [
        {
          "output_type": "execute_result",
          "data": {
            "text/plain": [
              "0.7284213563777052"
            ]
          },
          "metadata": {},
          "execution_count": 11
        }
      ]
    },
    {
      "cell_type": "code",
      "source": [
        "mean_absolute_error(y_test, Y_pred_Ysa)"
      ],
      "metadata": {
        "colab": {
          "base_uri": "https://localhost:8080/"
        },
        "id": "07XhhkQ82-ic",
        "outputId": "d427ffd8-ea4c-401a-9675-404e322527af"
      },
      "execution_count": null,
      "outputs": [
        {
          "output_type": "execute_result",
          "data": {
            "text/plain": [
              "0.05067630496929691"
            ]
          },
          "metadata": {},
          "execution_count": 12
        }
      ]
    },
    {
      "cell_type": "code",
      "source": [
        "mean_squared_error(y_test, Y_pred_Ysa)"
      ],
      "metadata": {
        "colab": {
          "base_uri": "https://localhost:8080/"
        },
        "id": "YFchQ_A_3j3m",
        "outputId": "679fa80a-249f-4dae-a662-3a4b76844a0b"
      },
      "execution_count": null,
      "outputs": [
        {
          "output_type": "execute_result",
          "data": {
            "text/plain": [
              "0.010221954459757886"
            ]
          },
          "metadata": {},
          "execution_count": 13
        }
      ]
    },
    {
      "cell_type": "code",
      "source": [
        "siniflandirici = Sequential()\n",
        "siniflandirici.add(Dense(units=6, activation='relu', input_dim=5))#ilk katman 5 giris\n",
        "siniflandirici.add(Dense(units=6, activation='relu'))\n",
        "siniflandirici.add(Dense(units=6, activation='relu'))\n",
        "siniflandirici.add(Dense(units=6, activation='relu'))\n",
        "siniflandirici.add(Dense(units=1, activation='relu'))  # Son katman, tek sınıf\n",
        "siniflandirici.compile(optimizer='adam', loss='binary_crossentropy', metrics=['accuracy'])\n",
        "siniflandirici.fit(X_train, y_train, batch_size=10, epochs=100)"
      ],
      "metadata": {
        "id": "w3b_zrHew_yX",
        "colab": {
          "base_uri": "https://localhost:8080/"
        },
        "outputId": "4422c0d8-44d1-4ea9-fd31-9a6977dd1e03"
      },
      "execution_count": null,
      "outputs": [
        {
          "output_type": "stream",
          "name": "stdout",
          "text": [
            "Epoch 1/100\n",
            "16/16 [==============================] - 1s 2ms/step - loss: 0.2307 - accuracy: 0.1429\n",
            "Epoch 2/100\n",
            "16/16 [==============================] - 0s 3ms/step - loss: 0.1983 - accuracy: 0.1429\n",
            "Epoch 3/100\n",
            "16/16 [==============================] - 0s 2ms/step - loss: 0.1924 - accuracy: 0.1429\n",
            "Epoch 4/100\n",
            "16/16 [==============================] - 0s 3ms/step - loss: 0.1895 - accuracy: 0.1429\n",
            "Epoch 5/100\n",
            "16/16 [==============================] - 0s 2ms/step - loss: 0.1851 - accuracy: 0.1429\n",
            "Epoch 6/100\n",
            "16/16 [==============================] - 0s 3ms/step - loss: 0.1802 - accuracy: 0.1429\n",
            "Epoch 7/100\n",
            "16/16 [==============================] - 0s 4ms/step - loss: 0.1747 - accuracy: 0.1429\n",
            "Epoch 8/100\n",
            "16/16 [==============================] - 0s 4ms/step - loss: 0.1699 - accuracy: 0.1429\n",
            "Epoch 9/100\n",
            "16/16 [==============================] - 0s 4ms/step - loss: 0.1647 - accuracy: 0.1429\n",
            "Epoch 10/100\n",
            "16/16 [==============================] - 0s 4ms/step - loss: 0.1607 - accuracy: 0.1429\n",
            "Epoch 11/100\n",
            "16/16 [==============================] - 0s 5ms/step - loss: 0.1571 - accuracy: 0.1429\n",
            "Epoch 12/100\n",
            "16/16 [==============================] - 0s 5ms/step - loss: 0.1536 - accuracy: 0.1429\n",
            "Epoch 13/100\n",
            "16/16 [==============================] - 0s 4ms/step - loss: 0.1513 - accuracy: 0.1429\n",
            "Epoch 14/100\n",
            "16/16 [==============================] - 0s 3ms/step - loss: 0.1484 - accuracy: 0.1429\n",
            "Epoch 15/100\n",
            "16/16 [==============================] - 0s 4ms/step - loss: 0.1460 - accuracy: 0.1429\n",
            "Epoch 16/100\n",
            "16/16 [==============================] - 0s 3ms/step - loss: 0.1434 - accuracy: 0.1429\n",
            "Epoch 17/100\n",
            "16/16 [==============================] - 0s 3ms/step - loss: 0.1420 - accuracy: 0.1429\n",
            "Epoch 18/100\n",
            "16/16 [==============================] - 0s 3ms/step - loss: 0.1406 - accuracy: 0.1429\n",
            "Epoch 19/100\n",
            "16/16 [==============================] - 0s 4ms/step - loss: 0.1392 - accuracy: 0.1429\n",
            "Epoch 20/100\n",
            "16/16 [==============================] - 0s 3ms/step - loss: 0.1387 - accuracy: 0.1429\n",
            "Epoch 21/100\n",
            "16/16 [==============================] - 0s 3ms/step - loss: 0.1381 - accuracy: 0.1429\n",
            "Epoch 22/100\n",
            "16/16 [==============================] - 0s 4ms/step - loss: 0.1368 - accuracy: 0.1429\n",
            "Epoch 23/100\n",
            "16/16 [==============================] - 0s 3ms/step - loss: 0.1365 - accuracy: 0.1429\n",
            "Epoch 24/100\n",
            "16/16 [==============================] - 0s 3ms/step - loss: 0.1356 - accuracy: 0.1494\n",
            "Epoch 25/100\n",
            "16/16 [==============================] - 0s 4ms/step - loss: 0.1355 - accuracy: 0.1494\n",
            "Epoch 26/100\n",
            "16/16 [==============================] - 0s 4ms/step - loss: 0.1346 - accuracy: 0.1494\n",
            "Epoch 27/100\n",
            "16/16 [==============================] - 0s 4ms/step - loss: 0.1344 - accuracy: 0.1494\n",
            "Epoch 28/100\n",
            "16/16 [==============================] - 0s 4ms/step - loss: 0.1342 - accuracy: 0.1494\n",
            "Epoch 29/100\n",
            "16/16 [==============================] - 0s 3ms/step - loss: 0.1336 - accuracy: 0.1494\n",
            "Epoch 30/100\n",
            "16/16 [==============================] - 0s 3ms/step - loss: 0.1331 - accuracy: 0.1494\n",
            "Epoch 31/100\n",
            "16/16 [==============================] - 0s 5ms/step - loss: 0.1330 - accuracy: 0.1494\n",
            "Epoch 32/100\n",
            "16/16 [==============================] - 0s 5ms/step - loss: 0.1323 - accuracy: 0.1494\n",
            "Epoch 33/100\n",
            "16/16 [==============================] - 0s 4ms/step - loss: 0.1321 - accuracy: 0.1494\n",
            "Epoch 34/100\n",
            "16/16 [==============================] - 0s 4ms/step - loss: 0.1324 - accuracy: 0.1494\n",
            "Epoch 35/100\n",
            "16/16 [==============================] - 0s 3ms/step - loss: 0.1319 - accuracy: 0.1494\n",
            "Epoch 36/100\n",
            "16/16 [==============================] - 0s 3ms/step - loss: 0.1319 - accuracy: 0.1494\n",
            "Epoch 37/100\n",
            "16/16 [==============================] - 0s 4ms/step - loss: 0.1321 - accuracy: 0.1494\n",
            "Epoch 38/100\n",
            "16/16 [==============================] - 0s 4ms/step - loss: 0.1319 - accuracy: 0.1494\n",
            "Epoch 39/100\n",
            "16/16 [==============================] - 0s 5ms/step - loss: 0.1320 - accuracy: 0.1494\n",
            "Epoch 40/100\n",
            "16/16 [==============================] - 0s 4ms/step - loss: 0.1315 - accuracy: 0.1494\n",
            "Epoch 41/100\n",
            "16/16 [==============================] - 0s 4ms/step - loss: 0.1311 - accuracy: 0.1494\n",
            "Epoch 42/100\n",
            "16/16 [==============================] - 0s 4ms/step - loss: 0.1311 - accuracy: 0.1494\n",
            "Epoch 43/100\n",
            "16/16 [==============================] - 0s 4ms/step - loss: 0.1312 - accuracy: 0.1494\n",
            "Epoch 44/100\n",
            "16/16 [==============================] - 0s 5ms/step - loss: 0.1309 - accuracy: 0.1494\n",
            "Epoch 45/100\n",
            "16/16 [==============================] - 0s 5ms/step - loss: 0.1310 - accuracy: 0.1494\n",
            "Epoch 46/100\n",
            "16/16 [==============================] - 0s 4ms/step - loss: 0.1309 - accuracy: 0.1494\n",
            "Epoch 47/100\n",
            "16/16 [==============================] - 0s 4ms/step - loss: 0.1313 - accuracy: 0.1494\n",
            "Epoch 48/100\n",
            "16/16 [==============================] - 0s 4ms/step - loss: 0.1310 - accuracy: 0.1494\n",
            "Epoch 49/100\n",
            "16/16 [==============================] - 0s 5ms/step - loss: 0.1314 - accuracy: 0.1494\n",
            "Epoch 50/100\n",
            "16/16 [==============================] - 0s 6ms/step - loss: 0.1316 - accuracy: 0.1494\n",
            "Epoch 51/100\n",
            "16/16 [==============================] - 0s 5ms/step - loss: 0.1310 - accuracy: 0.1494\n",
            "Epoch 52/100\n",
            "16/16 [==============================] - 0s 4ms/step - loss: 0.1305 - accuracy: 0.1494\n",
            "Epoch 53/100\n",
            "16/16 [==============================] - 0s 5ms/step - loss: 0.1313 - accuracy: 0.1494\n",
            "Epoch 54/100\n",
            "16/16 [==============================] - 0s 4ms/step - loss: 0.1308 - accuracy: 0.1494\n",
            "Epoch 55/100\n",
            "16/16 [==============================] - 0s 4ms/step - loss: 0.1305 - accuracy: 0.1494\n",
            "Epoch 56/100\n",
            "16/16 [==============================] - 0s 4ms/step - loss: 0.1307 - accuracy: 0.1494\n",
            "Epoch 57/100\n",
            "16/16 [==============================] - 0s 4ms/step - loss: 0.1305 - accuracy: 0.1494\n",
            "Epoch 58/100\n",
            "16/16 [==============================] - 0s 4ms/step - loss: 0.1315 - accuracy: 0.1494\n",
            "Epoch 59/100\n",
            "16/16 [==============================] - 0s 6ms/step - loss: 0.1310 - accuracy: 0.1494\n",
            "Epoch 60/100\n",
            "16/16 [==============================] - 0s 4ms/step - loss: 0.1312 - accuracy: 0.1494\n",
            "Epoch 61/100\n",
            "16/16 [==============================] - 0s 4ms/step - loss: 0.1306 - accuracy: 0.1494\n",
            "Epoch 62/100\n",
            "16/16 [==============================] - 0s 5ms/step - loss: 0.1305 - accuracy: 0.1494\n",
            "Epoch 63/100\n",
            "16/16 [==============================] - 0s 4ms/step - loss: 0.1307 - accuracy: 0.1494\n",
            "Epoch 64/100\n",
            "16/16 [==============================] - 0s 5ms/step - loss: 0.1306 - accuracy: 0.1494\n",
            "Epoch 65/100\n",
            "16/16 [==============================] - 0s 4ms/step - loss: 0.1326 - accuracy: 0.1494\n",
            "Epoch 66/100\n",
            "16/16 [==============================] - 0s 4ms/step - loss: 0.1316 - accuracy: 0.1494\n",
            "Epoch 67/100\n",
            "16/16 [==============================] - 0s 4ms/step - loss: 0.1308 - accuracy: 0.1494\n",
            "Epoch 68/100\n",
            "16/16 [==============================] - 0s 5ms/step - loss: 0.1319 - accuracy: 0.1494\n",
            "Epoch 69/100\n",
            "16/16 [==============================] - 0s 5ms/step - loss: 0.1301 - accuracy: 0.1494\n",
            "Epoch 70/100\n",
            "16/16 [==============================] - 0s 4ms/step - loss: 0.1304 - accuracy: 0.1494\n",
            "Epoch 71/100\n",
            "16/16 [==============================] - 0s 3ms/step - loss: 0.1302 - accuracy: 0.1494\n",
            "Epoch 72/100\n",
            "16/16 [==============================] - 0s 2ms/step - loss: 0.1302 - accuracy: 0.1494\n",
            "Epoch 73/100\n",
            "16/16 [==============================] - 0s 4ms/step - loss: 0.1300 - accuracy: 0.1494\n",
            "Epoch 74/100\n",
            "16/16 [==============================] - 0s 2ms/step - loss: 0.1299 - accuracy: 0.1494\n",
            "Epoch 75/100\n",
            "16/16 [==============================] - 0s 2ms/step - loss: 0.1300 - accuracy: 0.1494\n",
            "Epoch 76/100\n",
            "16/16 [==============================] - 0s 2ms/step - loss: 0.1298 - accuracy: 0.1494\n",
            "Epoch 77/100\n",
            "16/16 [==============================] - 0s 2ms/step - loss: 0.1297 - accuracy: 0.1494\n",
            "Epoch 78/100\n",
            "16/16 [==============================] - 0s 3ms/step - loss: 0.1299 - accuracy: 0.1494\n",
            "Epoch 79/100\n",
            "16/16 [==============================] - 0s 3ms/step - loss: 0.1299 - accuracy: 0.1494\n",
            "Epoch 80/100\n",
            "16/16 [==============================] - 0s 2ms/step - loss: 0.1297 - accuracy: 0.1494\n",
            "Epoch 81/100\n",
            "16/16 [==============================] - 0s 2ms/step - loss: 0.1298 - accuracy: 0.1494\n",
            "Epoch 82/100\n",
            "16/16 [==============================] - 0s 3ms/step - loss: 0.1299 - accuracy: 0.1494\n",
            "Epoch 83/100\n",
            "16/16 [==============================] - 0s 2ms/step - loss: 0.1297 - accuracy: 0.1494\n",
            "Epoch 84/100\n",
            "16/16 [==============================] - 0s 2ms/step - loss: 0.1294 - accuracy: 0.1494\n",
            "Epoch 85/100\n",
            "16/16 [==============================] - 0s 2ms/step - loss: 0.1294 - accuracy: 0.1494\n",
            "Epoch 86/100\n",
            "16/16 [==============================] - 0s 3ms/step - loss: 0.1294 - accuracy: 0.1494\n",
            "Epoch 87/100\n",
            "16/16 [==============================] - 0s 2ms/step - loss: 0.1296 - accuracy: 0.1494\n",
            "Epoch 88/100\n",
            "16/16 [==============================] - 0s 3ms/step - loss: 0.1301 - accuracy: 0.1494\n",
            "Epoch 89/100\n",
            "16/16 [==============================] - 0s 3ms/step - loss: 0.1298 - accuracy: 0.1494\n",
            "Epoch 90/100\n",
            "16/16 [==============================] - 0s 3ms/step - loss: 0.1289 - accuracy: 0.1494\n",
            "Epoch 91/100\n",
            "16/16 [==============================] - 0s 3ms/step - loss: 0.1296 - accuracy: 0.1494\n",
            "Epoch 92/100\n",
            "16/16 [==============================] - 0s 3ms/step - loss: 0.1289 - accuracy: 0.1494\n",
            "Epoch 93/100\n",
            "16/16 [==============================] - 0s 3ms/step - loss: 0.1290 - accuracy: 0.1494\n",
            "Epoch 94/100\n",
            "16/16 [==============================] - 0s 3ms/step - loss: 0.1288 - accuracy: 0.1494\n",
            "Epoch 95/100\n",
            "16/16 [==============================] - 0s 3ms/step - loss: 0.1288 - accuracy: 0.1494\n",
            "Epoch 96/100\n",
            "16/16 [==============================] - 0s 3ms/step - loss: 0.1298 - accuracy: 0.1494\n",
            "Epoch 97/100\n",
            "16/16 [==============================] - 0s 3ms/step - loss: 0.1303 - accuracy: 0.1494\n",
            "Epoch 98/100\n",
            "16/16 [==============================] - 0s 3ms/step - loss: 0.1290 - accuracy: 0.1494\n",
            "Epoch 99/100\n",
            "16/16 [==============================] - 0s 3ms/step - loss: 0.1286 - accuracy: 0.1494\n",
            "Epoch 100/100\n",
            "16/16 [==============================] - 0s 3ms/step - loss: 0.1290 - accuracy: 0.1494\n"
          ]
        },
        {
          "output_type": "execute_result",
          "data": {
            "text/plain": [
              "<keras.src.callbacks.History at 0x7cf5c193a200>"
            ]
          },
          "metadata": {},
          "execution_count": 38
        }
      ]
    },
    {
      "cell_type": "code",
      "source": [
        "for i in siniflandirici.layers:\n",
        "  ilk_gizli_katman = siniflandirici.layers[0].get_weights()\n",
        "  ikinci_gizli_katman = siniflandirici.layers[1].get_weights()\n",
        "  cıktı_katmani = siniflandirici.layers[2].get_weights()"
      ],
      "metadata": {
        "id": "TNd_wNzF3zem"
      },
      "execution_count": null,
      "outputs": []
    },
    {
      "cell_type": "code",
      "source": [
        "ilk_gizli_katman"
      ],
      "metadata": {
        "colab": {
          "base_uri": "https://localhost:8080/"
        },
        "id": "sEcKhk0D7A0x",
        "outputId": "5893b696-e414-47ac-a804-b31e96bf0be7"
      },
      "execution_count": null,
      "outputs": [
        {
          "output_type": "execute_result",
          "data": {
            "text/plain": [
              "[array([[-0.24191499,  0.19219863,  0.5191104 , -0.06728142, -0.6320033 ,\n",
              "         -0.4652935 ],\n",
              "        [ 0.5484609 , -0.387073  ,  0.6024563 ,  0.29340333,  0.63503367,\n",
              "         -0.7351717 ],\n",
              "        [ 0.42195433, -0.4947428 ,  0.28932112,  0.6943757 ,  0.01102847,\n",
              "          0.41586238],\n",
              "        [ 0.43665165, -0.6000073 , -0.37781364, -0.38419968, -0.02499282,\n",
              "         -0.2731961 ],\n",
              "        [-0.24389982,  0.5293507 , -0.5739595 , -0.62665176,  0.37508804,\n",
              "         -0.22530115]], dtype=float32),\n",
              " array([0., 0., 0., 0., 0., 0.], dtype=float32)]"
            ]
          },
          "metadata": {},
          "execution_count": 15
        }
      ]
    },
    {
      "cell_type": "code",
      "source": [
        "ikinci_gizli_katman"
      ],
      "metadata": {
        "colab": {
          "base_uri": "https://localhost:8080/"
        },
        "id": "QoGwfqcm7HV1",
        "outputId": "a55a75bc-3305-44a8-fa61-2157bed501df"
      },
      "execution_count": null,
      "outputs": [
        {
          "output_type": "execute_result",
          "data": {
            "text/plain": [
              "[array([[-0.00758898,  0.22440636, -0.49630898, -0.0162316 , -0.18375534,\n",
              "         -0.5365056 ],\n",
              "        [-0.29077095, -0.3581506 ,  0.48215014, -0.50655437,  0.01825327,\n",
              "          0.5837763 ],\n",
              "        [-0.49233973, -0.63369894,  0.4762997 ,  0.31262463,  0.52840704,\n",
              "          0.50551635],\n",
              "        [-0.35666147,  0.50068444, -0.3675141 ,  0.5970734 ,  0.2563026 ,\n",
              "          0.12108839],\n",
              "        [-0.66093254, -0.4890476 ,  0.06365031,  0.4405232 ,  0.19747955,\n",
              "          0.4501887 ],\n",
              "        [-0.5336266 ,  0.48449212,  0.39003724, -0.41258696, -0.0388909 ,\n",
              "          0.64700705]], dtype=float32),\n",
              " array([0., 0., 0., 0., 0., 0.], dtype=float32)]"
            ]
          },
          "metadata": {},
          "execution_count": 16
        }
      ]
    },
    {
      "cell_type": "code",
      "source": [
        "cıktı_katmani"
      ],
      "metadata": {
        "colab": {
          "base_uri": "https://localhost:8080/"
        },
        "id": "dlK1NgOu7cPk",
        "outputId": "bd3d5cdd-972d-4b51-d3c1-edd98b17f828"
      },
      "execution_count": null,
      "outputs": [
        {
          "output_type": "execute_result",
          "data": {
            "text/plain": [
              "[array([[ 0.6112785 , -0.47263998,  0.37804574, -0.61351144,  0.58668476,\n",
              "         -0.37260494],\n",
              "        [-0.48367637, -0.69437116,  0.49172622,  0.5288488 , -0.40207487,\n",
              "          0.10615695],\n",
              "        [-0.21072024, -0.5806172 ,  0.6111868 ,  0.5718798 , -0.5832672 ,\n",
              "          0.12312698],\n",
              "        [-0.6292295 ,  0.12237352, -0.11344498, -0.01444674,  0.45956463,\n",
              "         -0.41808408],\n",
              "        [-0.5134582 ,  0.64795095,  0.10465974,  0.5666453 ,  0.5165835 ,\n",
              "         -0.49481225],\n",
              "        [ 0.68929785, -0.28413686, -0.5018361 ,  0.53378516, -0.69520366,\n",
              "         -0.00517511]], dtype=float32),\n",
              " array([0., 0., 0., 0., 0., 0.], dtype=float32)]"
            ]
          },
          "metadata": {},
          "execution_count": 17
        }
      ]
    },
    {
      "cell_type": "markdown",
      "source": [
        "\n",
        "**Tersine Ölçeklendirme**"
      ],
      "metadata": {
        "id": "mEppmgaV7uSl"
      }
    },
    {
      "cell_type": "code",
      "source": [
        "ters_olceklendirme=scaler.inverse_transform(Y_pred_Ysa.reshape(-1,1))"
      ],
      "metadata": {
        "id": "t54t0KDl7gPV"
      },
      "execution_count": null,
      "outputs": []
    },
    {
      "cell_type": "code",
      "source": [
        "ters_olceklendirme"
      ],
      "metadata": {
        "colab": {
          "base_uri": "https://localhost:8080/"
        },
        "id": "uGiC3ypL7w68",
        "outputId": "6a02b3e3-cae6-45ca-a0ef-c06cf35c939e"
      },
      "execution_count": null,
      "outputs": [
        {
          "output_type": "execute_result",
          "data": {
            "text/plain": [
              "array([[ -3.0974414 ],\n",
              "       [ -2.085308  ],\n",
              "       [ -2.3855677 ],\n",
              "       [ -1.6911477 ],\n",
              "       [ -3.5527258 ],\n",
              "       [ -6.2427325 ],\n",
              "       [-10.566609  ],\n",
              "       [ -3.801834  ],\n",
              "       [ -0.83963245],\n",
              "       [ -8.140493  ],\n",
              "       [ -2.2105174 ],\n",
              "       [ -7.4636154 ],\n",
              "       [-19.271648  ],\n",
              "       [-35.938095  ],\n",
              "       [-10.32824   ],\n",
              "       [ -4.1067677 ],\n",
              "       [ -1.0087389 ],\n",
              "       [-33.108307  ],\n",
              "       [ -1.1966748 ],\n",
              "       [  0.        ],\n",
              "       [-25.358568  ],\n",
              "       [ -5.0256443 ],\n",
              "       [-10.911352  ],\n",
              "       [ -3.1162276 ],\n",
              "       [ -4.212552  ],\n",
              "       [  0.        ],\n",
              "       [ -2.99144   ],\n",
              "       [  0.        ],\n",
              "       [-24.878494  ],\n",
              "       [-27.331411  ],\n",
              "       [ -3.428088  ],\n",
              "       [ -3.0974412 ],\n",
              "       [ -1.4596585 ],\n",
              "       [-10.982461  ],\n",
              "       [ -7.9395413 ],\n",
              "       [ -1.4971974 ],\n",
              "       [ -9.085639  ],\n",
              "       [ -0.8333454 ],\n",
              "       [ -2.391684  ],\n",
              "       [ -5.0752316 ],\n",
              "       [ -2.5980165 ],\n",
              "       [ -1.0838547 ],\n",
              "       [ -3.3531644 ],\n",
              "       [ -0.9837511 ],\n",
              "       [ -5.848156  ],\n",
              "       [ -1.1465516 ],\n",
              "       [ -2.329263  ],\n",
              "       [ -1.2592063 ],\n",
              "       [ -1.4783486 ],\n",
              "       [ -2.6978571 ],\n",
              "       [ -0.41976994],\n",
              "       [ -2.7041261 ],\n",
              "       [ -7.7627726 ],\n",
              "       [ -9.055497  ],\n",
              "       [ -9.025356  ],\n",
              "       [ -3.546465  ],\n",
              "       [-12.14869   ],\n",
              "       [ -5.2486215 ],\n",
              "       [ -5.428082  ],\n",
              "       [ -2.8103645 ],\n",
              "       [ -6.5380588 ],\n",
              "       [ -0.68921   ],\n",
              "       [-21.100628  ],\n",
              "       [ -0.6516421 ],\n",
              "       [ -1.7412363 ],\n",
              "       [  0.        ]], dtype=float32)"
            ]
          },
          "metadata": {},
          "execution_count": 19
        }
      ]
    },
    {
      "cell_type": "code",
      "source": [
        "Y_pred_Ysa"
      ],
      "metadata": {
        "colab": {
          "base_uri": "https://localhost:8080/"
        },
        "id": "XAroN4M88Ys0",
        "outputId": "5b12eb51-6e06-40fb-ff90-68c6aa185367"
      },
      "execution_count": null,
      "outputs": [
        {
          "output_type": "execute_result",
          "data": {
            "text/plain": [
              "array([[-0.00586637],\n",
              "       [-0.00394945],\n",
              "       [-0.00451812],\n",
              "       [-0.00320293],\n",
              "       [-0.00672865],\n",
              "       [-0.01182336],\n",
              "       [-0.02001252],\n",
              "       [-0.00720044],\n",
              "       [-0.00159021],\n",
              "       [-0.0154176 ],\n",
              "       [-0.00418659],\n",
              "       [-0.01413564],\n",
              "       [-0.03649933],\n",
              "       [-0.06806457],\n",
              "       [-0.01956106],\n",
              "       [-0.00777797],\n",
              "       [-0.00191049],\n",
              "       [-0.06270513],\n",
              "       [-0.00226643],\n",
              "       [ 0.        ],\n",
              "       [-0.04802759],\n",
              "       [-0.00951827],\n",
              "       [-0.02066544],\n",
              "       [-0.00590195],\n",
              "       [-0.00797832],\n",
              "       [ 0.        ],\n",
              "       [-0.00566561],\n",
              "       [ 0.        ],\n",
              "       [-0.04711836],\n",
              "       [-0.05176404],\n",
              "       [-0.00649259],\n",
              "       [-0.00586637],\n",
              "       [-0.0027645 ],\n",
              "       [-0.02080012],\n",
              "       [-0.01503701],\n",
              "       [-0.0028356 ],\n",
              "       [-0.01720765],\n",
              "       [-0.00157831],\n",
              "       [-0.0045297 ],\n",
              "       [-0.00961218],\n",
              "       [-0.00492049],\n",
              "       [-0.00205276],\n",
              "       [-0.00635069],\n",
              "       [-0.00186316],\n",
              "       [-0.01107605],\n",
              "       [-0.0021715 ],\n",
              "       [-0.00441148],\n",
              "       [-0.00238486],\n",
              "       [-0.0027999 ],\n",
              "       [-0.00510958],\n",
              "       [-0.00079502],\n",
              "       [-0.00512145],\n",
              "       [-0.01470222],\n",
              "       [-0.01715056],\n",
              "       [-0.01709348],\n",
              "       [-0.00671679],\n",
              "       [-0.02300888],\n",
              "       [-0.00994057],\n",
              "       [-0.01028046],\n",
              "       [-0.00532266],\n",
              "       [-0.01238269],\n",
              "       [-0.00130532],\n",
              "       [-0.03996331],\n",
              "       [-0.00123417],\n",
              "       [-0.0032978 ],\n",
              "       [ 0.        ]], dtype=float32)"
            ]
          },
          "metadata": {},
          "execution_count": 20
        }
      ]
    },
    {
      "cell_type": "code",
      "source": [],
      "metadata": {
        "id": "25WCgi9h-7Jc"
      },
      "execution_count": null,
      "outputs": []
    }
  ]
}