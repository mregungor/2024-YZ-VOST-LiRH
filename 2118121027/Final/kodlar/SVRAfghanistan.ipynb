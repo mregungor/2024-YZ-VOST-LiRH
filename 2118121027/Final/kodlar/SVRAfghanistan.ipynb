{
  "nbformat": 4,
  "nbformat_minor": 0,
  "metadata": {
    "colab": {
      "provenance": []
    },
    "kernelspec": {
      "name": "python3",
      "display_name": "Python 3"
    },
    "language_info": {
      "name": "python"
    }
  },
  "cells": [
    {
      "cell_type": "code",
      "execution_count": null,
      "metadata": {
        "id": "V17DP8GXGO5N"
      },
      "outputs": [],
      "source": [
        "import numpy as np\n",
        "import matplotlib.pyplot as plt\n",
        "import pandas as pd\n",
        "from sklearn.model_selection import train_test_split"
      ]
    },
    {
      "cell_type": "code",
      "source": [
        "from google.colab import drive\n",
        "drive.mount('/content/drive')\n",
        "file_path = '/content/drive/My Drive/myData/owid-covid-data.csv'\n",
        "veri = pd.read_csv(file_path)"
      ],
      "metadata": {
        "colab": {
          "base_uri": "https://localhost:8080/"
        },
        "id": "ZLqS9sh1GZYF",
        "outputId": "ee10cb3d-1b8f-4cab-e872-71cb9a65adba"
      },
      "execution_count": null,
      "outputs": [
        {
          "output_type": "stream",
          "name": "stdout",
          "text": [
            "Drive already mounted at /content/drive; to attempt to forcibly remount, call drive.mount(\"/content/drive\", force_remount=True).\n"
          ]
        }
      ]
    },
    {
      "cell_type": "code",
      "source": [
        "veri.loc[0:4,\"new_cases_smoothed\"]=0\n",
        "veri.head(10)\n",
        "df1=pd.DataFrame(veri)\n",
        "newCasesAfghanistan = df1[df1['location'] == 'Afghanistan']\n",
        "newCasesAfghanistan = newCasesAfghanistan['new_cases']\n",
        "newCasesAfghanistan = newCasesAfghanistan[newCasesAfghanistan.index % 7 == 0]\n",
        "newCasesAfghanistan.head(50)"
      ],
      "metadata": {
        "colab": {
          "base_uri": "https://localhost:8080/"
        },
        "id": "AIrbWK4KGd4M",
        "outputId": "f7004451-5cdf-45d2-d70e-5a9a1d98f1b8"
      },
      "execution_count": null,
      "outputs": [
        {
          "output_type": "execute_result",
          "data": {
            "text/plain": [
              "0         0.0\n",
              "7         0.0\n",
              "14        0.0\n",
              "21        0.0\n",
              "28        0.0\n",
              "35        0.0\n",
              "42        0.0\n",
              "49        0.0\n",
              "56        1.0\n",
              "63        0.0\n",
              "70        6.0\n",
              "77       17.0\n",
              "84       67.0\n",
              "91      183.0\n",
              "98      247.0\n",
              "105     387.0\n",
              "112     422.0\n",
              "119     841.0\n",
              "126    1392.0\n",
              "133    2490.0\n",
              "140    3813.0\n",
              "147    4577.0\n",
              "154    5108.0\n",
              "161    4551.0\n",
              "168    4195.0\n",
              "175    2319.0\n",
              "182    2056.0\n",
              "189    1679.0\n",
              "196     938.0\n",
              "203     747.0\n",
              "210     674.0\n",
              "217     305.0\n",
              "224     536.0\n",
              "231     343.0\n",
              "238     249.0\n",
              "245     161.0\n",
              "252     337.0\n",
              "259     278.0\n",
              "266     273.0\n",
              "273     105.0\n",
              "280     406.0\n",
              "287     438.0\n",
              "294     627.0\n",
              "301     657.0\n",
              "308     608.0\n",
              "315    1002.0\n",
              "322    1468.0\n",
              "329    1463.0\n",
              "336    1675.0\n",
              "343    1311.0\n",
              "Name: new_cases, dtype: float64"
            ]
          },
          "metadata": {},
          "execution_count": 7
        }
      ]
    },
    {
      "cell_type": "code",
      "source": [
        "df2 = pd.DataFrame(veri)\n",
        "newDeathsAfghanistan = df2[df2['location'] =='Afghanistan']\n",
        "newDeathsAfghanistan = newDeathsAfghanistan['new_deaths']\n",
        "newDeathsAfghanistan = newDeathsAfghanistan[newDeathsAfghanistan.index % 7 == 0]\n",
        "newDeathsAfghanistan.head(50)\n",
        "\n",
        "df3 = pd.DataFrame(veri)\n",
        "newCasesSmoothedAfghanistan = df3[df3['location'] =='Afghanistan']\n",
        "newCasesSmoothedAfghanistan = newCasesSmoothedAfghanistan['new_cases_smoothed']\n",
        "newCasesSmoothedAfghanistan = newCasesSmoothedAfghanistan[newCasesSmoothedAfghanistan.index % 7 == 0]\n",
        "\n",
        "df4 = pd.DataFrame(veri)\n",
        "diabetesPrevalenceAfghanistan = df4[df4['location'] =='Afghanistan']\n",
        "diabetesPrevalenceAfghanistan = diabetesPrevalenceAfghanistan['diabetes_prevalence']\n",
        "diabetesPrevalenceAfghanistan = diabetesPrevalenceAfghanistan[diabetesPrevalenceAfghanistan.index % 7 == 0]\n",
        "\n",
        "df5 = pd.DataFrame(veri)\n",
        "cardiovascDeathRateAfghanistan = df5[df5['location'] =='Afghanistan']\n",
        "cardiovascDeathRateAfghanistan = cardiovascDeathRateAfghanistan['cardiovasc_death_rate']\n",
        "cardiovascDeathRateAfghanistan = cardiovascDeathRateAfghanistan[cardiovascDeathRateAfghanistan.index % 7 == 0]\n",
        "\n",
        "df6 = pd.DataFrame(veri)\n",
        "PoPulationAfghanistan = df6[df6['location'] =='Afghanistan']\n",
        "PoPulationAfghanistan = PoPulationAfghanistan['population']\n",
        "PoPulationAfghanistan = PoPulationAfghanistan[PoPulationAfghanistan.index % 7 == 0]\n",
        "\n",
        "#Ölçeklendirme-normalizasyon\n",
        "from sklearn.preprocessing import MinMaxScaler\n",
        "scaler=MinMaxScaler()\n",
        "newCasesAfghanistan = newCasesAfghanistan.values\n",
        "newCasesAfghanistan = newCasesAfghanistan.reshape(-1, 1)\n",
        "newCasesAfghanistan = scaler.fit_transform(newCasesAfghanistan)\n",
        "\n",
        "\n",
        "newCasesSmoothedAfghanistan = newCasesSmoothedAfghanistan.values\n",
        "newCasesSmoothedAfghanistan = newCasesSmoothedAfghanistan.reshape(-1, 1)\n",
        "newCasesSmoothedAfghanistan = scaler.fit_transform(newCasesSmoothedAfghanistan)\n",
        "\n",
        "\n",
        "diabetesPrevalenceAfghanistan = diabetesPrevalenceAfghanistan.values\n",
        "diabetesPrevalenceAfghanistan = diabetesPrevalenceAfghanistan.reshape(-1, 1)\n",
        "diabetesPrevalenceAfghanistan = scaler.fit_transform(diabetesPrevalenceAfghanistan)\n",
        "\n",
        "\n",
        "cardiovascDeathRateAfghanistan = cardiovascDeathRateAfghanistan.values\n",
        "cardiovascDeathRateAfghanistan = cardiovascDeathRateAfghanistan.reshape(-1, 1)\n",
        "cardiovascDeathRateAfghanistan = scaler.fit_transform(cardiovascDeathRateAfghanistan)\n",
        "\n",
        "\n",
        "PoPulationAfghanistan = PoPulationAfghanistan.values\n",
        "PoPulationAfghanistan = PoPulationAfghanistan.reshape(-1, 1)\n",
        "PoPulationAfghanistan = scaler.fit_transform(PoPulationAfghanistan)\n",
        "\n",
        "\n",
        "X = np.column_stack((newCasesAfghanistan, newCasesSmoothedAfghanistan, diabetesPrevalenceAfghanistan, cardiovascDeathRateAfghanistan, PoPulationAfghanistan))\n",
        "print(X.shape)\n",
        "\n",
        "\n",
        "y =  (newDeathsAfghanistan)\n",
        "print(y.shape)\n",
        "#eğitim ve test veri setlerinin ayrılması\n",
        "X_train, X_test, y_train, y_test = train_test_split(X, y, test_size=0.3,random_state=44)\n",
        "\n",
        "y_train = np.array(y_train)\n",
        "y_test = np.array(y_test)\n",
        "y_train = scaler.fit_transform(y_train.reshape(-1, 1))\n",
        "y_test = scaler.fit_transform(y_test.reshape(-1, 1))\n",
        "print(len(X_test))\n",
        "print(len(X_train))"
      ],
      "metadata": {
        "colab": {
          "base_uri": "https://localhost:8080/"
        },
        "id": "ej-kKS6uGqJ2",
        "outputId": "fdc8a633-25e7-408d-9dbe-8d2d82a2cc09"
      },
      "execution_count": null,
      "outputs": [
        {
          "output_type": "stream",
          "name": "stdout",
          "text": [
            "(220, 5)\n",
            "(220,)\n",
            "66\n",
            "154\n"
          ]
        }
      ]
    },
    {
      "cell_type": "code",
      "source": [
        "import time\n",
        "from sklearn.svm import SVR\n",
        "svr=SVR(kernel='rbf')#linear,rbf,poly,sigmoid\n",
        "\n",
        "\n",
        "start_time = time.time()\n",
        "\n",
        "svr.fit(X_train,y_train)#X den Y öğren\n",
        "\n",
        "end_time = time.time()\n",
        "\n",
        "# Bir epok için geçen süreyi hesapla\n",
        "trainTime = end_time - start_time\n",
        "print(f\" eğitim için geçen süre: {trainTime:.2f} saniye\")"
      ],
      "metadata": {
        "colab": {
          "base_uri": "https://localhost:8080/"
        },
        "id": "saTEaEauGvpQ",
        "outputId": "3e5f8afa-45bb-4622-f833-c11c378c24c5"
      },
      "execution_count": null,
      "outputs": [
        {
          "output_type": "stream",
          "name": "stdout",
          "text": [
            " eğitim için geçen süre: 0.01 saniye\n"
          ]
        },
        {
          "output_type": "stream",
          "name": "stderr",
          "text": [
            "/usr/local/lib/python3.10/dist-packages/sklearn/utils/validation.py:1143: DataConversionWarning: A column-vector y was passed when a 1d array was expected. Please change the shape of y to (n_samples, ), for example using ravel().\n",
            "  y = column_or_1d(y, warn=True)\n"
          ]
        }
      ]
    },
    {
      "cell_type": "code",
      "source": [
        "# Eğitim setindeki tahminler\n",
        "y_train_pred = svr.predict(X_train)\n",
        "# Test setindeki tahminler\n",
        "y_test_pred = svr.predict(X_test)"
      ],
      "metadata": {
        "id": "WB2N8yy7G7N9"
      },
      "execution_count": null,
      "outputs": []
    },
    {
      "cell_type": "code",
      "source": [
        "from sklearn.metrics import mean_absolute_error, mean_squared_error\n",
        "\n",
        "\n",
        "mean_absolute_error(y_test, y_test_pred)"
      ],
      "metadata": {
        "colab": {
          "base_uri": "https://localhost:8080/"
        },
        "id": "ajhArVISG9bR",
        "outputId": "da22a289-2a63-4e4f-c1a5-fdc1221d0ef2"
      },
      "execution_count": null,
      "outputs": [
        {
          "output_type": "execute_result",
          "data": {
            "text/plain": [
              "0.08372365639513184"
            ]
          },
          "metadata": {},
          "execution_count": 11
        }
      ]
    },
    {
      "cell_type": "code",
      "source": [
        "mean_squared_error(y_test, y_test_pred)"
      ],
      "metadata": {
        "colab": {
          "base_uri": "https://localhost:8080/"
        },
        "id": "4axRBoAKHAaj",
        "outputId": "01cedd87-f0e4-4548-f1e1-5a194f4f441a"
      },
      "execution_count": null,
      "outputs": [
        {
          "output_type": "execute_result",
          "data": {
            "text/plain": [
              "0.014585531632737367"
            ]
          },
          "metadata": {},
          "execution_count": 12
        }
      ]
    },
    {
      "cell_type": "code",
      "source": [],
      "metadata": {
        "id": "auf19mOJHCDk"
      },
      "execution_count": null,
      "outputs": []
    }
  ]
}